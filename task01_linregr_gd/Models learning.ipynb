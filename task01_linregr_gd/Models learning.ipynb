{
 "cells": [
  {
   "cell_type": "markdown",
   "id": "fb718d8f",
   "metadata": {},
   "source": [
    "# Обучение моделей"
   ]
  },
  {
   "cell_type": "markdown",
   "id": "0c9f127a",
   "metadata": {},
   "source": [
    "## Работа с данными, которые доставлись с главы \"Data analysis\""
   ]
  },
  {
   "cell_type": "markdown",
   "id": "316ec225",
   "metadata": {},
   "source": [
    "Подключаем библиотеки"
   ]
  },
  {
   "cell_type": "code",
   "execution_count": 1,
   "id": "c120268a",
   "metadata": {},
   "outputs": [],
   "source": [
    "import numpy as np \n",
    "import pandas as pd\n",
    "import matplotlib.pyplot as plt\n",
    "%matplotlib inline\n",
    "import seaborn as sns\n",
    "\n",
    "# устанавливаем точность чисел с плавающей точкой\n",
    "%precision %.4f\n",
    "\n",
    "import warnings\n",
    "warnings.filterwarnings('ignore')  # отключаем предупреждения"
   ]
  },
  {
   "cell_type": "markdown",
   "id": "4a5defe1",
   "metadata": {},
   "source": [
    "Читаем ранее сохраненные данные"
   ]
  },
  {
   "cell_type": "code",
   "execution_count": 2,
   "id": "ab5240be",
   "metadata": {},
   "outputs": [],
   "source": [
    "df = pd.read_csv('Data/newCarDetails.csv')"
   ]
  },
  {
   "cell_type": "code",
   "execution_count": 3,
   "id": "2972e0e7",
   "metadata": {},
   "outputs": [
    {
     "data": {
      "text/html": [
       "<div>\n",
       "<style scoped>\n",
       "    .dataframe tbody tr th:only-of-type {\n",
       "        vertical-align: middle;\n",
       "    }\n",
       "\n",
       "    .dataframe tbody tr th {\n",
       "        vertical-align: top;\n",
       "    }\n",
       "\n",
       "    .dataframe thead th {\n",
       "        text-align: right;\n",
       "    }\n",
       "</style>\n",
       "<table border=\"1\" class=\"dataframe\">\n",
       "  <thead>\n",
       "    <tr style=\"text-align: right;\">\n",
       "      <th></th>\n",
       "      <th>Unnamed: 0</th>\n",
       "      <th>year</th>\n",
       "      <th>selling_price</th>\n",
       "      <th>km_driven</th>\n",
       "      <th>fuel</th>\n",
       "      <th>seller_type</th>\n",
       "      <th>transmission</th>\n",
       "      <th>owner</th>\n",
       "      <th>brand</th>\n",
       "    </tr>\n",
       "  </thead>\n",
       "  <tbody>\n",
       "    <tr>\n",
       "      <th>0</th>\n",
       "      <td>0</td>\n",
       "      <td>2007</td>\n",
       "      <td>60000</td>\n",
       "      <td>70000</td>\n",
       "      <td>1</td>\n",
       "      <td>0</td>\n",
       "      <td>0</td>\n",
       "      <td>0</td>\n",
       "      <td>0</td>\n",
       "    </tr>\n",
       "    <tr>\n",
       "      <th>1</th>\n",
       "      <td>1</td>\n",
       "      <td>2007</td>\n",
       "      <td>135000</td>\n",
       "      <td>50000</td>\n",
       "      <td>1</td>\n",
       "      <td>0</td>\n",
       "      <td>0</td>\n",
       "      <td>0</td>\n",
       "      <td>0</td>\n",
       "    </tr>\n",
       "    <tr>\n",
       "      <th>2</th>\n",
       "      <td>2</td>\n",
       "      <td>2012</td>\n",
       "      <td>600000</td>\n",
       "      <td>100000</td>\n",
       "      <td>0</td>\n",
       "      <td>0</td>\n",
       "      <td>0</td>\n",
       "      <td>0</td>\n",
       "      <td>1</td>\n",
       "    </tr>\n",
       "    <tr>\n",
       "      <th>3</th>\n",
       "      <td>3</td>\n",
       "      <td>2017</td>\n",
       "      <td>250000</td>\n",
       "      <td>46000</td>\n",
       "      <td>1</td>\n",
       "      <td>0</td>\n",
       "      <td>0</td>\n",
       "      <td>0</td>\n",
       "      <td>13</td>\n",
       "    </tr>\n",
       "    <tr>\n",
       "      <th>4</th>\n",
       "      <td>4</td>\n",
       "      <td>2014</td>\n",
       "      <td>450000</td>\n",
       "      <td>141000</td>\n",
       "      <td>0</td>\n",
       "      <td>0</td>\n",
       "      <td>0</td>\n",
       "      <td>1</td>\n",
       "      <td>4</td>\n",
       "    </tr>\n",
       "  </tbody>\n",
       "</table>\n",
       "</div>"
      ],
      "text/plain": [
       "   Unnamed: 0  year  selling_price  km_driven  fuel  seller_type  \\\n",
       "0           0  2007          60000      70000     1            0   \n",
       "1           1  2007         135000      50000     1            0   \n",
       "2           2  2012         600000     100000     0            0   \n",
       "3           3  2017         250000      46000     1            0   \n",
       "4           4  2014         450000     141000     0            0   \n",
       "\n",
       "   transmission  owner  brand  \n",
       "0             0      0      0  \n",
       "1             0      0      0  \n",
       "2             0      0      1  \n",
       "3             0      0     13  \n",
       "4             0      1      4  "
      ]
     },
     "execution_count": 3,
     "metadata": {},
     "output_type": "execute_result"
    }
   ],
   "source": [
    "df.head()"
   ]
  },
  {
   "cell_type": "markdown",
   "id": "f8eb9f28",
   "metadata": {},
   "source": [
    "Удаляем лишнюю колонку"
   ]
  },
  {
   "cell_type": "code",
   "execution_count": 4,
   "id": "784a27e6",
   "metadata": {},
   "outputs": [
    {
     "data": {
      "text/plain": [
       "(4209, 8)"
      ]
     },
     "execution_count": 4,
     "metadata": {},
     "output_type": "execute_result"
    }
   ],
   "source": [
    "df = df.drop(columns=[\"Unnamed: 0\"])\n",
    "\n",
    "df.shape"
   ]
  },
  {
   "cell_type": "code",
   "execution_count": 5,
   "id": "447bf2d1",
   "metadata": {},
   "outputs": [],
   "source": [
    "from sklearn.model_selection import train_test_split\n",
    "\n",
    "y = df[\"selling_price\"]\n",
    "X = df.drop(columns=[\"selling_price\"])\n",
    "\n",
    "X_train, X_test, y_train, y_test = train_test_split(X, y, test_size=0.3, random_state=42)"
   ]
  },
  {
   "cell_type": "code",
   "execution_count": 6,
   "id": "7f9b759b",
   "metadata": {},
   "outputs": [
    {
     "data": {
      "text/plain": [
       "370      800000\n",
       "3392     150000\n",
       "2208     235000\n",
       "3942    1050000\n",
       "1105     150000\n",
       "Name: selling_price, dtype: int64"
      ]
     },
     "execution_count": 6,
     "metadata": {},
     "output_type": "execute_result"
    }
   ],
   "source": [
    "y_train.head()"
   ]
  },
  {
   "cell_type": "markdown",
   "id": "53fd309e",
   "metadata": {},
   "source": [
    "Посмотрим какие значения принимает целевой признак"
   ]
  },
  {
   "cell_type": "code",
   "execution_count": 7,
   "id": "f806e721",
   "metadata": {},
   "outputs": [
    {
     "data": {
      "image/png": "[encoded data removed]",
      "text/plain": [
       "<Figure size 432x288 with 1 Axes>"
      ]
     },
     "metadata": {
      "needs_background": "light"
     },
     "output_type": "display_data"
    }
   ],
   "source": [
    "sns.distplot(y_train);"
   ]
  },
  {
   "cell_type": "markdown",
   "id": "ce0dc2aa",
   "metadata": {},
   "source": [
    "Посмотрим какая есть корреляция между признаками."
   ]
  },
  {
   "cell_type": "code",
   "execution_count": 8,
   "id": "819f21fe",
   "metadata": {},
   "outputs": [
    {
     "data": {
      "image/png": "[encoded data removed]",
      "text/plain": [
       "<Figure size 1080x720 with 1 Axes>"
      ]
     },
     "metadata": {
      "needs_background": "light"
     },
     "output_type": "display_data"
    }
   ],
   "source": [
    "numeric_features = X_train.columns\n",
    "\n",
    "correlations = X_train[numeric_features].corrwith(y_train).sort_values(ascending=False)\n",
    "\n",
    "plot = sns.barplot(y=correlations.index, x=correlations)\n",
    "plot.figure.set_size_inches(15, 10)"
   ]
  },
  {
   "cell_type": "markdown",
   "id": "4b47b001",
   "metadata": {},
   "source": [
    "Зависимость между признаками умеренная"
   ]
  },
  {
   "cell_type": "code",
   "execution_count": 9,
   "id": "8283c9a6",
   "metadata": {},
   "outputs": [
    {
     "name": "stdout",
     "output_type": "stream",
     "text": [
      "Test RMSE = 214346.34752152069\n",
      "Train RMSE = 212398.819859558\n",
      "Train R2 = 0.5019\n",
      "Test R2 = 0.5136\n"
     ]
    }
   ],
   "source": [
    "from sklearn.linear_model import Ridge\n",
    "from sklearn.metrics import mean_squared_error, r2_score\n",
    "\n",
    "model = Ridge()  # выбранная модель\n",
    "\n",
    "model.fit(X_train[numeric_features], y_train)  # обучение модели на обучающей выборке\n",
    "\n",
    "y_train_pred = model.predict(X_train[numeric_features])  # использование модели для предсказания на обучающей\n",
    "y_test_pred = model.predict(X_test[numeric_features])  # или на тестовой выборке\n",
    "\n",
    "print(\"Test RMSE =\", mean_squared_error(y_test, y_test_pred, squared=False))\n",
    "print(\"Train RMSE =\", mean_squared_error(y_train, y_train_pred, squared=False))\n",
    "print(\"Train R2 = %.4f\" % r2_score(y_train, y_train_pred))\n",
    "print(\"Test R2 = %.4f\" % r2_score(y_test, y_test_pred))"
   ]
  },
  {
   "cell_type": "markdown",
   "id": "4080140d",
   "metadata": {},
   "source": [
    "Посмотрим на модель с глупым предсказателем. "
   ]
  },
  {
   "cell_type": "code",
   "execution_count": 10,
   "id": "aee906b8",
   "metadata": {},
   "outputs": [
    {
     "name": "stdout",
     "output_type": "stream",
     "text": [
      "Test RMSE with stupid predictor = 307775.76456505095\n",
      "Train RMSE with stupid predictor = 300953.91985667974\n"
     ]
    }
   ],
   "source": [
    "stupid_pred = y_train.mean()\n",
    "print(\"Test RMSE with stupid predictor =\", mean_squared_error(y_test, stupid_pred * np.ones(y_test.shape),\n",
    "                                                                 squared=False))\n",
    "print(\"Train RMSE with stupid predictor =\", mean_squared_error(y_train, stupid_pred * np.ones(y_train.shape),\n",
    "                                                                  squared=False))"
   ]
  },
  {
   "cell_type": "markdown",
   "id": "774f961f",
   "metadata": {},
   "source": [
    "Далее, анализируя веса, можно понять какие зависимости нашла модель."
   ]
  },
  {
   "cell_type": "code",
   "execution_count": 11,
   "id": "bb54691c",
   "metadata": {},
   "outputs": [
    {
     "data": {
      "image/png": "[encoded data removed]",
      "text/plain": [
       "<Figure size 720x720 with 1 Axes>"
      ]
     },
     "metadata": {
      "needs_background": "light"
     },
     "output_type": "display_data"
    }
   ],
   "source": [
    "fig, ax = plt.subplots(figsize=(10, 10))\n",
    "\n",
    "sorted_weights = sorted(zip(model.coef_, numeric_features, X_train[numeric_features].std()), reverse=True)\n",
    "weights = [x[0] for x in sorted_weights]\n",
    "features = [x[1] for x in sorted_weights]\n",
    "sns.barplot(y=features, x=weights, ax=ax)\n",
    "plt.show()"
   ]
  },
  {
   "cell_type": "code",
   "execution_count": 12,
   "id": "dd77088e",
   "metadata": {},
   "outputs": [
    {
     "data": {
      "image/png": "[encoded data removed]",
      "text/plain": [
       "<Figure size 720x720 with 1 Axes>"
      ]
     },
     "metadata": {
      "needs_background": "light"
     },
     "output_type": "display_data"
    }
   ],
   "source": [
    "fig, ax = plt.subplots(figsize=(10, 10))\n",
    "scales = [x[2] for x in sorted_weights]\n",
    "sns.barplot(y=features, x=scales, ax=ax)\n",
    "plt.show()"
   ]
  },
  {
   "cell_type": "markdown",
   "id": "f3b03733",
   "metadata": {},
   "source": [
    "Поэтому надо масштабировать признаки перед обучением модели. Для этого воспользуемся трансформером StandardScaler."
   ]
  },
  {
   "cell_type": "code",
   "execution_count": 13,
   "id": "fe07c73a",
   "metadata": {},
   "outputs": [
    {
     "name": "stdout",
     "output_type": "stream",
     "text": [
      "Test RMSE = 214337.8629\n",
      "Train RMSE = 212398.4910\n",
      "Train R2 = 0.5019\n",
      "Test R2 = 0.5137\n"
     ]
    }
   ],
   "source": [
    "from sklearn.preprocessing import StandardScaler\n",
    "\n",
    "scaler = StandardScaler()  # воспользуемся стандартным трансформером\n",
    "\n",
    "# масштабируем обучающую выборку и запоминаем среднее, стандартное отклонение признаков\n",
    "X_train_scaled = scaler.fit_transform(X_train[numeric_features])\n",
    "\n",
    "# масштабируем тестовую выборку используя статистики обучающей выборки\n",
    "X_test_scaled = scaler.transform(X_test[numeric_features])\n",
    "\n",
    "model = Ridge()\n",
    "model.fit(X_train_scaled, y_train)\n",
    "y_test_pred = model.predict(X_test_scaled)\n",
    "y_train_pred = model.predict(X_train_scaled)\n",
    "\n",
    "print(\"Test RMSE = %.4f\" % mean_squared_error(y_test, y_test_pred, squared=False))\n",
    "print(\"Train RMSE = %.4f\" % mean_squared_error(y_train, y_train_pred, squared=False))\n",
    "print(\"Train R2 = %.4f\" % r2_score(y_train, y_train_pred))\n",
    "print(\"Test R2 = %.4f\" % r2_score(y_test, y_test_pred))"
   ]
  },
  {
   "cell_type": "markdown",
   "id": "5336ff99",
   "metadata": {},
   "source": [
    "Теперь обучение и оценка важности признаков, а также регуляризация стали честнее."
   ]
  },
  {
   "cell_type": "code",
   "execution_count": 14,
   "id": "dcce55f1",
   "metadata": {},
   "outputs": [
    {
     "data": {
      "image/png": "[encoded data removed]",
      "text/plain": [
       "<Figure size 720x720 with 1 Axes>"
      ]
     },
     "metadata": {
      "needs_background": "light"
     },
     "output_type": "display_data"
    }
   ],
   "source": [
    "fig, ax = plt.subplots(figsize=(10, 10))\n",
    "\n",
    "sorted_weights = sorted(zip(model.coef_, numeric_features, X_train_scaled.std(axis=0)), reverse=True)\n",
    "weights = [x[0] for x in sorted_weights]\n",
    "features = [x[1] for x in sorted_weights]\n",
    "sns.barplot(y=features, x=weights, ax=ax)\n",
    "plt.show()"
   ]
  },
  {
   "cell_type": "code",
   "execution_count": 15,
   "id": "757cdb2d",
   "metadata": {},
   "outputs": [
    {
     "data": {
      "image/png": "[encoded data removed]",
      "text/plain": [
       "<Figure size 720x720 with 1 Axes>"
      ]
     },
     "metadata": {
      "needs_background": "light"
     },
     "output_type": "display_data"
    }
   ],
   "source": [
    "fig, ax = plt.subplots(figsize=(10, 10))\n",
    "scales = [x[2] for x in sorted_weights]\n",
    "sns.barplot(y=features, x=scales, ax=ax)\n",
    "plt.show()"
   ]
  },
  {
   "cell_type": "markdown",
   "id": "4774e855",
   "metadata": {},
   "source": [
    "## Обучение модели с использованием собственного градиентного спуска"
   ]
  },
  {
   "cell_type": "code",
   "execution_count": 22,
   "id": "2aa529dc",
   "metadata": {},
   "outputs": [],
   "source": [
    "def gradient_descent(x, y, alfa, iters, learning_rate, theta):\n",
    "    shift = 0\n",
    "    \n",
    "    for i in range(iters):\n",
    "        tmp_y = np.dot(x, theta) + shift\n",
    "        tmp_theta = (1 / x.shape[0]) * (alfa * np.dot(x.T, (tmp_y - y)))\n",
    "        tmp_shift = (1 / x.shape[0]) * (alfa * np.sum(tmp_y - y))\n",
    "\n",
    "        theta = theta - learning_rate * tmp_theta\n",
    "        shift = shift - learning_rate * tmp_shift\n",
    "\n",
    "    return theta, shift"
   ]
  },
  {
   "cell_type": "markdown",
   "id": "af98849f",
   "metadata": {},
   "source": [
    "Задаем параметры"
   ]
  },
  {
   "cell_type": "code",
   "execution_count": 23,
   "id": "8b7eaa4c",
   "metadata": {},
   "outputs": [],
   "source": [
    "iters = 5000\n",
    "alfa = 0.1\n",
    "learning_rate = 0.1\n",
    "theta = np.zeros(X_train_scaled.shape[1])"
   ]
  },
  {
   "cell_type": "code",
   "execution_count": 24,
   "id": "b868a822",
   "metadata": {},
   "outputs": [
    {
     "name": "stdout",
     "output_type": "stream",
     "text": [
      "0.513694997555207\n"
     ]
    }
   ],
   "source": [
    "theta_final, gd_shift = gradient_descent(X_train_scaled, y_train, alfa, iters, learning_rate, theta)\n",
    "y_test_pred = np.dot(X_test_scaled, theta_final) + gd_shift\n",
    "y_train_pred = np.dot(X_train_scaled, theta_final) + gd_shift\n",
    "\n",
    "# делаем, чтобы значения rmse и mse были более читабельными\n",
    "y_test_new = y_test / 100000\n",
    "y_train_new = y_train / 100000\n",
    "y_test_pred = y_test_pred / 100000\n",
    "y_train_pred = y_train_pred / 100000\n",
    "\n",
    "gd_test_rmse = mean_squared_error(y_test_new, y_test_pred, squared=False)\n",
    "gd_train_rmse = mean_squared_error(y_train_new, y_train_pred, squared=False)\n",
    "\n",
    "gd_test_mse = mean_squared_error(y_test_new, y_test_pred, squared=True)\n",
    "gd_train_mse = mean_squared_error(y_train_new, y_train_pred, squared=True)\n",
    "\n",
    "gd_test_r2 = r2_score(y_test_new, y_test_pred)\n",
    "gd_train_r2 = r2_score(y_train_new, y_train_pred)\n",
    "print(gd_test_r2)"
   ]
  },
  {
   "cell_type": "markdown",
   "id": "873ed245",
   "metadata": {},
   "source": [
    "## Обучение модели, используя библиотеку Ridge"
   ]
  },
  {
   "cell_type": "markdown",
   "id": "b132f620",
   "metadata": {},
   "source": [
    "Ищем оптимальное alpha для Ridge"
   ]
  },
  {
   "cell_type": "code",
   "execution_count": 25,
   "id": "963aec33",
   "metadata": {},
   "outputs": [
    {
     "data": {
      "text/plain": [
       "17.0"
      ]
     },
     "execution_count": 25,
     "metadata": {},
     "output_type": "execute_result"
    }
   ],
   "source": [
    "from sklearn.linear_model import RidgeCV\n",
    "from sklearn.datasets import load_boston\n",
    "from sklearn.preprocessing import StandardScaler\n",
    "\n",
    "regr_cv = RidgeCV(alphas=[0.1, 1.0, 10.0, 11.0, 15.0, 17.0, 17.001, 17.1, 17.2])\n",
    "model_cv = regr_cv.fit(X_train_scaled, y_train)\n",
    "model_cv.alpha_"
   ]
  },
  {
   "cell_type": "code",
   "execution_count": 26,
   "id": "a54a476a",
   "metadata": {},
   "outputs": [
    {
     "name": "stdout",
     "output_type": "stream",
     "text": [
      "0.5135499143263562\n"
     ]
    }
   ],
   "source": [
    "alpha = 17.0\n",
    "\n",
    "ridge_regression = Ridge(alpha=alpha)\n",
    "ridge_regression.fit(X_train_scaled, y_train)\n",
    "y_test_pred = ridge_regression.predict(X_test_scaled)\n",
    "y_train_pred = model.predict(X_train_scaled)\n",
    "\n",
    "y_test_new = y_test / 100000\n",
    "y_train_new = y_train / 100000\n",
    "y_test_pred = y_test_pred / 100000\n",
    "y_train_pred = y_train_pred / 100000\n",
    "\n",
    "ridge_test_rmse = mean_squared_error(y_test_new, y_test_pred, squared=False)\n",
    "ridge_train_rmse = mean_squared_error(y_train_new, y_train_pred, squared=False)\n",
    "\n",
    "ridge_test_mse = mean_squared_error(y_test_new, y_test_pred, squared=True)\n",
    "ridge_train_mse = mean_squared_error(y_train_new, y_train_pred, squared=True)\n",
    "\n",
    "ridge_test_r2 = r2_score(y_test_new, y_test_pred)\n",
    "ridge_train_r2 = r2_score(y_train_new, y_train_pred)\n",
    "\n",
    "# вывод точности предсказания\n",
    "print(ridge_regression.score(X_test_scaled, y_test))"
   ]
  },
  {
   "cell_type": "markdown",
   "id": "ec1768ee",
   "metadata": {},
   "source": [
    "## Сравнение результатов обучения моделей"
   ]
  },
  {
   "cell_type": "code",
   "execution_count": 27,
   "id": "723750a9",
   "metadata": {},
   "outputs": [
    {
     "data": {
      "text/html": [
       "<div>\n",
       "<style scoped>\n",
       "    .dataframe tbody tr th:only-of-type {\n",
       "        vertical-align: middle;\n",
       "    }\n",
       "\n",
       "    .dataframe tbody tr th {\n",
       "        vertical-align: top;\n",
       "    }\n",
       "\n",
       "    .dataframe thead th {\n",
       "        text-align: right;\n",
       "    }\n",
       "</style>\n",
       "<table border=\"1\" class=\"dataframe\">\n",
       "  <thead>\n",
       "    <tr style=\"text-align: right;\">\n",
       "      <th></th>\n",
       "      <th>mertrics\\data</th>\n",
       "      <th>gd train</th>\n",
       "      <th>gd test</th>\n",
       "      <th>Ridge train</th>\n",
       "      <th>Ridge test</th>\n",
       "    </tr>\n",
       "  </thead>\n",
       "  <tbody>\n",
       "    <tr>\n",
       "      <th>0</th>\n",
       "      <td>MSE</td>\n",
       "      <td>4.511312</td>\n",
       "      <td>4.593997</td>\n",
       "      <td>4.511312</td>\n",
       "      <td>4.595368</td>\n",
       "    </tr>\n",
       "    <tr>\n",
       "      <th>1</th>\n",
       "      <td>RMSE</td>\n",
       "      <td>2.123985</td>\n",
       "      <td>2.143361</td>\n",
       "      <td>2.123985</td>\n",
       "      <td>2.143681</td>\n",
       "    </tr>\n",
       "    <tr>\n",
       "      <th>2</th>\n",
       "      <td>R2</td>\n",
       "      <td>0.501916</td>\n",
       "      <td>0.513695</td>\n",
       "      <td>0.501916</td>\n",
       "      <td>0.513550</td>\n",
       "    </tr>\n",
       "  </tbody>\n",
       "</table>\n",
       "</div>"
      ],
      "text/plain": [
       "  mertrics\\data  gd train   gd test  Ridge train  Ridge test\n",
       "0           MSE  4.511312  4.593997     4.511312    4.595368\n",
       "1          RMSE  2.123985  2.143361     2.123985    2.143681\n",
       "2            R2  0.501916  0.513695     0.501916    0.513550"
      ]
     },
     "execution_count": 27,
     "metadata": {},
     "output_type": "execute_result"
    }
   ],
   "source": [
    "table = {\n",
    "    'mertrics\\data': ['MSE', 'RMSE', 'R2'],\n",
    "    'gd train':[gd_train_mse, gd_train_rmse, gd_train_r2],\n",
    "    'gd test': [gd_test_mse, gd_test_rmse, gd_test_r2],\n",
    "    'Ridge train': [ridge_train_mse, ridge_train_rmse, ridge_train_r2],\n",
    "    'Ridge test': [ridge_test_mse, ridge_test_rmse, ridge_test_r2],\n",
    "}\n",
    "\n",
    "pd.DataFrame(data=table)"
   ]
  },
  {
   "cell_type": "markdown",
   "id": "6c3872e4",
   "metadata": {},
   "source": [
    "## Выводы\n",
    "Можно сделать вывод, что наша модель не уступает сущетсвующей модели Ridge."
   ]
  },
  {
   "cell_type": "markdown",
   "id": "27293ca2",
   "metadata": {},
   "source": [
    "## Кросс-валидация"
   ]
  },
  {
   "cell_type": "markdown",
   "id": "def053de",
   "metadata": {},
   "source": [
    "Для этого воспользуемся библиотекой sklearn. Будем использовать модель Ridge. Количество фолдов будет равно 5."
   ]
  },
  {
   "cell_type": "code",
   "execution_count": 28,
   "id": "43d773a3",
   "metadata": {},
   "outputs": [
    {
     "data": {
      "text/html": [
       "<div>\n",
       "<style scoped>\n",
       "    .dataframe tbody tr th:only-of-type {\n",
       "        vertical-align: middle;\n",
       "    }\n",
       "\n",
       "    .dataframe tbody tr th {\n",
       "        vertical-align: top;\n",
       "    }\n",
       "\n",
       "    .dataframe thead th {\n",
       "        text-align: right;\n",
       "    }\n",
       "</style>\n",
       "<table border=\"1\" class=\"dataframe\">\n",
       "  <thead>\n",
       "    <tr style=\"text-align: right;\">\n",
       "      <th></th>\n",
       "      <th>2</th>\n",
       "      <th>3</th>\n",
       "      <th>4</th>\n",
       "      <th>5</th>\n",
       "      <th>6</th>\n",
       "      <th>E</th>\n",
       "      <th>STD</th>\n",
       "    </tr>\n",
       "  </thead>\n",
       "  <tbody>\n",
       "    <tr>\n",
       "      <th>test_mse</th>\n",
       "      <td>4.541350e+10</td>\n",
       "      <td>4.617236e+10</td>\n",
       "      <td>4.739936e+10</td>\n",
       "      <td>4.350737e+10</td>\n",
       "      <td>4.526606e+10</td>\n",
       "      <td>4.555173e+10</td>\n",
       "      <td>1.271144e+09</td>\n",
       "    </tr>\n",
       "    <tr>\n",
       "      <th>train_mse</th>\n",
       "      <td>4.541294e+10</td>\n",
       "      <td>4.522301e+10</td>\n",
       "      <td>4.484497e+10</td>\n",
       "      <td>4.583331e+10</td>\n",
       "      <td>4.536352e+10</td>\n",
       "      <td>4.533555e+10</td>\n",
       "      <td>3.187087e+08</td>\n",
       "    </tr>\n",
       "    <tr>\n",
       "      <th>test_rmse</th>\n",
       "      <td>2.131044e+05</td>\n",
       "      <td>2.148775e+05</td>\n",
       "      <td>2.177139e+05</td>\n",
       "      <td>2.085842e+05</td>\n",
       "      <td>2.127582e+05</td>\n",
       "      <td>2.134077e+05</td>\n",
       "      <td>2.982751e+03</td>\n",
       "    </tr>\n",
       "    <tr>\n",
       "      <th>train_rmse</th>\n",
       "      <td>2.131031e+05</td>\n",
       "      <td>2.126570e+05</td>\n",
       "      <td>2.117663e+05</td>\n",
       "      <td>2.140872e+05</td>\n",
       "      <td>2.129871e+05</td>\n",
       "      <td>2.129201e+05</td>\n",
       "      <td>7.483956e+02</td>\n",
       "    </tr>\n",
       "    <tr>\n",
       "      <th>test_r2</th>\n",
       "      <td>5.113819e-01</td>\n",
       "      <td>5.100432e-01</td>\n",
       "      <td>4.760278e-01</td>\n",
       "      <td>5.162387e-01</td>\n",
       "      <td>5.025294e-01</td>\n",
       "      <td>5.032442e-01</td>\n",
       "      <td>1.430070e-02</td>\n",
       "    </tr>\n",
       "    <tr>\n",
       "      <th>train_r2</th>\n",
       "      <td>5.033938e-01</td>\n",
       "      <td>5.039849e-01</td>\n",
       "      <td>5.130494e-01</td>\n",
       "      <td>5.032007e-01</td>\n",
       "      <td>5.068370e-01</td>\n",
       "      <td>5.060932e-01</td>\n",
       "      <td>3.715920e-03</td>\n",
       "    </tr>\n",
       "  </tbody>\n",
       "</table>\n",
       "</div>"
      ],
      "text/plain": [
       "                       2             3             4             5  \\\n",
       "test_mse    4.541350e+10  4.617236e+10  4.739936e+10  4.350737e+10   \n",
       "train_mse   4.541294e+10  4.522301e+10  4.484497e+10  4.583331e+10   \n",
       "test_rmse   2.131044e+05  2.148775e+05  2.177139e+05  2.085842e+05   \n",
       "train_rmse  2.131031e+05  2.126570e+05  2.117663e+05  2.140872e+05   \n",
       "test_r2     5.113819e-01  5.100432e-01  4.760278e-01  5.162387e-01   \n",
       "train_r2    5.033938e-01  5.039849e-01  5.130494e-01  5.032007e-01   \n",
       "\n",
       "                       6             E           STD  \n",
       "test_mse    4.526606e+10  4.555173e+10  1.271144e+09  \n",
       "train_mse   4.536352e+10  4.533555e+10  3.187087e+08  \n",
       "test_rmse   2.127582e+05  2.134077e+05  2.982751e+03  \n",
       "train_rmse  2.129871e+05  2.129201e+05  7.483956e+02  \n",
       "test_r2     5.025294e-01  5.032442e-01  1.430070e-02  \n",
       "train_r2    5.068370e-01  5.060932e-01  3.715920e-03  "
      ]
     },
     "execution_count": 28,
     "metadata": {},
     "output_type": "execute_result"
    }
   ],
   "source": [
    "from sklearn.model_selection import KFold, cross_validate\n",
    "from statistics import mean\n",
    "\n",
    "\n",
    "scoring = {'neg_mse': 'neg_mean_squared_error',\n",
    "           'neg_rmse': 'neg_root_mean_squared_error',\n",
    "           'r2': 'r2'}\n",
    "\n",
    "k_folds = KFold(n_splits = 5, random_state=42, shuffle=True)\n",
    "scores = cross_validate(Ridge(alpha=17), X, y, cv = k_folds,\n",
    "                                scoring={'neg_mse': 'neg_mean_squared_error',\n",
    "                                         'neg_rmse': 'neg_root_mean_squared_error',\n",
    "                                         'r2': 'r2'},\n",
    "                                return_train_score = True)\n",
    "\n",
    "scores_df = pd.DataFrame([], ['MSE', 'RMSE', 'R2'], columns=[])\n",
    "scores_df = pd.DataFrame(scores)\n",
    "\n",
    "scores_df.drop(['fit_time', 'score_time'], axis = 1, inplace = True)\n",
    "scores_df['test_neg_mse'] = -scores_df['test_neg_mse']\n",
    "scores_df['train_neg_mse'] = -scores_df['train_neg_mse']\n",
    "scores_df['test_neg_rmse'] = -scores_df['test_neg_rmse']\n",
    "scores_df['train_neg_rmse'] = -scores_df['train_neg_rmse']\n",
    "scores_df.rename(columns = {\"test_neg_mse\" : \"test_mse\",\n",
    "                                  \"train_neg_mse\" : \"train_mse\",\n",
    "                                  \"test_neg_rmse\" : \"test_rmse\",\n",
    "                                  \"train_neg_rmse\" : \"train_rmse\"},\n",
    "                       inplace = True)\n",
    "scores_df = scores_df.transpose()\n",
    "scores_df.set_axis(['2','3','4','5','6'], axis=1, inplace = True)\n",
    "scores_df['E'] = scores_df.mean(numeric_only=True,axis=1)\n",
    "scores_df['STD'] = scores_df.std(numeric_only=True,axis=1)\n",
    "\n",
    "scores_df"
   ]
  },
  {
   "cell_type": "markdown",
   "id": "f6fd8588",
   "metadata": {},
   "source": [
    "## Выводы\n",
    "\n",
    "Значение 5.162387e-01\tможно также записать как 0.5162387, что больше чем полученное нами без использования данного метода."
   ]
  },
  {
   "cell_type": "code",
   "execution_count": null,
   "id": "7c7f5b02",
   "metadata": {},
   "outputs": [],
   "source": []
  }
 ],
 "metadata": {
  "kernelspec": {
   "display_name": "Python 3 (ipykernel)",
   "language": "python",
   "name": "python3"
  },
  "language_info": {
   "codemirror_mode": {
    "name": "ipython",
    "version": 3
   },
   "file_extension": ".py",
   "mimetype": "text/x-python",
   "name": "python",
   "nbconvert_exporter": "python",
   "pygments_lexer": "ipython3",
   "version": "3.9.7"
  }
 },
 "nbformat": 4,
 "nbformat_minor": 5
}
