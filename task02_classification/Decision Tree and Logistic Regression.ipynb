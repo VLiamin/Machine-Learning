{
 "cells": [
  {
   "cell_type": "markdown",
   "id": "1cbd1e84",
   "metadata": {},
   "source": [
    "# Задача: Сравнение методов классификации. Лямин Владимир Андреевич. Группа 22.М05\n",
    "Задача\n",
    "1. [+] Самостоятельно реализовать один из методов классификации, с возможностью настройки гиперпараметров.\n",
    "2. [+] Взять данные для предсказания заболеваний сердца тут (целевой признак для предсказания --- target). Демо блакнот с анализом этих данных можно найти тут.\n",
    "3. [+] Считать данные, выполнить первичный анализ данных, при необходимости произвести чистку данных (Data Cleaning).\n",
    "4. [+] Выполнить разведочный анализ (EDA), использовать визуализацию, сделать выводы, которые могут быть полезны при дальнейшем решении задачи классификации.\n",
    "5. [+] При необходимости выполнить полезные преобразования данных (например, трансформировать категариальные признаки в количественные), убрать ненужные признаки, создать новые (Feature Engineering).\n",
    "6. [+] Используя подбор гиперпараметров, кросс-валидацию и при необходимости масштабирование данных, добиться наилучшего качества предсказания от Вашей реализации на выделенной заранее тестовой выборке.\n",
    "7. [+] Повторить предыдущий пункт для библиотечных реализаций (например, из sklearn) всех пройденных методов классификации (logistic regression, svm, knn, naive bayes, decision tree).\n",
    "8. [+] Сравнить все обученные модели, построить их confusion matrices. Сделать выводы о полученных моделях в рамках решения задачи классификации на выбранных данных.\n",
    "9. (+2 балла) Реализовать еще один из методов классификации и добавить его в сравнение."
   ]
  },
  {
   "cell_type": "markdown",
   "id": "2b21e5eb",
   "metadata": {},
   "source": [
    "Подключаем библиотеки"
   ]
  },
  {
   "cell_type": "code",
   "execution_count": 2,
   "id": "9891d5b1",
   "metadata": {},
   "outputs": [],
   "source": [
    "import numpy as np \n",
    "import pandas as pd\n",
    "import matplotlib.pyplot as plt\n",
    "%matplotlib inline\n",
    "import seaborn as sns\n",
    "\n",
    "# устанавливаем точность чисел с плавающей точкой\n",
    "%precision %.4f\n",
    "\n",
    "import warnings\n",
    "warnings.filterwarnings('ignore')  # отключаем предупреждения"
   ]
  },
  {
   "cell_type": "markdown",
   "id": "0d19aa05",
   "metadata": {},
   "source": [
    "Считываем данные"
   ]
  },
  {
   "cell_type": "code",
   "execution_count": 3,
   "id": "fa1d1123",
   "metadata": {},
   "outputs": [],
   "source": [
    "df = pd.read_csv('Data/heart.csv')"
   ]
  },
  {
   "cell_type": "code",
   "execution_count": 4,
   "id": "58c08aee",
   "metadata": {},
   "outputs": [
    {
     "data": {
      "text/html": [
       "<div>\n",
       "<style scoped>\n",
       "    .dataframe tbody tr th:only-of-type {\n",
       "        vertical-align: middle;\n",
       "    }\n",
       "\n",
       "    .dataframe tbody tr th {\n",
       "        vertical-align: top;\n",
       "    }\n",
       "\n",
       "    .dataframe thead th {\n",
       "        text-align: right;\n",
       "    }\n",
       "</style>\n",
       "<table border=\"1\" class=\"dataframe\">\n",
       "  <thead>\n",
       "    <tr style=\"text-align: right;\">\n",
       "      <th></th>\n",
       "      <th>age</th>\n",
       "      <th>sex</th>\n",
       "      <th>cp</th>\n",
       "      <th>trestbps</th>\n",
       "      <th>chol</th>\n",
       "      <th>fbs</th>\n",
       "      <th>restecg</th>\n",
       "      <th>thalach</th>\n",
       "      <th>exang</th>\n",
       "      <th>oldpeak</th>\n",
       "      <th>slope</th>\n",
       "      <th>ca</th>\n",
       "      <th>thal</th>\n",
       "      <th>target</th>\n",
       "    </tr>\n",
       "  </thead>\n",
       "  <tbody>\n",
       "    <tr>\n",
       "      <th>0</th>\n",
       "      <td>52</td>\n",
       "      <td>1</td>\n",
       "      <td>0</td>\n",
       "      <td>125</td>\n",
       "      <td>212</td>\n",
       "      <td>0</td>\n",
       "      <td>1</td>\n",
       "      <td>168</td>\n",
       "      <td>0</td>\n",
       "      <td>1.0</td>\n",
       "      <td>2</td>\n",
       "      <td>2</td>\n",
       "      <td>3</td>\n",
       "      <td>0</td>\n",
       "    </tr>\n",
       "    <tr>\n",
       "      <th>1</th>\n",
       "      <td>53</td>\n",
       "      <td>1</td>\n",
       "      <td>0</td>\n",
       "      <td>140</td>\n",
       "      <td>203</td>\n",
       "      <td>1</td>\n",
       "      <td>0</td>\n",
       "      <td>155</td>\n",
       "      <td>1</td>\n",
       "      <td>3.1</td>\n",
       "      <td>0</td>\n",
       "      <td>0</td>\n",
       "      <td>3</td>\n",
       "      <td>0</td>\n",
       "    </tr>\n",
       "    <tr>\n",
       "      <th>2</th>\n",
       "      <td>70</td>\n",
       "      <td>1</td>\n",
       "      <td>0</td>\n",
       "      <td>145</td>\n",
       "      <td>174</td>\n",
       "      <td>0</td>\n",
       "      <td>1</td>\n",
       "      <td>125</td>\n",
       "      <td>1</td>\n",
       "      <td>2.6</td>\n",
       "      <td>0</td>\n",
       "      <td>0</td>\n",
       "      <td>3</td>\n",
       "      <td>0</td>\n",
       "    </tr>\n",
       "    <tr>\n",
       "      <th>3</th>\n",
       "      <td>61</td>\n",
       "      <td>1</td>\n",
       "      <td>0</td>\n",
       "      <td>148</td>\n",
       "      <td>203</td>\n",
       "      <td>0</td>\n",
       "      <td>1</td>\n",
       "      <td>161</td>\n",
       "      <td>0</td>\n",
       "      <td>0.0</td>\n",
       "      <td>2</td>\n",
       "      <td>1</td>\n",
       "      <td>3</td>\n",
       "      <td>0</td>\n",
       "    </tr>\n",
       "    <tr>\n",
       "      <th>4</th>\n",
       "      <td>62</td>\n",
       "      <td>0</td>\n",
       "      <td>0</td>\n",
       "      <td>138</td>\n",
       "      <td>294</td>\n",
       "      <td>1</td>\n",
       "      <td>1</td>\n",
       "      <td>106</td>\n",
       "      <td>0</td>\n",
       "      <td>1.9</td>\n",
       "      <td>1</td>\n",
       "      <td>3</td>\n",
       "      <td>2</td>\n",
       "      <td>0</td>\n",
       "    </tr>\n",
       "  </tbody>\n",
       "</table>\n",
       "</div>"
      ],
      "text/plain": [
       "   age  sex  cp  trestbps  chol  fbs  restecg  thalach  exang  oldpeak  slope  \\\n",
       "0   52    1   0       125   212    0        1      168      0      1.0      2   \n",
       "1   53    1   0       140   203    1        0      155      1      3.1      0   \n",
       "2   70    1   0       145   174    0        1      125      1      2.6      0   \n",
       "3   61    1   0       148   203    0        1      161      0      0.0      2   \n",
       "4   62    0   0       138   294    1        1      106      0      1.9      1   \n",
       "\n",
       "   ca  thal  target  \n",
       "0   2     3       0  \n",
       "1   0     3       0  \n",
       "2   0     3       0  \n",
       "3   1     3       0  \n",
       "4   3     2       0  "
      ]
     },
     "execution_count": 4,
     "metadata": {},
     "output_type": "execute_result"
    }
   ],
   "source": [
    "df.head()"
   ]
  },
  {
   "cell_type": "markdown",
   "id": "edc166dd",
   "metadata": {},
   "source": [
    "## Построение собственной модели Decision Tree"
   ]
  },
  {
   "cell_type": "markdown",
   "id": "a6cbba64",
   "metadata": {},
   "source": [
    "Импортируем библиотеки"
   ]
  },
  {
   "cell_type": "code",
   "execution_count": 81,
   "id": "2c928921",
   "metadata": {},
   "outputs": [],
   "source": [
    "# CART on the Bank Note dataset\n",
    "from random import seed\n",
    "from random import randrange\n",
    "from csv import reader\n",
    "\n",
    "accuracies = {}"
   ]
  },
  {
   "cell_type": "markdown",
   "id": "1587f1f3",
   "metadata": {},
   "source": [
    "Метод необходимы для кросс-валидации"
   ]
  },
  {
   "cell_type": "code",
   "execution_count": 82,
   "id": "d9e40804",
   "metadata": {},
   "outputs": [],
   "source": [
    "def cross_validation_split(dataset, n_folds):\n",
    "    dataset_split = list()\n",
    "    dataset_copy = dataset.values.tolist()\n",
    "    fold_size = int(len(dataset) / n_folds)\n",
    "    for i in range(n_folds):\n",
    "        fold = list()\n",
    "        while len(fold) < fold_size:\n",
    "            index = randrange(len(dataset_copy))\n",
    "            fold.append(dataset_copy.pop(index))\n",
    "        dataset_split.append(fold)\n",
    "    return dataset_split"
   ]
  },
  {
   "cell_type": "markdown",
   "id": "3eeb6702",
   "metadata": {},
   "source": [
    "Метод, который подсчитывает точность измерений"
   ]
  },
  {
   "cell_type": "code",
   "execution_count": 83,
   "id": "62999e82",
   "metadata": {},
   "outputs": [],
   "source": [
    "def accuracy_metric(actual, predicted):\n",
    "    correct = 0\n",
    "    for i in range(len(actual)):\n",
    "        if actual[i] == predicted[i]:\n",
    "            correct += 1\n",
    "    return correct / float(len(actual))"
   ]
  },
  {
   "cell_type": "markdown",
   "id": "cd7ca057",
   "metadata": {},
   "source": [
    "Метод, который запускает обучение и тестирование алгоритма"
   ]
  },
  {
   "cell_type": "code",
   "execution_count": 84,
   "id": "4360d196",
   "metadata": {},
   "outputs": [],
   "source": [
    "def evaluate_algorithm(dataset, n_folds, *args):\n",
    "    folds = cross_validation_split(dataset, n_folds)\n",
    "    scores = list()\n",
    "    for fold in folds:\n",
    "        train_set = list(folds)\n",
    "        train_set.remove(fold)\n",
    "        train_set = sum(train_set, [])\n",
    "        test_set = list()\n",
    "        for row in fold:\n",
    "            row_copy = list(row)\n",
    "            test_set.append(row_copy)\n",
    "            row_copy[-1] = None\n",
    "        predicted = decision_tree(train_set, test_set, *args)\n",
    "        actual = [row[-1] for row in fold]\n",
    "        accuracy = accuracy_metric(actual, predicted)\n",
    "        scores.append(accuracy)\n",
    "    return scores"
   ]
  },
  {
   "cell_type": "markdown",
   "id": "26f1bea6",
   "metadata": {},
   "source": [
    "Функция, которая разделяет данные"
   ]
  },
  {
   "cell_type": "code",
   "execution_count": 85,
   "id": "6fb9affa",
   "metadata": {},
   "outputs": [],
   "source": [
    "def test_split(index, value, dataset):\n",
    "    left, right = list(), list()\n",
    "    for row in dataset:\n",
    "        if row[index] < value:\n",
    "            left.append(row)\n",
    "        else:\n",
    "            right.append(row)\n",
    "    return left, right"
   ]
  },
  {
   "cell_type": "markdown",
   "id": "609b6299",
   "metadata": {},
   "source": [
    "Подсчет gini значения, которое поможет разделить данные наилучшим образом."
   ]
  },
  {
   "cell_type": "code",
   "execution_count": 86,
   "id": "d27a034b",
   "metadata": {},
   "outputs": [],
   "source": [
    "def gini_index(groups, classes):\n",
    "    # count all samples at split point\n",
    "    n_instances = float(sum([len(group) for group in groups]))\n",
    "    # sum weighted Gini index for each group\n",
    "    gini = 0.0\n",
    "    for group in groups:\n",
    "        size = float(len(group))\n",
    "        # avoid divide by zero\n",
    "        if size == 0:\n",
    "            continue\n",
    "        score = 0.0\n",
    "        # score the group based on the score for each class\n",
    "        for class_val in classes:\n",
    "            p = [row[-1] for row in group].count(class_val) / size\n",
    "            score += p * p\n",
    "        # weight the group score by its relative size\n",
    "        gini += (1.0 - score) * (size / n_instances)\n",
    "    return gini"
   ]
  },
  {
   "cell_type": "markdown",
   "id": "df80fc9b",
   "metadata": {},
   "source": [
    "Выбирает наилучшее разделение для данных"
   ]
  },
  {
   "cell_type": "code",
   "execution_count": 87,
   "id": "de50044b",
   "metadata": {},
   "outputs": [],
   "source": [
    "def get_split(dataset):\n",
    "    class_values = list(set(row[-1] for row in dataset))\n",
    "    b_index, b_value, b_score, b_groups = 999, 999, 999, None\n",
    "    for index in range(len(dataset[0])-1):\n",
    "        for row in dataset:\n",
    "            groups = test_split(index, row[index], dataset)\n",
    "            gini = gini_index(groups, class_values)\n",
    "            if gini < b_score:\n",
    "                b_index, b_value, b_score, b_groups = index, row[index], gini, groups\n",
    "    return {'index':b_index, 'value':b_value, 'groups':b_groups}"
   ]
  },
  {
   "cell_type": "code",
   "execution_count": 88,
   "id": "e20dcc39",
   "metadata": {},
   "outputs": [],
   "source": [
    "def to_terminal(group):\n",
    "    outcomes = [row[-1] for row in group]\n",
    "    return max(set(outcomes), key=outcomes.count)"
   ]
  },
  {
   "cell_type": "markdown",
   "id": "7b544fab",
   "metadata": {},
   "source": [
    "Создает ребенка или терминальный узел"
   ]
  },
  {
   "cell_type": "code",
   "execution_count": 89,
   "id": "0b52f34f",
   "metadata": {},
   "outputs": [],
   "source": [
    "def split(node, max_depth, min_size, depth):\n",
    "    left, right = node['groups']\n",
    "    del(node['groups'])\n",
    "    # check for a no split\n",
    "    if not left or not right:\n",
    "        node['left'] = node['right'] = to_terminal(left + right)\n",
    "        return\n",
    "    # check for max depth\n",
    "    if depth >= max_depth:\n",
    "        node['left'], node['right'] = to_terminal(left), to_terminal(right)\n",
    "        return\n",
    "    # process left child\n",
    "    if len(left) <= min_size:\n",
    "        node['left'] = to_terminal(left)\n",
    "    else:\n",
    "        node['left'] = get_split(left)\n",
    "        split(node['left'], max_depth, min_size, depth+1)\n",
    "    # process right child\n",
    "    if len(right) <= min_size:\n",
    "        node['right'] = to_terminal(right)\n",
    "    else:\n",
    "        node['right'] = get_split(right)\n",
    "        split(node['right'], max_depth, min_size, depth+1)"
   ]
  },
  {
   "cell_type": "markdown",
   "id": "c3edcf0c",
   "metadata": {},
   "source": [
    "Функция, которая строит дерево"
   ]
  },
  {
   "cell_type": "code",
   "execution_count": 90,
   "id": "512f254d",
   "metadata": {},
   "outputs": [],
   "source": [
    "def build_tree(train, max_depth, min_size):\n",
    "    root = get_split(train)\n",
    "    split(root, max_depth, min_size, 1)\n",
    "    return root"
   ]
  },
  {
   "cell_type": "markdown",
   "id": "7f752bf6",
   "metadata": {},
   "source": [
    "Функции, которые нужны для предсказания по готовому дереву"
   ]
  },
  {
   "cell_type": "code",
   "execution_count": 91,
   "id": "39d3480d",
   "metadata": {},
   "outputs": [],
   "source": [
    "def predict(row):\n",
    "    return predict(tree, row)\n",
    "\n",
    "\n",
    "def predict(node, row):\n",
    "    if row[node['index']] < node['value']:\n",
    "        if isinstance(node['left'], dict):\n",
    "            return predict(node['left'], row)\n",
    "        else:\n",
    "            return node['left']\n",
    "    else:\n",
    "        if isinstance(node['right'], dict):\n",
    "            return predict(node['right'], row)\n",
    "        else:\n",
    "            return node['right']"
   ]
  },
  {
   "cell_type": "markdown",
   "id": "c987650c",
   "metadata": {},
   "source": [
    "Функция, которая берет тестовую базу данных, разбивает ее, а затем получает предсказанные значения"
   ]
  },
  {
   "cell_type": "code",
   "execution_count": 92,
   "id": "92fa760e",
   "metadata": {},
   "outputs": [],
   "source": [
    "def predictions(test):\n",
    "    predictions = list()\n",
    "    for row in test:\n",
    "        prediction = predict(tree, row)\n",
    "        predictions.append(prediction)\n",
    "    return(predictions)"
   ]
  },
  {
   "cell_type": "markdown",
   "id": "38f8e424",
   "metadata": {},
   "source": [
    "Функция, которая запускает построение дерева решений"
   ]
  },
  {
   "cell_type": "code",
   "execution_count": 93,
   "id": "512f8fa6",
   "metadata": {},
   "outputs": [],
   "source": [
    "def decision_tree(train, test, max_depth, min_size):\n",
    "    global tree\n",
    "    tree = build_tree(train, max_depth, min_size)\n",
    "    return predictions(test)"
   ]
  },
  {
   "cell_type": "markdown",
   "id": "72926daa",
   "metadata": {},
   "source": [
    "### Подбор параметров к дереву"
   ]
  },
  {
   "cell_type": "code",
   "execution_count": 43,
   "id": "a1cf0f13",
   "metadata": {},
   "outputs": [
    {
     "name": "stdout",
     "output_type": "stream",
     "text": [
      "9\n",
      "10\n"
     ]
    }
   ],
   "source": [
    "optimal_max_depth = 0\n",
    "optimal_min_size = 0\n",
    "maxValue = 0\n",
    "n_folds = 5\n",
    "for max_depth in range(2, 10):\n",
    "    for min_size in range(6, 15):\n",
    "        scores = evaluate_algorithm(df, n_folds, max_depth, min_size)\n",
    "        mean = sum(scores)/float(len(scores))\n",
    "        if (mean > maxValue):\n",
    "            optimal_max_depth = max_depth\n",
    "            optimal_min_size = min_size\n",
    "            maxValue = mean\n",
    "print(optimal_max_depth)\n",
    "print(optimal_min_size)"
   ]
  },
  {
   "cell_type": "markdown",
   "id": "108dc1ca",
   "metadata": {},
   "source": [
    "Посмотрим результат. Ориентируясь на первую задачу, возьмем количество фолдов равное 5."
   ]
  },
  {
   "cell_type": "code",
   "execution_count": 94,
   "id": "488f9aa9",
   "metadata": {},
   "outputs": [
    {
     "name": "stdout",
     "output_type": "stream",
     "text": [
      "Scores: [0.9804878048780488, 0.9804878048780488, 0.9707317073170731, 0.9951219512195122, 0.9804878048780488]\n",
      "Mean Accuracy: 0.981\n"
     ]
    }
   ],
   "source": [
    "seed(1)\n",
    "# evaluate algorithm\n",
    "global tree\n",
    "n_folds = 5\n",
    "max_depth = 9\n",
    "min_size = 5\n",
    "scores = evaluate_algorithm(df, n_folds, max_depth, min_size)\n",
    "print('Scores: %s' % scores)\n",
    "print('Mean Accuracy: %.3f' % (sum(scores)/float(len(scores))))\n",
    "\n",
    "accuracies['My decision Tree'] = sum(scores)/float(len(scores))"
   ]
  },
  {
   "cell_type": "markdown",
   "id": "543327d0",
   "metadata": {},
   "source": [
    "## Посмотрим на результат библиотечных функий"
   ]
  },
  {
   "cell_type": "code",
   "execution_count": 20,
   "id": "683c75b4",
   "metadata": {},
   "outputs": [],
   "source": [
    "from sklearn.preprocessing import StandardScaler\n",
    "from sklearn.model_selection import train_test_split\n",
    "\n",
    "y = df['target']\n",
    "X = df.drop(columns=['target'])\n",
    "\n",
    "X_train, X_test, y_train, y_test = train_test_split(X, y, test_size = 0.3, random_state=42)\n",
    "\n",
    "scaler = StandardScaler()  # воспользуемся стандартным трансформером\n",
    "\n",
    "# масштабируем обучающую выборку и запоминаем среднее, стандартное отклонение признаков\n",
    "X_train_scaled = scaler.fit_transform(X_train)\n",
    "\n",
    "# масштабируем тестовую выборку используя статистики обучающей выборки\n",
    "X_test_scaled = scaler.transform(X_test)"
   ]
  },
  {
   "cell_type": "markdown",
   "id": "0d619991",
   "metadata": {},
   "source": [
    "### Logistic Regression"
   ]
  },
  {
   "cell_type": "code",
   "execution_count": 21,
   "id": "52342814",
   "metadata": {},
   "outputs": [
    {
     "name": "stdout",
     "output_type": "stream",
     "text": [
      "Test Accuracy 0.8052\n"
     ]
    }
   ],
   "source": [
    "from sklearn.linear_model import LogisticRegression\n",
    "\n",
    "lr = LogisticRegression()\n",
    "lr.fit(X_train_scaled, y_train)\n",
    "acc = lr.score(X_test_scaled, y_test)\n",
    "\n",
    "accuracies['Logistic Regression'] = acc\n",
    "print(\"Test Accuracy {:.4f}\".format(acc))"
   ]
  },
  {
   "cell_type": "markdown",
   "id": "edbc549b",
   "metadata": {},
   "source": [
    "### K-Nearest Neighbour"
   ]
  },
  {
   "cell_type": "code",
   "execution_count": 57,
   "id": "f17f1f9f",
   "metadata": {},
   "outputs": [
    {
     "name": "stdout",
     "output_type": "stream",
     "text": [
      "3 NN Score: 0.9351\n"
     ]
    }
   ],
   "source": [
    "from sklearn.neighbors import KNeighborsClassifier\n",
    "knn = KNeighborsClassifier(n_neighbors = 3)  # n_neighbors means k\n",
    "knn.fit(X_train_scaled, y_train)\n",
    "prediction = knn.predict(X_test_scaled)\n",
    "\n",
    "print(\"{} NN Score: {:.4f}\".format(3, knn.score(X_test_scaled, y_test)))\n",
    "\n",
    "acc = knn.score(X_test_scaled, y_test)\n",
    "accuracies['NN'] = acc"
   ]
  },
  {
   "cell_type": "markdown",
   "id": "c082a6c4",
   "metadata": {},
   "source": [
    "### Support Vector Machine"
   ]
  },
  {
   "cell_type": "code",
   "execution_count": 23,
   "id": "53c0f772",
   "metadata": {},
   "outputs": [
    {
     "name": "stdout",
     "output_type": "stream",
     "text": [
      "Test Accuracy of SVM Algorithm: 0.8896\n"
     ]
    }
   ],
   "source": [
    "from sklearn.svm import SVC\n",
    "\n",
    "svm = SVC(random_state = 12)\n",
    "svm.fit(X_train_scaled, y_train)\n",
    "\n",
    "acc = svm.score(X_test_scaled, y_test)\n",
    "accuracies['SVM'] = acc\n",
    "print(\"Test Accuracy of SVM Algorithm: {:.4f}\".format(acc))"
   ]
  },
  {
   "cell_type": "markdown",
   "id": "476802ff",
   "metadata": {},
   "source": [
    "### Naive Bayes Algorithm"
   ]
  },
  {
   "cell_type": "code",
   "execution_count": 24,
   "id": "e208adeb",
   "metadata": {},
   "outputs": [
    {
     "name": "stdout",
     "output_type": "stream",
     "text": [
      "Accuracy of Naive Bayes: 0.8149\n"
     ]
    }
   ],
   "source": [
    "from sklearn.naive_bayes import GaussianNB\n",
    "nb = GaussianNB()\n",
    "nb.fit(X_train_scaled, y_train)\n",
    "\n",
    "acc = nb.score(X_test_scaled, y_test)\n",
    "accuracies['Naive Bayes'] = acc\n",
    "print(\"Accuracy of Naive Bayes: {:.4f}\".format(acc))"
   ]
  },
  {
   "cell_type": "markdown",
   "id": "3f2a4fe7",
   "metadata": {},
   "source": [
    "### Decision Tree Algorithm"
   ]
  },
  {
   "cell_type": "code",
   "execution_count": 25,
   "id": "b655cdaa",
   "metadata": {},
   "outputs": [
    {
     "name": "stdout",
     "output_type": "stream",
     "text": [
      "Decision Tree Test Accuracy 0.9708\n"
     ]
    }
   ],
   "source": [
    "from sklearn.tree import DecisionTreeClassifier\n",
    "dtc = DecisionTreeClassifier()\n",
    "dtc.fit(X_train, y_train)\n",
    "\n",
    "acc = dtc.score(X_test, y_test)\n",
    "accuracies['Decision Tree'] = acc\n",
    "print(\"Decision Tree Test Accuracy {:.4f}\".format(acc))"
   ]
  },
  {
   "cell_type": "markdown",
   "id": "b83b55fd",
   "metadata": {},
   "source": [
    "## Доп. задание. Реализовать еще один из методов классификации и добавить его в сравнение."
   ]
  },
  {
   "cell_type": "markdown",
   "id": "e0010a87",
   "metadata": {},
   "source": [
    "Для этого возьмем логистическую регрессию и реализуем ее."
   ]
  },
  {
   "cell_type": "code",
   "execution_count": 26,
   "id": "d8e954da",
   "metadata": {},
   "outputs": [],
   "source": [
    "def sigmoid(x):\n",
    "    # Activation function used to map any real value between 0 and 1\n",
    "    return 1 / (1 + np.exp(-x))"
   ]
  },
  {
   "cell_type": "code",
   "execution_count": 27,
   "id": "cb307c80",
   "metadata": {},
   "outputs": [],
   "source": [
    "def net_input(theta, x):\n",
    "    # Computes the weighted sum of inputs\n",
    "    return np.dot(x, theta)"
   ]
  },
  {
   "cell_type": "code",
   "execution_count": 28,
   "id": "083b7e27",
   "metadata": {},
   "outputs": [],
   "source": [
    "def probability(theta, x):\n",
    "    # Returns the probability after passing through sigmoid\n",
    "    return sigmoid(net_input(theta, x))"
   ]
  },
  {
   "cell_type": "code",
   "execution_count": 45,
   "id": "39df26df",
   "metadata": {},
   "outputs": [],
   "source": [
    "def cost_function(theta, x, y):\n",
    "    # Computes the cost function for all the training samples\n",
    "    m = x.shape[0]\n",
    "    total_cost = -(1 / m) * np.sum(\n",
    "        y * np.log(probability(theta, x)) + (1 - y) * np.log(\n",
    "            1 - probability(theta, x)))\n",
    "    return total_cost"
   ]
  },
  {
   "cell_type": "code",
   "execution_count": 47,
   "id": "801e5a74",
   "metadata": {},
   "outputs": [],
   "source": [
    "def gradient(theta, x, y):\n",
    "    # Computes the gradient of the cost function at the point theta\n",
    "    m = x.shape[0]\n",
    "    return (1 / m) * np.dot(x.T, sigmoid(net_input(theta, x)) - y)"
   ]
  },
  {
   "cell_type": "code",
   "execution_count": 43,
   "id": "8bc93a94",
   "metadata": {},
   "outputs": [],
   "source": [
    "from scipy import optimize\n",
    "def fit(x, y, theta):\n",
    "    opt_weights = optimize.fmin_tnc(func=cost_function, x0=theta,\n",
    "                  fprime=gradient,args=(x, y))\n",
    "    return opt_weights[0]\n"
   ]
  },
  {
   "cell_type": "code",
   "execution_count": 126,
   "id": "7e9c3d25",
   "metadata": {},
   "outputs": [],
   "source": [
    "theta = np.zeros((X_train.shape[1], 1))\n",
    "parameters = fit(X_train, y_train, theta)"
   ]
  },
  {
   "cell_type": "code",
   "execution_count": 78,
   "id": "d0f45e41",
   "metadata": {},
   "outputs": [],
   "source": [
    "def predictLR(x):\n",
    "    theta = parameters[:, np.newaxis]\n",
    "    return probability(theta, x)"
   ]
  },
  {
   "cell_type": "code",
   "execution_count": 107,
   "id": "4d6c7a59",
   "metadata": {},
   "outputs": [],
   "source": [
    "def predictionsLR(test):\n",
    "    predictions = list()\n",
    "    for row in test:\n",
    "        prediction = (predictLR(row) >= \n",
    "                         0.5).astype(int)\n",
    "        predictions.append(prediction)\n",
    "    return(predictions)"
   ]
  },
  {
   "cell_type": "code",
   "execution_count": 80,
   "id": "ea91a308",
   "metadata": {},
   "outputs": [],
   "source": [
    "def accuracy(x, actual_classes, probab_threshold=0.5):\n",
    "    predicted_classes = (predictLR(x) >= \n",
    "                         probab_threshold).astype(int)\n",
    "    predicted_classes = predicted_classes.flatten()\n",
    "    accuracy = np.mean(predicted_classes == actual_classes)\n",
    "    return accuracy"
   ]
  },
  {
   "cell_type": "code",
   "execution_count": 53,
   "id": "3fd6c632",
   "metadata": {},
   "outputs": [
    {
     "name": "stdout",
     "output_type": "stream",
     "text": [
      "0.8688981868898187\n"
     ]
    }
   ],
   "source": [
    "print(accuracy(X_train, y_train))\n",
    "acc = accuracy(X_test, y_test)\n",
    "accuracies['My Logistic Regression'] = acc"
   ]
  },
  {
   "cell_type": "markdown",
   "id": "f7dd0077",
   "metadata": {},
   "source": [
    "## Сравнение моделей"
   ]
  },
  {
   "cell_type": "code",
   "execution_count": 62,
   "id": "b334f6c2",
   "metadata": {},
   "outputs": [
    {
     "data": {
      "image/png": "[encoded data removed]",
      "text/plain": [
       "<Figure size 1152x504 with 1 Axes>"
      ]
     },
     "metadata": {},
     "output_type": "display_data"
    }
   ],
   "source": [
    "colors = [\"purple\", \"green\", \"orange\", \"magenta\", \"blue\", \"black\", \"yellow\"]\n",
    "\n",
    "sns.set_style(\"whitegrid\")\n",
    "plt.figure(figsize=(16, 7))\n",
    "plt.yticks(np.arange(0, 1.1, 0.1))\n",
    "plt.ylabel(\"Accuracy\")\n",
    "plt.xlabel(\"Algorithms\")\n",
    "sns.barplot(x=list(accuracies.keys()), y=list(accuracies.values()), palette=colors)\n",
    "plt.show()"
   ]
  },
  {
   "cell_type": "markdown",
   "id": "db67a985",
   "metadata": {},
   "source": [
    "## Построение Confusion Matrix"
   ]
  },
  {
   "cell_type": "code",
   "execution_count": 125,
   "id": "ca96c4ae",
   "metadata": {},
   "outputs": [],
   "source": [
    "\n",
    "y_head_lr = lr.predict(X_test_scaled)\n",
    "knn3 = KNeighborsClassifier(n_neighbors = 1)\n",
    "knn3.fit(X_train_scaled, y_train)\n",
    "y_head_knn = knn3.predict(X_test_scaled)\n",
    "y_head_svm = svm.predict(X_test_scaled)\n",
    "y_head_nb = nb.predict(X_test_scaled)\n",
    "y_head_dtc = dtc.predict(X_test)\n",
    "\n",
    "y_head_Mydtc = predictions(X_test.values.tolist())\n",
    "y_head_Mylr = predictionsLR(X_test.values.tolist())"
   ]
  },
  {
   "cell_type": "code",
   "execution_count": 109,
   "id": "749d820f",
   "metadata": {},
   "outputs": [],
   "source": [
    "from sklearn.metrics import confusion_matrix\n",
    "\n",
    "cm_lr = confusion_matrix(y_test, y_head_lr)\n",
    "cm_knn = confusion_matrix(y_test, y_head_knn)\n",
    "cm_svm = confusion_matrix(y_test, y_head_svm)\n",
    "cm_nb = confusion_matrix(y_test, y_head_nb)\n",
    "cm_dtc = confusion_matrix(y_test, y_head_dtc)\n",
    "cm_Mydtc = confusion_matrix(y_test, y_head_Mydtc)\n",
    "cm_MyLR = confusion_matrix(y_test, y_head_Mylr)"
   ]
  },
  {
   "cell_type": "code",
   "execution_count": 114,
   "id": "052c2c0a",
   "metadata": {},
   "outputs": [
    {
     "data": {
      "image/png": "[encoded data removed]",
      "text/plain": [
       "<Figure size 1728x864 with 6 Axes>"
      ]
     },
     "metadata": {},
     "output_type": "display_data"
    }
   ],
   "source": [
    "plt.figure(figsize=(24, 12))\n",
    "\n",
    "plt.suptitle(\"Confusion Matrices\", fontsize=24)\n",
    "plt.subplots_adjust(wspace = 0.4, hspace= 0.4)\n",
    "\n",
    "plt.subplot(2,3,1)\n",
    "plt.title(\"Logistic Regression Confusion Matrix\")\n",
    "sns.heatmap(cm_lr,annot=True,cmap=\"Blues\",fmt=\"d\",cbar=False, annot_kws={\"size\": 24})\n",
    "\n",
    "plt.subplot(2,3,2)\n",
    "plt.title(\"K Nearest Neighbors Confusion Matrix\")\n",
    "sns.heatmap(cm_knn,annot=True,cmap=\"Blues\",fmt=\"d\",cbar=False, annot_kws={\"size\": 24})\n",
    "\n",
    "plt.subplot(2,3,3)\n",
    "plt.title(\"Support Vector Machine Confusion Matrix\")\n",
    "sns.heatmap(cm_svm,annot=True,cmap=\"Blues\",fmt=\"d\",cbar=False, annot_kws={\"size\": 24})\n",
    "\n",
    "plt.subplot(2,3,4)\n",
    "plt.title(\"Naive Bayes Confusion Matrix\")\n",
    "sns.heatmap(cm_nb,annot=True,cmap=\"Blues\",fmt=\"d\",cbar=False, annot_kws={\"size\": 24})\n",
    "\n",
    "plt.subplot(2,3,5)\n",
    "plt.title(\"Decision Tree Classifier Confusion Matrix\")\n",
    "sns.heatmap(cm_dtc,annot=True,cmap=\"Blues\",fmt=\"d\",cbar=False, annot_kws={\"size\": 24})\n",
    "\n",
    "plt.subplot(2,3,6)\n",
    "plt.title(\"My Decision Tree Classifier Confusion Matrix\")\n",
    "sns.heatmap(cm_Mydtc,annot=True,cmap=\"Blues\",fmt=\"d\",cbar=False, annot_kws={\"size\": 24})\n",
    "\n",
    "plt.show()"
   ]
  },
  {
   "cell_type": "code",
   "execution_count": 124,
   "id": "85bbc193",
   "metadata": {},
   "outputs": [
    {
     "data": {
      "image/png": "[encoded data removed]",
      "text/plain": [
       "<Figure size 1728x864 with 1 Axes>"
      ]
     },
     "metadata": {},
     "output_type": "display_data"
    }
   ],
   "source": [
    "plt.figure(figsize=(24, 12))\n",
    "\n",
    "plt.suptitle(\"Another Confusion Matrice\", fontsize=24)\n",
    "plt.subplots_adjust(wspace = 0.4, hspace= 0.4)\n",
    "\n",
    "plt.subplot(2,3,2)\n",
    "plt.title(\"My Logistic Regression Confusion Matrix\")\n",
    "sns.heatmap(cm_MyLR,annot=True,cmap=\"Blues\",fmt=\"d\",cbar=False, annot_kws={\"size\": 24})\n",
    "plt.show()"
   ]
  },
  {
   "cell_type": "markdown",
   "id": "b000650c",
   "metadata": {},
   "source": [
    "## Выводы"
   ]
  },
  {
   "cell_type": "markdown",
   "id": "ee88b50b",
   "metadata": {},
   "source": [
    "Можно увидеть, что наилучший результат дала библиотечная модель k ближайших соседей, моя модель дерева решений, а также библиотечная модель дерева решений. Плохие результаты дала модель логистической регрессии, собственная логистическая регрессия а также наивный байесовский классификатор. Также можно заметить, что лучшие алгоритмы дают 0 ошибок второго рода, что важно при предсказании заболеваний. Тогда как при логистической регрессии количесво ошибок первого и второго рода отличается всего примерно в 2 раза."
   ]
  },
  {
   "cell_type": "code",
   "execution_count": null,
   "id": "0ddcff78",
   "metadata": {},
   "outputs": [],
   "source": []
  }
 ],
 "metadata": {
  "kernelspec": {
   "display_name": "Python 3 (ipykernel)",
   "language": "python",
   "name": "python3"
  },
  "language_info": {
   "codemirror_mode": {
    "name": "ipython",
    "version": 3
   },
   "file_extension": ".py",
   "mimetype": "text/x-python",
   "name": "python",
   "nbconvert_exporter": "python",
   "pygments_lexer": "ipython3",
   "version": "3.9.7"
  }
 },
 "nbformat": 4,
 "nbformat_minor": 5
}
