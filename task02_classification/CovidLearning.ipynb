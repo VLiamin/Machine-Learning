{
 "cells": [
  {
   "cell_type": "markdown",
   "id": "83969879",
   "metadata": {},
   "source": [
    "# Задача: Сравнение методов классификации. Лямин Владимир Андреевич. Группа 22.М05\n",
    "Задача\n",
    "1. [+] Самостоятельно реализовать один из методов классификации, с возможностью настройки гиперпараметров.\n",
    "2. [+] Взять данные для предсказания заболеваний сердца тут (целевой признак для предсказания --- target). Демо блакнот с анализом этих данных можно найти тут.\n",
    "3. [+] Считать данные, выполнить первичный анализ данных, при необходимости произвести чистку данных (Data Cleaning).\n",
    "4. [+] Выполнить разведочный анализ (EDA), использовать визуализацию, сделать выводы, которые могут быть полезны при дальнейшем решении задачи классификации.\n",
    "5. [+] При необходимости выполнить полезные преобразования данных (например, трансформировать категариальные признаки в количественные), убрать ненужные признаки, создать новые (Feature Engineering).\n",
    "6. [+] Используя подбор гиперпараметров, кросс-валидацию и при необходимости масштабирование данных, добиться наилучшего качества предсказания от Вашей реализации на выделенной заранее тестовой выборке.\n",
    "7. [+] Повторить предыдущий пункт для библиотечных реализаций (например, из sklearn) всех пройденных методов классификации (logistic regression, svm, knn, naive bayes, decision tree).\n",
    "8. [+] Сравнить все обученные модели, построить их confusion matrices. Сделать выводы о полученных моделях в рамках решения задачи классификации на выбранных данных.\n",
    "10. (+2 балла) Найти данные, на которых интересно будет решать задачу классификации. Повторить все пункты задания на новых данных."
   ]
  },
  {
   "cell_type": "markdown",
   "id": "783da0d0",
   "metadata": {},
   "source": [
    "Подключаем библиотеки"
   ]
  },
  {
   "cell_type": "code",
   "execution_count": 129,
   "id": "ed36738c",
   "metadata": {},
   "outputs": [],
   "source": [
    "import numpy as np \n",
    "import pandas as pd\n",
    "import matplotlib.pyplot as plt\n",
    "%matplotlib inline\n",
    "import seaborn as sns\n",
    "\n",
    "# устанавливаем точность чисел с плавающей точкой\n",
    "%precision %.4f\n",
    "\n",
    "import warnings\n",
    "warnings.filterwarnings('ignore')  # отключаем предупреждения"
   ]
  },
  {
   "cell_type": "markdown",
   "id": "fd485fb2",
   "metadata": {},
   "source": [
    "Считываем данные"
   ]
  },
  {
   "cell_type": "code",
   "execution_count": 130,
   "id": "64a8a85e",
   "metadata": {},
   "outputs": [],
   "source": [
    "df = pd.read_csv('newCovid.csv')"
   ]
  },
  {
   "cell_type": "code",
   "execution_count": 131,
   "id": "184ab97e",
   "metadata": {},
   "outputs": [],
   "source": [
    "df.drop(['Unnamed: 0'], axis=1, inplace=True)"
   ]
  },
  {
   "cell_type": "code",
   "execution_count": 132,
   "id": "f1f66c92",
   "metadata": {},
   "outputs": [
    {
     "data": {
      "text/html": [
       "<div>\n",
       "<style scoped>\n",
       "    .dataframe tbody tr th:only-of-type {\n",
       "        vertical-align: middle;\n",
       "    }\n",
       "\n",
       "    .dataframe tbody tr th {\n",
       "        vertical-align: top;\n",
       "    }\n",
       "\n",
       "    .dataframe thead th {\n",
       "        text-align: right;\n",
       "    }\n",
       "</style>\n",
       "<table border=\"1\" class=\"dataframe\">\n",
       "  <thead>\n",
       "    <tr style=\"text-align: right;\">\n",
       "      <th></th>\n",
       "      <th>MEDICAL_UNIT</th>\n",
       "      <th>SEX</th>\n",
       "      <th>PATIENT_TYPE</th>\n",
       "      <th>PNEUMONIA</th>\n",
       "      <th>AGE</th>\n",
       "      <th>DIABETES</th>\n",
       "      <th>HIPERTENSION</th>\n",
       "      <th>OBESITY</th>\n",
       "      <th>TOBACCO</th>\n",
       "      <th>CLASIFFICATION_FINAL</th>\n",
       "      <th>survival</th>\n",
       "    </tr>\n",
       "  </thead>\n",
       "  <tbody>\n",
       "    <tr>\n",
       "      <th>0</th>\n",
       "      <td>1.0</td>\n",
       "      <td>1.0</td>\n",
       "      <td>1.0</td>\n",
       "      <td>1.0</td>\n",
       "      <td>65.0</td>\n",
       "      <td>2.0</td>\n",
       "      <td>1.0</td>\n",
       "      <td>2.0</td>\n",
       "      <td>2.0</td>\n",
       "      <td>3.0</td>\n",
       "      <td>1</td>\n",
       "    </tr>\n",
       "    <tr>\n",
       "      <th>1</th>\n",
       "      <td>1.0</td>\n",
       "      <td>2.0</td>\n",
       "      <td>2.0</td>\n",
       "      <td>1.0</td>\n",
       "      <td>59.0</td>\n",
       "      <td>1.0</td>\n",
       "      <td>2.0</td>\n",
       "      <td>2.0</td>\n",
       "      <td>1.0</td>\n",
       "      <td>3.0</td>\n",
       "      <td>0</td>\n",
       "    </tr>\n",
       "    <tr>\n",
       "      <th>2</th>\n",
       "      <td>1.0</td>\n",
       "      <td>1.0</td>\n",
       "      <td>1.0</td>\n",
       "      <td>2.0</td>\n",
       "      <td>37.0</td>\n",
       "      <td>2.0</td>\n",
       "      <td>2.0</td>\n",
       "      <td>2.0</td>\n",
       "      <td>2.0</td>\n",
       "      <td>3.0</td>\n",
       "      <td>0</td>\n",
       "    </tr>\n",
       "    <tr>\n",
       "      <th>3</th>\n",
       "      <td>1.0</td>\n",
       "      <td>1.0</td>\n",
       "      <td>2.0</td>\n",
       "      <td>2.0</td>\n",
       "      <td>25.0</td>\n",
       "      <td>2.0</td>\n",
       "      <td>2.0</td>\n",
       "      <td>2.0</td>\n",
       "      <td>2.0</td>\n",
       "      <td>7.0</td>\n",
       "      <td>0</td>\n",
       "    </tr>\n",
       "    <tr>\n",
       "      <th>4</th>\n",
       "      <td>1.0</td>\n",
       "      <td>1.0</td>\n",
       "      <td>1.0</td>\n",
       "      <td>2.0</td>\n",
       "      <td>23.0</td>\n",
       "      <td>2.0</td>\n",
       "      <td>2.0</td>\n",
       "      <td>2.0</td>\n",
       "      <td>2.0</td>\n",
       "      <td>7.0</td>\n",
       "      <td>0</td>\n",
       "    </tr>\n",
       "  </tbody>\n",
       "</table>\n",
       "</div>"
      ],
      "text/plain": [
       "   MEDICAL_UNIT  SEX  PATIENT_TYPE  PNEUMONIA   AGE  DIABETES  HIPERTENSION  \\\n",
       "0           1.0  1.0           1.0        1.0  65.0       2.0           1.0   \n",
       "1           1.0  2.0           2.0        1.0  59.0       1.0           2.0   \n",
       "2           1.0  1.0           1.0        2.0  37.0       2.0           2.0   \n",
       "3           1.0  1.0           2.0        2.0  25.0       2.0           2.0   \n",
       "4           1.0  1.0           1.0        2.0  23.0       2.0           2.0   \n",
       "\n",
       "   OBESITY  TOBACCO  CLASIFFICATION_FINAL  survival  \n",
       "0      2.0      2.0                   3.0         1  \n",
       "1      2.0      1.0                   3.0         0  \n",
       "2      2.0      2.0                   3.0         0  \n",
       "3      2.0      2.0                   7.0         0  \n",
       "4      2.0      2.0                   7.0         0  "
      ]
     },
     "execution_count": 132,
     "metadata": {},
     "output_type": "execute_result"
    }
   ],
   "source": [
    "df.head()"
   ]
  },
  {
   "cell_type": "code",
   "execution_count": 133,
   "id": "148ce36d",
   "metadata": {},
   "outputs": [
    {
     "name": "stdout",
     "output_type": "stream",
     "text": [
      "52429\n"
     ]
    }
   ],
   "source": [
    "print(len(df))"
   ]
  },
  {
   "cell_type": "markdown",
   "id": "74e3ddf6",
   "metadata": {},
   "source": [
    "## Посмотрим на результат библиотечных функий\n"
   ]
  },
  {
   "cell_type": "code",
   "execution_count": 134,
   "id": "51d245c7",
   "metadata": {},
   "outputs": [],
   "source": [
    "from sklearn.preprocessing import StandardScaler\n",
    "from sklearn.model_selection import train_test_split\n",
    "\n",
    "y = df['survival']\n",
    "X = df.drop(columns=['survival'])\n",
    "\n",
    "X_train, X_test, y_train, y_test = train_test_split(X, y, test_size = 0.3, random_state=42)\n",
    "\n",
    "scaler = StandardScaler()  # воспользуемся стандартным трансформером\n",
    "\n",
    "# масштабируем обучающую выборку и запоминаем среднее, стандартное отклонение признаков\n",
    "X_train_scaled = scaler.fit_transform(X_train)\n",
    "\n",
    "# масштабируем тестовую выборку используя статистики обучающей выборки\n",
    "X_test_scaled = scaler.transform(X_test)"
   ]
  },
  {
   "cell_type": "markdown",
   "id": "34865c66",
   "metadata": {},
   "source": [
    "### Logistic Regression\n"
   ]
  },
  {
   "cell_type": "code",
   "execution_count": 135,
   "id": "a8c136f5",
   "metadata": {},
   "outputs": [
    {
     "name": "stdout",
     "output_type": "stream",
     "text": [
      "Test Accuracy 0.9359\n"
     ]
    }
   ],
   "source": [
    "from sklearn.linear_model import LogisticRegression\n",
    "\n",
    "lr = LogisticRegression()\n",
    "lr.fit(X_train_scaled, y_train)\n",
    "acc = lr.score(X_test_scaled, y_test)\n",
    "\n",
    "accuracies['Logistic Regression'] = acc\n",
    "print(\"Test Accuracy {:.4f}\".format(acc))"
   ]
  },
  {
   "cell_type": "markdown",
   "id": "28e62044",
   "metadata": {},
   "source": [
    "### K-Nearest Neighbour\n"
   ]
  },
  {
   "cell_type": "code",
   "execution_count": 136,
   "id": "0bdafd2d",
   "metadata": {},
   "outputs": [
    {
     "name": "stdout",
     "output_type": "stream",
     "text": [
      "3 NN Score: 0.9312\n"
     ]
    }
   ],
   "source": [
    "from sklearn.neighbors import KNeighborsClassifier\n",
    "knn = KNeighborsClassifier(n_neighbors = 3)  # n_neighbors means k\n",
    "knn.fit(X_train_scaled, y_train)\n",
    "prediction = knn.predict(X_test_scaled)\n",
    "\n",
    "print(\"{} NN Score: {:.4f}\".format(3, knn.score(X_test_scaled, y_test)))\n",
    "\n",
    "acc = knn.score(X_test_scaled, y_test)\n",
    "accuracies['NN'] = acc"
   ]
  },
  {
   "cell_type": "markdown",
   "id": "2c41c318",
   "metadata": {},
   "source": [
    "### Support Vector Machine"
   ]
  },
  {
   "cell_type": "code",
   "execution_count": 137,
   "id": "f2ac9d87",
   "metadata": {},
   "outputs": [
    {
     "name": "stdout",
     "output_type": "stream",
     "text": [
      "Test Accuracy of SVM Algorithm: 0.9371\n"
     ]
    }
   ],
   "source": [
    "from sklearn.svm import SVC\n",
    "\n",
    "svm = SVC(random_state = 12)\n",
    "svm.fit(X_train_scaled, y_train)\n",
    "\n",
    "acc = svm.score(X_test_scaled, y_test)\n",
    "accuracies['SVM'] = acc\n",
    "print(\"Test Accuracy of SVM Algorithm: {:.4f}\".format(acc))"
   ]
  },
  {
   "cell_type": "markdown",
   "id": "b3247749",
   "metadata": {},
   "source": [
    "### Naive Bayes Algorithm\n"
   ]
  },
  {
   "cell_type": "code",
   "execution_count": 138,
   "id": "45b74ea3",
   "metadata": {},
   "outputs": [
    {
     "name": "stdout",
     "output_type": "stream",
     "text": [
      "Accuracy of Naive Bayes: 0.9333\n"
     ]
    }
   ],
   "source": [
    "from sklearn.naive_bayes import GaussianNB\n",
    "nb = GaussianNB()\n",
    "nb.fit(X_train_scaled, y_train)\n",
    "\n",
    "acc = nb.score(X_test_scaled, y_test)\n",
    "accuracies['Naive Bayes'] = acc\n",
    "print(\"Accuracy of Naive Bayes: {:.4f}\".format(acc))"
   ]
  },
  {
   "cell_type": "markdown",
   "id": "54eff07f",
   "metadata": {},
   "source": [
    "### Decision Tree Algorithm"
   ]
  },
  {
   "cell_type": "code",
   "execution_count": 139,
   "id": "40d9b935",
   "metadata": {},
   "outputs": [
    {
     "name": "stdout",
     "output_type": "stream",
     "text": [
      "Decision Tree Test Accuracy 0.9237\n"
     ]
    }
   ],
   "source": [
    "from sklearn.tree import DecisionTreeClassifier\n",
    "dtc = DecisionTreeClassifier()\n",
    "dtc.fit(X_train, y_train)\n",
    "\n",
    "acc = dtc.score(X_test, y_test)\n",
    "accuracies['Decision Tree'] = acc\n",
    "print(\"Decision Tree Test Accuracy {:.4f}\".format(acc))"
   ]
  },
  {
   "cell_type": "markdown",
   "id": "0b9b3007",
   "metadata": {},
   "source": [
    "## Посмотрим выполнение алгоритма на методе логистической регрессии"
   ]
  },
  {
   "cell_type": "code",
   "execution_count": 140,
   "id": "5750ab36",
   "metadata": {},
   "outputs": [],
   "source": [
    "def sigmoid(x):\n",
    "    # Activation function used to map any real value between 0 and 1\n",
    "    return 1 / (1 + np.exp(-x))"
   ]
  },
  {
   "cell_type": "code",
   "execution_count": 141,
   "id": "33fbbb81",
   "metadata": {},
   "outputs": [],
   "source": [
    "def net_input(theta, x):\n",
    "    # Computes the weighted sum of inputs\n",
    "    return np.dot(x, theta)"
   ]
  },
  {
   "cell_type": "code",
   "execution_count": 142,
   "id": "362074c7",
   "metadata": {},
   "outputs": [],
   "source": [
    "def probability(theta, x):\n",
    "    # Returns the probability after passing through sigmoid\n",
    "    return sigmoid(net_input(theta, x))"
   ]
  },
  {
   "cell_type": "code",
   "execution_count": 143,
   "id": "b058f8c3",
   "metadata": {},
   "outputs": [],
   "source": [
    "def cost_function(theta, x, y):\n",
    "    # Computes the cost function for all the training samples\n",
    "    m = x.shape[0]\n",
    "    total_cost = -(1 / m) * np.sum(\n",
    "        y * np.log(probability(theta, x)) + (1 - y) * np.log(\n",
    "            1 - probability(theta, x)))\n",
    "    return total_cost"
   ]
  },
  {
   "cell_type": "code",
   "execution_count": 144,
   "id": "9ff08727",
   "metadata": {},
   "outputs": [],
   "source": [
    "def gradient(theta, x, y):\n",
    "    # Computes the gradient of the cost function at the point theta\n",
    "    m = x.shape[0]\n",
    "    return (1 / m) * np.dot(x.T, sigmoid(net_input(theta, x)) - y)"
   ]
  },
  {
   "cell_type": "code",
   "execution_count": 145,
   "id": "a87cf41c",
   "metadata": {},
   "outputs": [],
   "source": [
    "from scipy import optimize\n",
    "def fit(x, y, theta):\n",
    "    opt_weights = optimize.fmin_tnc(func=cost_function, x0=theta,\n",
    "                  fprime=gradient,args=(x, y))\n",
    "    return opt_weights[0]"
   ]
  },
  {
   "cell_type": "markdown",
   "id": "09f63046",
   "metadata": {},
   "source": [
    "Подберем оптимальные параметры для алгоритма"
   ]
  },
  {
   "cell_type": "code",
   "execution_count": 146,
   "id": "d9d545df",
   "metadata": {},
   "outputs": [],
   "source": [
    "theta = np.zeros((X_train.shape[1], 1))\n",
    "parameters = fit(X_train, y_train, theta)"
   ]
  },
  {
   "cell_type": "code",
   "execution_count": 147,
   "id": "4766dd05",
   "metadata": {},
   "outputs": [],
   "source": [
    "def predictLR(x):\n",
    "    theta = parameters[:, np.newaxis]\n",
    "    return probability(theta, x)"
   ]
  },
  {
   "cell_type": "code",
   "execution_count": 148,
   "id": "0023b546",
   "metadata": {},
   "outputs": [],
   "source": [
    "def predictionsLR(test):\n",
    "    predictions = []\n",
    "    for row in test:\n",
    "        prediction = (predictLR(row) >= \n",
    "                         0.5).astype(int)\n",
    "        predictions.append(prediction)\n",
    "    return(predictions)"
   ]
  },
  {
   "cell_type": "code",
   "execution_count": 149,
   "id": "736f48d0",
   "metadata": {},
   "outputs": [],
   "source": [
    "def accuracy(x, actual_classes, probab_threshold=0.5):\n",
    "    predicted_classes = (predictLR(x) >= \n",
    "                         probab_threshold).astype(int)\n",
    "    predicted_classes = predicted_classes.flatten()\n",
    "    accuracy = np.mean(predicted_classes == actual_classes)\n",
    "    return accuracy"
   ]
  },
  {
   "cell_type": "code",
   "execution_count": 150,
   "id": "62ed95b3",
   "metadata": {},
   "outputs": [
    {
     "name": "stdout",
     "output_type": "stream",
     "text": [
      "0.9276839237057221\n"
     ]
    }
   ],
   "source": [
    "print(accuracy(X_train, y_train))\n",
    "acc = accuracy(X_test, y_test)\n",
    "accuracies['My Logistic Regression'] = acc"
   ]
  },
  {
   "cell_type": "markdown",
   "id": "f46c6e6b",
   "metadata": {},
   "source": [
    "## Сравнение моделей"
   ]
  },
  {
   "cell_type": "code",
   "execution_count": 151,
   "id": "1696aafc",
   "metadata": {},
   "outputs": [
    {
     "data": {
      "image/png": "[encoded data removed]",
      "text/plain": [
       "<Figure size 1152x504 with 1 Axes>"
      ]
     },
     "metadata": {},
     "output_type": "display_data"
    }
   ],
   "source": [
    "colors = [\"purple\", \"green\", \"orange\", \"magenta\", \"blue\", \"yellow\"]\n",
    "\n",
    "sns.set_style(\"whitegrid\")\n",
    "plt.figure(figsize=(16, 7))\n",
    "plt.yticks(np.arange(0, 1.1, 0.1))\n",
    "plt.ylabel(\"Accuracy\")\n",
    "plt.xlabel(\"Algorithms\")\n",
    "sns.barplot(x=list(accuracies.keys()), y=list(accuracies.values()), palette=colors)\n",
    "plt.show()"
   ]
  },
  {
   "cell_type": "markdown",
   "id": "89309515",
   "metadata": {},
   "source": [
    "## Построение Confusion Matrix"
   ]
  },
  {
   "cell_type": "code",
   "execution_count": 152,
   "id": "45900328",
   "metadata": {},
   "outputs": [],
   "source": [
    "\n",
    "y_head_lr = lr.predict(X_test_scaled)\n",
    "knn3 = KNeighborsClassifier(n_neighbors = 1)\n",
    "knn3.fit(X_train_scaled, y_train)\n",
    "y_head_knn = knn3.predict(X_test_scaled)\n",
    "y_head_svm = svm.predict(X_test_scaled)\n",
    "y_head_nb = nb.predict(X_test_scaled)\n",
    "y_head_dtc = dtc.predict(X_test)\n",
    "\n",
    "y_head_Mylr = predictionsLR(X_test.values.tolist())"
   ]
  },
  {
   "cell_type": "code",
   "execution_count": 153,
   "id": "a7c7088e",
   "metadata": {},
   "outputs": [],
   "source": [
    "from sklearn.metrics import confusion_matrix\n",
    "\n",
    "cm_lr = confusion_matrix(y_test, y_head_lr)\n",
    "cm_knn = confusion_matrix(y_test, y_head_knn)\n",
    "cm_svm = confusion_matrix(y_test, y_head_svm)\n",
    "cm_nb = confusion_matrix(y_test, y_head_nb)\n",
    "cm_dtc = confusion_matrix(y_test, y_head_dtc)\n",
    "cm_MyLR = confusion_matrix(y_test, y_head_Mylr)"
   ]
  },
  {
   "cell_type": "code",
   "execution_count": 154,
   "id": "e76b11e8",
   "metadata": {},
   "outputs": [
    {
     "data": {
      "image/png": "[encoded data removed]",
      "text/plain": [
       "<Figure size 1728x864 with 6 Axes>"
      ]
     },
     "metadata": {},
     "output_type": "display_data"
    }
   ],
   "source": [
    "plt.figure(figsize=(24, 12))\n",
    "\n",
    "plt.suptitle(\"Confusion Matrices\", fontsize=24)\n",
    "plt.subplots_adjust(wspace = 0.4, hspace= 0.4)\n",
    "\n",
    "plt.subplot(2,3,1)\n",
    "plt.title(\"Logistic Regression Confusion Matrix\")\n",
    "sns.heatmap(cm_lr,annot=True,cmap=\"Blues\",fmt=\"d\",cbar=False, annot_kws={\"size\": 24})\n",
    "\n",
    "plt.subplot(2,3,2)\n",
    "plt.title(\"K Nearest Neighbors Confusion Matrix\")\n",
    "sns.heatmap(cm_knn,annot=True,cmap=\"Blues\",fmt=\"d\",cbar=False, annot_kws={\"size\": 24})\n",
    "\n",
    "plt.subplot(2,3,3)\n",
    "plt.title(\"Support Vector Machine Confusion Matrix\")\n",
    "sns.heatmap(cm_svm,annot=True,cmap=\"Blues\",fmt=\"d\",cbar=False, annot_kws={\"size\": 24})\n",
    "\n",
    "plt.subplot(2,3,4)\n",
    "plt.title(\"Naive Bayes Confusion Matrix\")\n",
    "sns.heatmap(cm_nb,annot=True,cmap=\"Blues\",fmt=\"d\",cbar=False, annot_kws={\"size\": 24})\n",
    "\n",
    "plt.subplot(2,3,5)\n",
    "plt.title(\"Decision Tree Classifier Confusion Matrix\")\n",
    "sns.heatmap(cm_dtc,annot=True,cmap=\"Blues\",fmt=\"d\",cbar=False, annot_kws={\"size\": 24})\n",
    "\n",
    "plt.subplot(2,3,6)\n",
    "plt.title(\"My Logistic Regression Confusion Matrix\")\n",
    "sns.heatmap(cm_MyLR,annot=True,cmap=\"Blues\",fmt=\"d\",cbar=False, annot_kws={\"size\": 24})\n",
    "\n",
    "plt.show()"
   ]
  },
  {
   "cell_type": "markdown",
   "id": "b51bda25",
   "metadata": {},
   "source": [
    "## Выводы"
   ]
  },
  {
   "cell_type": "markdown",
   "id": "cdffc644",
   "metadata": {},
   "source": [
    "Можно увидеть, что наилучший результат дала библиотечная модель k ближайших соседей, а также библиотечная модель дерева решений. Плохие результаты дала модель логистической регрессии, собственная логистическая регрессия а также наивный байесовский классификатор. Также можно заметить, что лучшие алгоритмы дают 0 ошибок второго рода, что важно при предсказании заболеваний. Тогда как при логистической регрессии количесво ошибок первого и второго рода отличается всего примерно в 2 раза."
   ]
  },
  {
   "cell_type": "code",
   "execution_count": null,
   "id": "fc5458ea",
   "metadata": {},
   "outputs": [],
   "source": []
  }
 ],
 "metadata": {
  "kernelspec": {
   "display_name": "Python 3 (ipykernel)",
   "language": "python",
   "name": "python3"
  },
  "language_info": {
   "codemirror_mode": {
    "name": "ipython",
    "version": 3
   },
   "file_extension": ".py",
   "mimetype": "text/x-python",
   "name": "python",
   "nbconvert_exporter": "python",
   "pygments_lexer": "ipython3",
   "version": "3.9.7"
  }
 },
 "nbformat": 4,
 "nbformat_minor": 5
}
