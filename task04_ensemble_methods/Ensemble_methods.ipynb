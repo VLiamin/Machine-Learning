{
 "cells": [
  {
   "cell_type": "markdown",
   "id": "a7fde3f1",
   "metadata": {},
   "source": [
    "# Задача: Ансамбли. Лямин Владимир Андреевич. Группа 22.М05"
   ]
  },
  {
   "cell_type": "markdown",
   "id": "23f1177d",
   "metadata": {},
   "source": [
    "Задача\n",
    "1. Найти данные размера хотя бы 10000, на которых можно решить задачу классификации или регрессии.\n",
    "\n",
    "2. Выполнить разведочный анализ (EDA). При необходимости выполнить полезные преобразования данных.\n",
    "\n",
    "3. Самостоятельно реализуйте алгоритмы Bagging и AdaBoost, которые позволят обучить ансамбли каких-то простых моделей, например деревьев принятия решений.\n",
    "\n",
    "4. Обучите ансамбли для каких-то простых моделей, используя свои две реализации, а также реализации из sklearn (Bagging, Random Forest, AdaBoost, Gradient Tree Boosting, Histogram-Based Gradient Boosting).\n",
    "\n",
    "5. При обучении использовать подбор гиперпараметров, кросс-валидацию.\n",
    "\n",
    "6. Сравнить качество моделей: замерить скорость обучения, вычислить различные метрики качества, построить матрицы ошибок.\n",
    "\n",
    "7. (+2 балла) Также добавить в сравнение модели из библиотек XGBoost, LightGBM и CatBoost.\n",
    "\n",
    "8. (+3 балла) Для подбора гиперпараметров использовать фреймворк Optuna.\n"
   ]
  },
  {
   "cell_type": "markdown",
   "id": "0d9ac4e2",
   "metadata": {},
   "source": [
    "Рассмотрим датасет по стоимости жилья, затем сделаем из него подходящий датасет для задачи по многоклассовой классификации по данному руководству(https://medium.com/dataman-in-ai/a-wide-choice-for-modeling-multi-class-classifications-d97073ff4ec8)."
   ]
  },
  {
   "cell_type": "markdown",
   "id": "6630a8ff",
   "metadata": {},
   "source": [
    "Описание датасета:\n",
    "1. MedInc: средний доход в квартале\n",
    "2. house: средний возраст домов в квартале\n",
    "3. AveRooms: среднее количество комнат на дом\n",
    "4. AveBedrms: среднее количество спален на дом\n",
    "5. Population: популяция квартала\n",
    "6. AveOccup: среднее количество жителей дома\n",
    "7. Latitude: широта квартала\n",
    "8. Longitude: долгота квартала"
   ]
  },
  {
   "cell_type": "markdown",
   "id": "cfbc8a9d",
   "metadata": {},
   "source": [
    "Необходимо решить задачу классификации и научиться предсказывать целовой признак target. Среднюю стоимость дома в квартале."
   ]
  },
  {
   "cell_type": "code",
   "execution_count": 100,
   "id": "2cbff552",
   "metadata": {},
   "outputs": [],
   "source": [
    "import numpy as np \n",
    "import pandas as pd\n",
    "import matplotlib.pyplot as plt\n",
    "from sklearn.model_selection import train_test_split\n",
    "from sklearn.datasets import fetch_california_housing\n",
    "%matplotlib inline\n",
    "import seaborn as sns\n",
    "\n",
    "# устанавливаем точность чисел с плавающей точкой\n",
    "%precision %.4f\n",
    "\n",
    "import warnings\n",
    "warnings.filterwarnings('ignore')  # отключаем предупреждения"
   ]
  },
  {
   "cell_type": "code",
   "execution_count": 101,
   "id": "dddeaf71",
   "metadata": {},
   "outputs": [
    {
     "name": "stdout",
     "output_type": "stream",
     "text": [
      "X features= ['MedInc', 'HouseAge', 'AveRooms', 'AveBedrms', 'Population', 'AveOccup', 'Latitude', 'Longitude']\n"
     ]
    }
   ],
   "source": [
    "cal_housing = fetch_california_housing()\n",
    "X = pd.DataFrame(cal_housing.data, columns=cal_housing.feature_names)\n",
    "y = cal_housing.target\n",
    "df = X.copy()\n",
    "df['target'] = y * 100000 # The raw value is in 100,000.\n",
    "X_features = cal_housing.feature_names\n",
    "print(\"X features=\", X_features)"
   ]
  },
  {
   "cell_type": "code",
   "execution_count": 102,
   "id": "4dc131a1",
   "metadata": {},
   "outputs": [],
   "source": [
    "df.to_csv('Houses.csv')"
   ]
  },
  {
   "cell_type": "code",
   "execution_count": 103,
   "id": "c2549274",
   "metadata": {},
   "outputs": [
    {
     "data": {
      "text/html": [
       "<div>\n",
       "<style scoped>\n",
       "    .dataframe tbody tr th:only-of-type {\n",
       "        vertical-align: middle;\n",
       "    }\n",
       "\n",
       "    .dataframe tbody tr th {\n",
       "        vertical-align: top;\n",
       "    }\n",
       "\n",
       "    .dataframe thead th {\n",
       "        text-align: right;\n",
       "    }\n",
       "</style>\n",
       "<table border=\"1\" class=\"dataframe\">\n",
       "  <thead>\n",
       "    <tr style=\"text-align: right;\">\n",
       "      <th></th>\n",
       "      <th>MedInc</th>\n",
       "      <th>HouseAge</th>\n",
       "      <th>AveRooms</th>\n",
       "      <th>AveBedrms</th>\n",
       "      <th>Population</th>\n",
       "      <th>AveOccup</th>\n",
       "      <th>Latitude</th>\n",
       "      <th>Longitude</th>\n",
       "      <th>target</th>\n",
       "    </tr>\n",
       "  </thead>\n",
       "  <tbody>\n",
       "    <tr>\n",
       "      <th>0</th>\n",
       "      <td>8.3252</td>\n",
       "      <td>41.0</td>\n",
       "      <td>6.984127</td>\n",
       "      <td>1.023810</td>\n",
       "      <td>322.0</td>\n",
       "      <td>2.555556</td>\n",
       "      <td>37.88</td>\n",
       "      <td>-122.23</td>\n",
       "      <td>452600.0</td>\n",
       "    </tr>\n",
       "    <tr>\n",
       "      <th>1</th>\n",
       "      <td>8.3014</td>\n",
       "      <td>21.0</td>\n",
       "      <td>6.238137</td>\n",
       "      <td>0.971880</td>\n",
       "      <td>2401.0</td>\n",
       "      <td>2.109842</td>\n",
       "      <td>37.86</td>\n",
       "      <td>-122.22</td>\n",
       "      <td>358500.0</td>\n",
       "    </tr>\n",
       "    <tr>\n",
       "      <th>2</th>\n",
       "      <td>7.2574</td>\n",
       "      <td>52.0</td>\n",
       "      <td>8.288136</td>\n",
       "      <td>1.073446</td>\n",
       "      <td>496.0</td>\n",
       "      <td>2.802260</td>\n",
       "      <td>37.85</td>\n",
       "      <td>-122.24</td>\n",
       "      <td>352100.0</td>\n",
       "    </tr>\n",
       "    <tr>\n",
       "      <th>3</th>\n",
       "      <td>5.6431</td>\n",
       "      <td>52.0</td>\n",
       "      <td>5.817352</td>\n",
       "      <td>1.073059</td>\n",
       "      <td>558.0</td>\n",
       "      <td>2.547945</td>\n",
       "      <td>37.85</td>\n",
       "      <td>-122.25</td>\n",
       "      <td>341300.0</td>\n",
       "    </tr>\n",
       "    <tr>\n",
       "      <th>4</th>\n",
       "      <td>3.8462</td>\n",
       "      <td>52.0</td>\n",
       "      <td>6.281853</td>\n",
       "      <td>1.081081</td>\n",
       "      <td>565.0</td>\n",
       "      <td>2.181467</td>\n",
       "      <td>37.85</td>\n",
       "      <td>-122.25</td>\n",
       "      <td>342200.0</td>\n",
       "    </tr>\n",
       "  </tbody>\n",
       "</table>\n",
       "</div>"
      ],
      "text/plain": [
       "   MedInc  HouseAge  AveRooms  AveBedrms  Population  AveOccup  Latitude  \\\n",
       "0  8.3252      41.0  6.984127   1.023810       322.0  2.555556     37.88   \n",
       "1  8.3014      21.0  6.238137   0.971880      2401.0  2.109842     37.86   \n",
       "2  7.2574      52.0  8.288136   1.073446       496.0  2.802260     37.85   \n",
       "3  5.6431      52.0  5.817352   1.073059       558.0  2.547945     37.85   \n",
       "4  3.8462      52.0  6.281853   1.081081       565.0  2.181467     37.85   \n",
       "\n",
       "   Longitude    target  \n",
       "0    -122.23  452600.0  \n",
       "1    -122.22  358500.0  \n",
       "2    -122.24  352100.0  \n",
       "3    -122.25  341300.0  \n",
       "4    -122.25  342200.0  "
      ]
     },
     "execution_count": 103,
     "metadata": {},
     "output_type": "execute_result"
    }
   ],
   "source": [
    "df.head()"
   ]
  },
  {
   "cell_type": "markdown",
   "id": "6fb5f36d",
   "metadata": {},
   "source": [
    "Проверяем общее количество пропущенных значений.\n"
   ]
  },
  {
   "cell_type": "code",
   "execution_count": 104,
   "id": "383356f3",
   "metadata": {},
   "outputs": [
    {
     "data": {
      "text/plain": [
       "MedInc        0\n",
       "HouseAge      0\n",
       "AveRooms      0\n",
       "AveBedrms     0\n",
       "Population    0\n",
       "AveOccup      0\n",
       "Latitude      0\n",
       "Longitude     0\n",
       "target        0\n",
       "dtype: int64"
      ]
     },
     "execution_count": 104,
     "metadata": {},
     "output_type": "execute_result"
    }
   ],
   "source": [
    "df.isnull().sum()"
   ]
  },
  {
   "cell_type": "markdown",
   "id": "5ecfa72f",
   "metadata": {},
   "source": [
    "Как видно, пропущенных значений нет"
   ]
  },
  {
   "cell_type": "code",
   "execution_count": 105,
   "id": "2f521468",
   "metadata": {},
   "outputs": [],
   "source": [
    "def val_target(y):    \n",
    "    if y <= 160000:\n",
    "        return 0\n",
    "    else:\n",
    "        return 1\n",
    "    \n",
    "df['target_class'] = df['target'].apply(val_target)"
   ]
  },
  {
   "cell_type": "code",
   "execution_count": 106,
   "id": "4bce81f9",
   "metadata": {},
   "outputs": [
    {
     "data": {
      "text/html": [
       "<div>\n",
       "<style scoped>\n",
       "    .dataframe tbody tr th:only-of-type {\n",
       "        vertical-align: middle;\n",
       "    }\n",
       "\n",
       "    .dataframe tbody tr th {\n",
       "        vertical-align: top;\n",
       "    }\n",
       "\n",
       "    .dataframe thead th {\n",
       "        text-align: right;\n",
       "    }\n",
       "</style>\n",
       "<table border=\"1\" class=\"dataframe\">\n",
       "  <thead>\n",
       "    <tr style=\"text-align: right;\">\n",
       "      <th></th>\n",
       "      <th>MedInc</th>\n",
       "      <th>HouseAge</th>\n",
       "      <th>AveRooms</th>\n",
       "      <th>AveBedrms</th>\n",
       "      <th>Population</th>\n",
       "      <th>AveOccup</th>\n",
       "      <th>Latitude</th>\n",
       "      <th>Longitude</th>\n",
       "      <th>target</th>\n",
       "      <th>target_class</th>\n",
       "    </tr>\n",
       "  </thead>\n",
       "  <tbody>\n",
       "    <tr>\n",
       "      <th>0</th>\n",
       "      <td>8.3252</td>\n",
       "      <td>41.0</td>\n",
       "      <td>6.984127</td>\n",
       "      <td>1.023810</td>\n",
       "      <td>322.0</td>\n",
       "      <td>2.555556</td>\n",
       "      <td>37.88</td>\n",
       "      <td>-122.23</td>\n",
       "      <td>452600.0</td>\n",
       "      <td>1</td>\n",
       "    </tr>\n",
       "    <tr>\n",
       "      <th>1</th>\n",
       "      <td>8.3014</td>\n",
       "      <td>21.0</td>\n",
       "      <td>6.238137</td>\n",
       "      <td>0.971880</td>\n",
       "      <td>2401.0</td>\n",
       "      <td>2.109842</td>\n",
       "      <td>37.86</td>\n",
       "      <td>-122.22</td>\n",
       "      <td>358500.0</td>\n",
       "      <td>1</td>\n",
       "    </tr>\n",
       "    <tr>\n",
       "      <th>2</th>\n",
       "      <td>7.2574</td>\n",
       "      <td>52.0</td>\n",
       "      <td>8.288136</td>\n",
       "      <td>1.073446</td>\n",
       "      <td>496.0</td>\n",
       "      <td>2.802260</td>\n",
       "      <td>37.85</td>\n",
       "      <td>-122.24</td>\n",
       "      <td>352100.0</td>\n",
       "      <td>1</td>\n",
       "    </tr>\n",
       "    <tr>\n",
       "      <th>3</th>\n",
       "      <td>5.6431</td>\n",
       "      <td>52.0</td>\n",
       "      <td>5.817352</td>\n",
       "      <td>1.073059</td>\n",
       "      <td>558.0</td>\n",
       "      <td>2.547945</td>\n",
       "      <td>37.85</td>\n",
       "      <td>-122.25</td>\n",
       "      <td>341300.0</td>\n",
       "      <td>1</td>\n",
       "    </tr>\n",
       "    <tr>\n",
       "      <th>4</th>\n",
       "      <td>3.8462</td>\n",
       "      <td>52.0</td>\n",
       "      <td>6.281853</td>\n",
       "      <td>1.081081</td>\n",
       "      <td>565.0</td>\n",
       "      <td>2.181467</td>\n",
       "      <td>37.85</td>\n",
       "      <td>-122.25</td>\n",
       "      <td>342200.0</td>\n",
       "      <td>1</td>\n",
       "    </tr>\n",
       "  </tbody>\n",
       "</table>\n",
       "</div>"
      ],
      "text/plain": [
       "   MedInc  HouseAge  AveRooms  AveBedrms  Population  AveOccup  Latitude  \\\n",
       "0  8.3252      41.0  6.984127   1.023810       322.0  2.555556     37.88   \n",
       "1  8.3014      21.0  6.238137   0.971880      2401.0  2.109842     37.86   \n",
       "2  7.2574      52.0  8.288136   1.073446       496.0  2.802260     37.85   \n",
       "3  5.6431      52.0  5.817352   1.073059       558.0  2.547945     37.85   \n",
       "4  3.8462      52.0  6.281853   1.081081       565.0  2.181467     37.85   \n",
       "\n",
       "   Longitude    target  target_class  \n",
       "0    -122.23  452600.0             1  \n",
       "1    -122.22  358500.0             1  \n",
       "2    -122.24  352100.0             1  \n",
       "3    -122.25  341300.0             1  \n",
       "4    -122.25  342200.0             1  "
      ]
     },
     "execution_count": 106,
     "metadata": {},
     "output_type": "execute_result"
    }
   ],
   "source": [
    "df.head()"
   ]
  },
  {
   "cell_type": "markdown",
   "id": "0ba2aa16",
   "metadata": {},
   "source": [
    "Разделили данные на два класса: низкая и высокая стоимость дома."
   ]
  },
  {
   "cell_type": "markdown",
   "id": "cb9b3e37",
   "metadata": {},
   "source": [
    "## Разведочный анализ (EDA)"
   ]
  },
  {
   "cell_type": "markdown",
   "id": "572fee77",
   "metadata": {},
   "source": [
    "Посмортим какие значения принимает целевой признак"
   ]
  },
  {
   "cell_type": "code",
   "execution_count": 107,
   "id": "f88b8612",
   "metadata": {},
   "outputs": [
    {
     "data": {
      "text/plain": [
       "1    12101\n",
       "0     8539\n",
       "Name: target_class, dtype: int64"
      ]
     },
     "execution_count": 107,
     "metadata": {},
     "output_type": "execute_result"
    }
   ],
   "source": [
    "df.target_class.value_counts()"
   ]
  },
  {
   "cell_type": "code",
   "execution_count": 108,
   "id": "31355ac8",
   "metadata": {},
   "outputs": [
    {
     "data": {
      "image/png": "[encoded data removed]",
      "text/plain": [
       "<Figure size 432x288 with 1 Axes>"
      ]
     },
     "metadata": {
      "needs_background": "light"
     },
     "output_type": "display_data"
    }
   ],
   "source": [
    "sns.countplot(x=\"target_class\", data=df)\n",
    "plt.show()\n"
   ]
  },
  {
   "cell_type": "markdown",
   "id": "5598fa5e",
   "metadata": {},
   "source": [
    "Можно заметить, что получившиеся классы сравнимы"
   ]
  },
  {
   "cell_type": "markdown",
   "id": "32f52d3a",
   "metadata": {},
   "source": [
    "## Певичный анализ признаков"
   ]
  },
  {
   "cell_type": "markdown",
   "id": "1d4e0e0a",
   "metadata": {},
   "source": [
    "### Количесвенный признак MedInc"
   ]
  },
  {
   "cell_type": "markdown",
   "id": "a9ce5dd3",
   "metadata": {},
   "source": [
    "Посмотрим какие значения принимает данный признак\n"
   ]
  },
  {
   "cell_type": "code",
   "execution_count": 109,
   "id": "b8ec2e22",
   "metadata": {},
   "outputs": [
    {
     "data": {
      "text/plain": [
       "count    20640.000000\n",
       "mean         3.870671\n",
       "std          1.899822\n",
       "min          0.499900\n",
       "25%          2.563400\n",
       "50%          3.534800\n",
       "75%          4.743250\n",
       "max         15.000100\n",
       "Name: MedInc, dtype: float64"
      ]
     },
     "execution_count": 109,
     "metadata": {},
     "output_type": "execute_result"
    }
   ],
   "source": [
    "df['MedInc'].describe()\n"
   ]
  },
  {
   "cell_type": "code",
   "execution_count": 110,
   "id": "6c00ed3d",
   "metadata": {},
   "outputs": [
    {
     "data": {
      "image/png": "[encoded data removed]",
      "text/plain": [
       "<Figure size 864x360 with 1 Axes>"
      ]
     },
     "metadata": {
      "needs_background": "light"
     },
     "output_type": "display_data"
    }
   ],
   "source": [
    "sns.violinplot(data=df,x=\"target_class\", y='MedInc', split=True)\n",
    "fig = plt.gcf()\n",
    "fig.set_size_inches(12, 5)\n",
    "plt.show()"
   ]
  },
  {
   "cell_type": "markdown",
   "id": "ef1e8727",
   "metadata": {},
   "source": [
    "Можно заметить, что чем выше доход житеелей квартала, тем более высокая стоимость домов"
   ]
  },
  {
   "cell_type": "markdown",
   "id": "38303082",
   "metadata": {},
   "source": [
    "### Количесвенный признак HouseAge\n"
   ]
  },
  {
   "cell_type": "code",
   "execution_count": 111,
   "id": "df28cb3e",
   "metadata": {},
   "outputs": [
    {
     "data": {
      "text/plain": [
       "count    20640.000000\n",
       "mean        28.639486\n",
       "std         12.585558\n",
       "min          1.000000\n",
       "25%         18.000000\n",
       "50%         29.000000\n",
       "75%         37.000000\n",
       "max         52.000000\n",
       "Name: HouseAge, dtype: float64"
      ]
     },
     "execution_count": 111,
     "metadata": {},
     "output_type": "execute_result"
    }
   ],
   "source": [
    "df['HouseAge'].describe()"
   ]
  },
  {
   "cell_type": "code",
   "execution_count": 112,
   "id": "9893138d",
   "metadata": {},
   "outputs": [
    {
     "data": {
      "image/png": "[encoded data removed]",
      "text/plain": [
       "<Figure size 864x360 with 1 Axes>"
      ]
     },
     "metadata": {
      "needs_background": "light"
     },
     "output_type": "display_data"
    }
   ],
   "source": [
    "sns.violinplot(data=df,x=\"target_class\", y='HouseAge', split=True)\n",
    "fig = plt.gcf()\n",
    "fig.set_size_inches(12, 5)\n",
    "plt.show()\n"
   ]
  },
  {
   "cell_type": "markdown",
   "id": "7754cf13",
   "metadata": {},
   "source": [
    "Можно заметить, что возраст дома на стоимость влияет слабо"
   ]
  },
  {
   "cell_type": "markdown",
   "id": "df9fbe3f",
   "metadata": {},
   "source": [
    "### Количесвенный признак AveRooms"
   ]
  },
  {
   "cell_type": "code",
   "execution_count": 113,
   "id": "7d677eef",
   "metadata": {},
   "outputs": [
    {
     "data": {
      "text/plain": [
       "count    20640.000000\n",
       "mean         5.429000\n",
       "std          2.474173\n",
       "min          0.846154\n",
       "25%          4.440716\n",
       "50%          5.229129\n",
       "75%          6.052381\n",
       "max        141.909091\n",
       "Name: AveRooms, dtype: float64"
      ]
     },
     "execution_count": 113,
     "metadata": {},
     "output_type": "execute_result"
    }
   ],
   "source": [
    "df['AveRooms'].describe()"
   ]
  },
  {
   "cell_type": "code",
   "execution_count": 114,
   "id": "c5c163c0",
   "metadata": {},
   "outputs": [
    {
     "data": {
      "image/png": "[encoded data removed]",
      "text/plain": [
       "<Figure size 864x360 with 1 Axes>"
      ]
     },
     "metadata": {
      "needs_background": "light"
     },
     "output_type": "display_data"
    }
   ],
   "source": [
    "sns.violinplot(data=df,x=\"target_class\", y='AveRooms', split=True)\n",
    "fig = plt.gcf()\n",
    "fig.set_size_inches(12, 5)\n",
    "plt.show()\n"
   ]
  },
  {
   "cell_type": "markdown",
   "id": "04898e1b",
   "metadata": {},
   "source": [
    "Тут можно заметить, что при увеличении комнат стоимость дома увеличивается."
   ]
  },
  {
   "cell_type": "markdown",
   "id": "61675428",
   "metadata": {},
   "source": [
    "### Количесвенный признак Population"
   ]
  },
  {
   "cell_type": "code",
   "execution_count": 115,
   "id": "3d31782e",
   "metadata": {},
   "outputs": [
    {
     "data": {
      "text/plain": [
       "count    20640.000000\n",
       "mean      1425.476744\n",
       "std       1132.462122\n",
       "min          3.000000\n",
       "25%        787.000000\n",
       "50%       1166.000000\n",
       "75%       1725.000000\n",
       "max      35682.000000\n",
       "Name: Population, dtype: float64"
      ]
     },
     "execution_count": 115,
     "metadata": {},
     "output_type": "execute_result"
    }
   ],
   "source": [
    "df['Population'].describe()"
   ]
  },
  {
   "cell_type": "code",
   "execution_count": 116,
   "id": "83e33453",
   "metadata": {},
   "outputs": [
    {
     "data": {
      "image/png": "[encoded data removed]",
      "text/plain": [
       "<Figure size 864x360 with 1 Axes>"
      ]
     },
     "metadata": {
      "needs_background": "light"
     },
     "output_type": "display_data"
    }
   ],
   "source": [
    "sns.violinplot(data=df,x=\"target_class\", y='Population', split=True)\n",
    "fig = plt.gcf()\n",
    "fig.set_size_inches(12, 5)\n",
    "plt.show()\n"
   ]
  },
  {
   "cell_type": "markdown",
   "id": "1ff0cd2b",
   "metadata": {},
   "source": [
    "Тут можно заметить, что численность района на стоимость жилья влияет слабо. "
   ]
  },
  {
   "cell_type": "markdown",
   "id": "0db6e78e",
   "metadata": {},
   "source": [
    "### Количесвенный признак AveOccup"
   ]
  },
  {
   "cell_type": "code",
   "execution_count": 117,
   "id": "38d74845",
   "metadata": {},
   "outputs": [
    {
     "data": {
      "text/plain": [
       "count    20640.000000\n",
       "mean         3.070655\n",
       "std         10.386050\n",
       "min          0.692308\n",
       "25%          2.429741\n",
       "50%          2.818116\n",
       "75%          3.282261\n",
       "max       1243.333333\n",
       "Name: AveOccup, dtype: float64"
      ]
     },
     "execution_count": 117,
     "metadata": {},
     "output_type": "execute_result"
    }
   ],
   "source": [
    "df['AveOccup'].describe()"
   ]
  },
  {
   "cell_type": "code",
   "execution_count": 118,
   "id": "59db379d",
   "metadata": {},
   "outputs": [
    {
     "data": {
      "image/png": "[encoded data removed]",
      "text/plain": [
       "<Figure size 864x1080 with 1 Axes>"
      ]
     },
     "metadata": {
      "needs_background": "light"
     },
     "output_type": "display_data"
    }
   ],
   "source": [
    "sns.violinplot(data=df,x=\"target_class\", y='AveOccup', split=True)\n",
    "fig = plt.gcf()\n",
    "fig.set_size_inches(12, 15)\n",
    "plt.show()"
   ]
  },
  {
   "cell_type": "markdown",
   "id": "b630c0e4",
   "metadata": {},
   "source": [
    "Можно заметить, что чем дороже дом, тем меньше средняя численость его жителей"
   ]
  },
  {
   "cell_type": "markdown",
   "id": "e027996c",
   "metadata": {},
   "source": [
    "### Количесвенный признак Latitude"
   ]
  },
  {
   "cell_type": "code",
   "execution_count": 119,
   "id": "3957920e",
   "metadata": {},
   "outputs": [
    {
     "data": {
      "text/plain": [
       "count    20640.000000\n",
       "mean        35.631861\n",
       "std          2.135952\n",
       "min         32.540000\n",
       "25%         33.930000\n",
       "50%         34.260000\n",
       "75%         37.710000\n",
       "max         41.950000\n",
       "Name: Latitude, dtype: float64"
      ]
     },
     "execution_count": 119,
     "metadata": {},
     "output_type": "execute_result"
    }
   ],
   "source": [
    "df['Latitude'].describe()"
   ]
  },
  {
   "cell_type": "markdown",
   "id": "0331f38e",
   "metadata": {},
   "source": [
    "## Feature Engineering"
   ]
  },
  {
   "cell_type": "markdown",
   "id": "b0605a28",
   "metadata": {},
   "source": [
    "Заменем количесвенные вещественные признаки категориальными. Будем распределять по классам с примерно одинаковой численностью"
   ]
  },
  {
   "cell_type": "code",
   "execution_count": 120,
   "id": "88007b33",
   "metadata": {},
   "outputs": [],
   "source": [
    "def val_target(y):\n",
    "    if y<=1:\n",
    "        return 0\n",
    "    elif y<=2:\n",
    "        return 1\n",
    "    elif y<=3:\n",
    "        return 2\n",
    "    else:\n",
    "        return 3\n",
    "    \n",
    "df['MedInc_class'] = df['MedInc'].apply(val_target)"
   ]
  },
  {
   "cell_type": "code",
   "execution_count": 121,
   "id": "60a83840",
   "metadata": {},
   "outputs": [],
   "source": [
    "def val_target(y):\n",
    "    if y<=2:\n",
    "        return 0\n",
    "    elif y<=3:\n",
    "        return 1\n",
    "    elif y<=4:\n",
    "        return 2\n",
    "    else:\n",
    "        return 3\n",
    "    \n",
    "df['AveRooms_class'] = df['AveRooms'].apply(val_target)"
   ]
  },
  {
   "cell_type": "code",
   "execution_count": 122,
   "id": "9089ab55",
   "metadata": {},
   "outputs": [],
   "source": [
    "def val_target(y):\n",
    "    if y<=1:\n",
    "        return 0\n",
    "    elif y<=2:\n",
    "        return 1\n",
    "    else:\n",
    "        return 2\n",
    "    \n",
    "df['AveBedrms_class'] = df['AveBedrms'].apply(val_target)"
   ]
  },
  {
   "cell_type": "code",
   "execution_count": 123,
   "id": "bad18ea6",
   "metadata": {},
   "outputs": [],
   "source": [
    "def val_target(y):\n",
    "    if y<=2:\n",
    "        return 0\n",
    "    elif y<=3:\n",
    "        return 1\n",
    "    elif y<=4:\n",
    "        return 2\n",
    "    else:\n",
    "        return 3\n",
    "    \n",
    "df['AveOccup_class'] = df['AveOccup'].apply(val_target)"
   ]
  },
  {
   "cell_type": "code",
   "execution_count": 124,
   "id": "a2146962",
   "metadata": {},
   "outputs": [],
   "source": [
    "def val_target(y):\n",
    "    if y<=33:\n",
    "        return 0\n",
    "    elif y<=34:\n",
    "        return 1\n",
    "    elif y<=37:\n",
    "        return 2\n",
    "    else:\n",
    "        return 3\n",
    "    \n",
    "df['Latitude_class'] = df['Latitude'].apply(val_target)"
   ]
  },
  {
   "cell_type": "markdown",
   "id": "bb2e8a98",
   "metadata": {},
   "source": [
    "## Удаление ненужных признаков"
   ]
  },
  {
   "cell_type": "markdown",
   "id": "6677dd4c",
   "metadata": {},
   "source": [
    "Так как мы ввели новый признак target_class, то можно удалить признак target"
   ]
  },
  {
   "cell_type": "code",
   "execution_count": 125,
   "id": "5dab6d34",
   "metadata": {},
   "outputs": [],
   "source": [
    "df.drop(['target'], axis=1, inplace=True)"
   ]
  },
  {
   "cell_type": "markdown",
   "id": "284a96b7",
   "metadata": {},
   "source": [
    "Также удаляем вещественные признаки, которые мы заменили категориальными"
   ]
  },
  {
   "cell_type": "code",
   "execution_count": 126,
   "id": "8b24e0cc",
   "metadata": {},
   "outputs": [],
   "source": [
    "# Удаляем количественные признаки, которые преобразовали в категориальные.\n",
    "df.drop(['MedInc', 'AveRooms', 'AveBedrms', 'AveOccup', 'Latitude'], axis = 1, inplace = True)"
   ]
  },
  {
   "cell_type": "markdown",
   "id": "a7dd3c8d",
   "metadata": {},
   "source": [
    "## Посмотрим корреляцию данных\n"
   ]
  },
  {
   "cell_type": "code",
   "execution_count": 127,
   "id": "7407da9e",
   "metadata": {},
   "outputs": [
    {
     "data": {
      "image/png": "[encoded data removed]",
      "text/plain": [
       "<Figure size 720x360 with 2 Axes>"
      ]
     },
     "metadata": {
      "needs_background": "light"
     },
     "output_type": "display_data"
    }
   ],
   "source": [
    "sns.heatmap(df.corr(), annot=True, cmap='RdYlGn')\n",
    "fig = plt.gcf()\n",
    "fig.set_size_inches(10, 5)\n",
    "plt.show()"
   ]
  },
  {
   "cell_type": "markdown",
   "id": "0831fecf",
   "metadata": {},
   "source": [
    "Можно заметить, что Latitude и Longitude сильно коррелируют. Поэтому можно удалить одну из них."
   ]
  },
  {
   "cell_type": "markdown",
   "id": "37b9a3fd",
   "metadata": {},
   "source": [
    "## Разбиение данных"
   ]
  },
  {
   "cell_type": "markdown",
   "id": "d9a5ff92",
   "metadata": {},
   "source": [
    "Разобъем данные на тестовую выборку и обучающую"
   ]
  },
  {
   "cell_type": "code",
   "execution_count": 128,
   "id": "c656aad3",
   "metadata": {},
   "outputs": [],
   "source": [
    "from sklearn.model_selection import train_test_split\n",
    "\n",
    "y = df[\"target_class\"]\n",
    "X = df.drop(columns=[\"target_class\"])\n",
    "\n",
    "X_train, X_test, y_train, y_test = train_test_split(X, y, test_size=0.3, random_state=42)"
   ]
  },
  {
   "cell_type": "markdown",
   "id": "42ab3145",
   "metadata": {},
   "source": [
    "Проверим, что мы получили то, что хотели"
   ]
  },
  {
   "cell_type": "code",
   "execution_count": 129,
   "id": "02c16c7d",
   "metadata": {},
   "outputs": [
    {
     "data": {
      "text/html": [
       "<div>\n",
       "<style scoped>\n",
       "    .dataframe tbody tr th:only-of-type {\n",
       "        vertical-align: middle;\n",
       "    }\n",
       "\n",
       "    .dataframe tbody tr th {\n",
       "        vertical-align: top;\n",
       "    }\n",
       "\n",
       "    .dataframe thead th {\n",
       "        text-align: right;\n",
       "    }\n",
       "</style>\n",
       "<table border=\"1\" class=\"dataframe\">\n",
       "  <thead>\n",
       "    <tr style=\"text-align: right;\">\n",
       "      <th></th>\n",
       "      <th>HouseAge</th>\n",
       "      <th>Population</th>\n",
       "      <th>Longitude</th>\n",
       "      <th>target_class</th>\n",
       "      <th>MedInc_class</th>\n",
       "      <th>AveRooms_class</th>\n",
       "      <th>AveBedrms_class</th>\n",
       "      <th>AveOccup_class</th>\n",
       "      <th>Latitude_class</th>\n",
       "    </tr>\n",
       "  </thead>\n",
       "  <tbody>\n",
       "    <tr>\n",
       "      <th>0</th>\n",
       "      <td>41.0</td>\n",
       "      <td>322.0</td>\n",
       "      <td>-122.23</td>\n",
       "      <td>1</td>\n",
       "      <td>3</td>\n",
       "      <td>3</td>\n",
       "      <td>1</td>\n",
       "      <td>1</td>\n",
       "      <td>3</td>\n",
       "    </tr>\n",
       "    <tr>\n",
       "      <th>1</th>\n",
       "      <td>21.0</td>\n",
       "      <td>2401.0</td>\n",
       "      <td>-122.22</td>\n",
       "      <td>1</td>\n",
       "      <td>3</td>\n",
       "      <td>3</td>\n",
       "      <td>0</td>\n",
       "      <td>1</td>\n",
       "      <td>3</td>\n",
       "    </tr>\n",
       "    <tr>\n",
       "      <th>2</th>\n",
       "      <td>52.0</td>\n",
       "      <td>496.0</td>\n",
       "      <td>-122.24</td>\n",
       "      <td>1</td>\n",
       "      <td>3</td>\n",
       "      <td>3</td>\n",
       "      <td>1</td>\n",
       "      <td>1</td>\n",
       "      <td>3</td>\n",
       "    </tr>\n",
       "    <tr>\n",
       "      <th>3</th>\n",
       "      <td>52.0</td>\n",
       "      <td>558.0</td>\n",
       "      <td>-122.25</td>\n",
       "      <td>1</td>\n",
       "      <td>3</td>\n",
       "      <td>3</td>\n",
       "      <td>1</td>\n",
       "      <td>1</td>\n",
       "      <td>3</td>\n",
       "    </tr>\n",
       "    <tr>\n",
       "      <th>4</th>\n",
       "      <td>52.0</td>\n",
       "      <td>565.0</td>\n",
       "      <td>-122.25</td>\n",
       "      <td>1</td>\n",
       "      <td>3</td>\n",
       "      <td>3</td>\n",
       "      <td>1</td>\n",
       "      <td>1</td>\n",
       "      <td>3</td>\n",
       "    </tr>\n",
       "  </tbody>\n",
       "</table>\n",
       "</div>"
      ],
      "text/plain": [
       "   HouseAge  Population  Longitude  target_class  MedInc_class  \\\n",
       "0      41.0       322.0    -122.23             1             3   \n",
       "1      21.0      2401.0    -122.22             1             3   \n",
       "2      52.0       496.0    -122.24             1             3   \n",
       "3      52.0       558.0    -122.25             1             3   \n",
       "4      52.0       565.0    -122.25             1             3   \n",
       "\n",
       "   AveRooms_class  AveBedrms_class  AveOccup_class  Latitude_class  \n",
       "0               3                1               1               3  \n",
       "1               3                0               1               3  \n",
       "2               3                1               1               3  \n",
       "3               3                1               1               3  \n",
       "4               3                1               1               3  "
      ]
     },
     "execution_count": 129,
     "metadata": {},
     "output_type": "execute_result"
    }
   ],
   "source": [
    "df.head()"
   ]
  },
  {
   "cell_type": "code",
   "execution_count": 130,
   "id": "8fa84fc7",
   "metadata": {},
   "outputs": [],
   "source": [
    "df.drop(['Longitude'], axis=1, inplace=True)"
   ]
  },
  {
   "cell_type": "markdown",
   "id": "16fe062c",
   "metadata": {},
   "source": [
    "## Реализация алгоритмов"
   ]
  },
  {
   "cell_type": "markdown",
   "id": "a6d90134",
   "metadata": {},
   "source": [
    "### Реализуем алгоритм AdaBoost"
   ]
  },
  {
   "cell_type": "code",
   "execution_count": 131,
   "id": "1698fc47",
   "metadata": {},
   "outputs": [],
   "source": [
    "def compute_error(y, y_pred, w_i):\n",
    "    return (sum(w_i * (np.not_equal(y, y_pred)).astype(int)))/sum(w_i)"
   ]
  },
  {
   "cell_type": "code",
   "execution_count": 132,
   "id": "790787dd",
   "metadata": {},
   "outputs": [],
   "source": [
    "def compute_alpha(error):\n",
    "    return np.log((1 - error) / error)"
   ]
  },
  {
   "cell_type": "code",
   "execution_count": 133,
   "id": "d1535b6e",
   "metadata": {},
   "outputs": [],
   "source": [
    "def update_weights(w_i, alpha, y, y_pred):\n",
    "    return w_i * np.exp(alpha * (np.not_equal(y, y_pred)).astype(int))"
   ]
  },
  {
   "cell_type": "code",
   "execution_count": 134,
   "id": "352a611c",
   "metadata": {},
   "outputs": [],
   "source": [
    "from sklearn.tree import DecisionTreeClassifier\n",
    "\n",
    "\n",
    "class MyAdaBoostClassifier:\n",
    "    \n",
    "    def __init__(self, M = 20):\n",
    "        self.alphas = []\n",
    "        self.G_M = []\n",
    "        self.M = M\n",
    "        self.training_errors = []\n",
    "        self.prediction_errors = []\n",
    "\n",
    "    def fit(self, X, y):\n",
    "        \n",
    "        self.alphas = [] \n",
    "        self.training_errors = []\n",
    "\n",
    "        for m in range(0, self.M):\n",
    "            if m == 0:\n",
    "                w_i = np.ones(len(y)) * 1 / len(y)\n",
    "            else:\n",
    "                w_i = update_weights(w_i, alpha_m, y, y_pred)\n",
    "            \n",
    "            G_m = DecisionTreeClassifier(max_depth = 1)\n",
    "            G_m.fit(X, y, sample_weight = w_i)\n",
    "            y_pred = G_m.predict(X)\n",
    "            \n",
    "            self.G_M.append(G_m)\n",
    "\n",
    "            error_m = compute_error(y, y_pred, w_i)\n",
    "            self.training_errors.append(error_m)\n",
    "\n",
    "            alpha_m = compute_alpha(error_m)\n",
    "            self.alphas.append(alpha_m)\n",
    "\n",
    "        assert len(self.G_M) == len(self.alphas)\n",
    "        \n",
    "    def predict(self, X):\n",
    "        weak_preds = pd.DataFrame(index = range(len(X)), columns = range(self.M)) \n",
    "\n",
    "        for m in range(self.M):\n",
    "            y_pred_m = self.G_M[m].predict(X) * self.alphas[m]\n",
    "            weak_preds.iloc[:,m] = y_pred_m\n",
    "\n",
    "        y_pred = (1 * np.sign(weak_preds.T.sum())).astype(int)\n",
    "\n",
    "        return y_pred"
   ]
  },
  {
   "cell_type": "code",
   "execution_count": 135,
   "id": "e3cb3487",
   "metadata": {},
   "outputs": [
    {
     "data": {
      "text/plain": [
       "0.5894702842377261"
      ]
     },
     "execution_count": 135,
     "metadata": {},
     "output_type": "execute_result"
    }
   ],
   "source": [
    "from sklearn.metrics import accuracy_score\n",
    "\n",
    "accuracy_score(y_test, y_pred)"
   ]
  },
  {
   "cell_type": "code",
   "execution_count": 137,
   "id": "4d8ef54e",
   "metadata": {},
   "outputs": [
    {
     "name": "stdout",
     "output_type": "stream",
     "text": [
      "Best parameters: {'Estimators number': 1}\n",
      "Best accuracy: 0.7464470284237726\n",
      "Model accuracy: 0.7464470284237726\n",
      "Model time: 0.01599597930908203\n"
     ]
    }
   ],
   "source": [
    "from sklearn.metrics import accuracy_score\n",
    "import time\n",
    "import optuna\n",
    "optuna.logging.set_verbosity(optuna.logging.WARNING)\n",
    "\n",
    "def objective(trial):\n",
    "    estimators_number = trial.suggest_int('Estimators number', 1, 25)\n",
    "    \n",
    "    model = MyAdaBoostClassifier(estimators_number)\n",
    "    model.fit(np.array(X_train), np.array(y_train))\n",
    "    y_pred = model.predict(np.array(X_test))\n",
    "\n",
    "    return accuracy_score(y_test, y_pred)\n",
    "\n",
    "study = optuna.create_study(direction='maximize')\n",
    "study.optimize(objective, n_trials = n_trials)\n",
    "\n",
    "print(f'Best parameters: {study.best_trial.params}')\n",
    "print(f'Best accuracy: {study.best_value}')\n",
    "\n",
    "estimators_number_best = study.best_trial.params['Estimators number']\n",
    "\n",
    "model = MyAdaBoostClassifier(estimators_number_best)\n",
    "\n",
    "start = time.time()\n",
    "model.fit(X_train, y_train)\n",
    "end = time.time()\n",
    "\n",
    "MyAdaboost_predClassifier = model.predict(X_test)\n",
    "MyAdaboostClassifier_accuracy = accuracy_score(y_test, MyAdaboost_predClassifier)\n",
    "MyAdaboostClassifier_time = end - start\n",
    "\n",
    "print(f'Model accuracy: {MyAdaboostClassifier_accuracy}')\n",
    "print(f'Model time: {MyAdaboostClassifier_time}')"
   ]
  },
  {
   "cell_type": "markdown",
   "id": "6e3ad49e",
   "metadata": {},
   "source": [
    "### Реализуем алгоритм Bagging "
   ]
  },
  {
   "cell_type": "code",
   "execution_count": 138,
   "id": "04340a51",
   "metadata": {},
   "outputs": [],
   "source": [
    "class MyBaggingClassifier:\n",
    "    def __init__(self, estimators_number = 15, samples_number = 1):\n",
    "        self.estimators_number = estimators_number\n",
    "        self.samples_number = samples_number\n",
    "\n",
    "    def fit(self, x, y):\n",
    "        self.estimators = []\n",
    "        \n",
    "        for i in range(self.estimators_number):\n",
    "            sample_index = np.random.choice(self.samples_number, size = len(x))\n",
    "            x_sample = x[sample_index]\n",
    "            y_sample = y[sample_index]\n",
    "            \n",
    "            estimator = DecisionTreeClassifier()\n",
    "            estimator.fit(x_sample, y_sample)\n",
    "\n",
    "            self.estimators.append(estimator)\n",
    "\n",
    "    def predict(self, x):\n",
    "        predicted = np.zeros(len(x))\n",
    "        for estimator in self.estimators:\n",
    "            predicted += estimator.predict(x)\n",
    "        \n",
    "        return np.round(predicted / self.estimators_number)"
   ]
  },
  {
   "cell_type": "code",
   "execution_count": 139,
   "id": "48253c11",
   "metadata": {},
   "outputs": [],
   "source": [
    "accuracy= [] \n",
    "recall =[]\n",
    "roc_auc= []\n",
    "precision = []\n",
    "times = []\n",
    "\n",
    "model_names =[]\n",
    "\n",
    "n_trials = 30"
   ]
  },
  {
   "cell_type": "code",
   "execution_count": 140,
   "id": "8ee706c6",
   "metadata": {},
   "outputs": [
    {
     "name": "stdout",
     "output_type": "stream",
     "text": [
      "Best parameters: {'n_estimators': 15, 'n_samples': 49}\n",
      "Best accuracy: 0.688953488372093\n",
      "Model accuracy: 0.6824935400516796\n",
      "Model time: 0.25184130668640137\n"
     ]
    }
   ],
   "source": [
    "def objective(trial):\n",
    "    estimators_number = trial.suggest_int('n_estimators', 10, 25)\n",
    "    samples_number = trial.suggest_int('n_samples', 30, 50)\n",
    "    \n",
    "    model = MyBaggingClassifier(estimators_number, samples_number)\n",
    "    model.fit(np.array(X_train), np.array(y_train))\n",
    "    y_pred = model.predict(np.array(X_test))\n",
    "\n",
    "    return accuracy_score(y_test, y_pred)\n",
    "\n",
    "\n",
    "study = optuna.create_study(direction='maximize')\n",
    "study.optimize(objective, n_trials = n_trials)\n",
    "\n",
    "\n",
    "print(f'Best parameters: {study.best_trial.params}')\n",
    "print(f'Best accuracy: {study.best_value}')\n",
    "\n",
    "estimators_number_best = study.best_trial.params['n_estimators']\n",
    "samples_number_best = study.best_trial.params['n_samples']\n",
    "\n",
    "model = MyBaggingClassifier(estimators_number_best, samples_number_best)\n",
    "\n",
    "start = time.time()\n",
    "model.fit(np.array(X_train), np.array(y_train))\n",
    "end = time.time()\n",
    "\n",
    "MybaggingClassifier_pred = model.predict(X_test)\n",
    "MybaggingClassifier_accuracy = accuracy_score(y_test, MybaggingClassifier_pred)\n",
    "MybaggingClassifier_time = end - start\n",
    "\n",
    "print(f'Model accuracy: {MybaggingClassifier_accuracy}')\n",
    "print(f'Model time: {MybaggingClassifier_time}')"
   ]
  },
  {
   "cell_type": "markdown",
   "id": "9fc2d275",
   "metadata": {},
   "source": [
    "## Обучение библиотечных моделей из sklearn \n"
   ]
  },
  {
   "cell_type": "markdown",
   "id": "94e1d969",
   "metadata": {},
   "source": [
    "### AdaBoost"
   ]
  },
  {
   "cell_type": "code",
   "execution_count": 142,
   "id": "167d2322",
   "metadata": {},
   "outputs": [
    {
     "name": "stdout",
     "output_type": "stream",
     "text": [
      "Best parameters: {'Estimators number': 9, 'Learning rate': 4}\n",
      "Best accuracy: 0.7877906976744186\n",
      "Model accuracy: 0.7860142118863049\n",
      "Model time: 0.12099766731262207\n"
     ]
    }
   ],
   "source": [
    "from sklearn.ensemble import AdaBoostClassifier\n",
    "\n",
    "def objective(trial):\n",
    "    estimators_number = trial.suggest_int('Estimators number', 1, 10)\n",
    "    learning_rate = trial.suggest_int('Learning rate', 1, 5)\n",
    "    \n",
    "    model = AdaBoostClassifier(\n",
    "        n_estimators = estimators_number,\n",
    "        learning_rate = learning_rate / 10,\n",
    "        base_estimator = DecisionTreeClassifier())\n",
    "    model.fit(X_train, y_train)\n",
    "    y_pred = model.predict(X_test)\n",
    "\n",
    "    return accuracy_score(y_test, y_pred)\n",
    "\n",
    "study = optuna.create_study(direction = 'maximize')\n",
    "study.optimize(objective, n_trials = n_trials)\n",
    "\n",
    "print(f'Best parameters: {study.best_trial.params}')\n",
    "print(f'Best accuracy: {study.best_value}')\n",
    "\n",
    "estimators_number_best = study.best_trial.params['Estimators number']\n",
    "learning_rate_best = study.best_trial.params['Learning rate']\n",
    "\n",
    "model = AdaBoostClassifier(\n",
    "    n_estimators = estimators_number_best,\n",
    "    learning_rate = learning_rate_best / 10,\n",
    "    base_estimator = DecisionTreeClassifier())\n",
    "\n",
    "start = time.time()\n",
    "model.fit(X_train, y_train)\n",
    "end = time.time()\n",
    "\n",
    "sklearn_adaboostClassifier_pred = model.predict(X_test)\n",
    "sklearn_adaboostClassifier_accuracy = accuracy_score(y_test, sklearn_adaboostClassifier_pred)\n",
    "sklearn_adaboostClassifier_time = end - start\n",
    "\n",
    "print(f'Model accuracy: {sklearn_adaboostClassifier_accuracy}')\n",
    "print(f'Model time: {sklearn_adaboostClassifier_time}')"
   ]
  },
  {
   "cell_type": "markdown",
   "id": "9b252515",
   "metadata": {},
   "source": [
    "### Bagging"
   ]
  },
  {
   "cell_type": "code",
   "execution_count": 157,
   "id": "5b6eabda",
   "metadata": {},
   "outputs": [
    {
     "name": "stdout",
     "output_type": "stream",
     "text": [
      "Best parameters: {'Estimators number': 25, 'Samples number': 14, 'Features number': 8}\n",
      "Best accuracy: 0.8417312661498708\n",
      "Model accuracy: 0.8292958656330749\n",
      "Model time: 0.45031118392944336\n"
     ]
    }
   ],
   "source": [
    "from sklearn.ensemble import BaggingClassifier\n",
    "\n",
    "def objective(trial):\n",
    "    estimators_number = trial.suggest_int('Estimators number', 1, 25)\n",
    "    samples_number = trial.suggest_int('Samples number', 1, 20)\n",
    "    features_number = trial.suggest_int('Features number', 2, 10)\n",
    "    model = BaggingClassifier(\n",
    "        n_estimators = estimators_number,\n",
    "        max_samples = samples_number / 20,\n",
    "        max_features = features_number / 10,\n",
    "        base_estimator = DecisionTreeClassifier())\n",
    "    \n",
    "    model.fit(X_train, y_train)\n",
    "    y_pred = model.predict(X_test)\n",
    "\n",
    "    return accuracy_score(y_test, y_pred)\n",
    "\n",
    "study = optuna.create_study(direction = 'maximize')\n",
    "study.optimize(objective, n_trials = n_trials)\n",
    "\n",
    "print(f'Best parameters: {study.best_trial.params}')\n",
    "print(f'Best accuracy: {study.best_value}')\n",
    "\n",
    "estimators_number_best = study.best_trial.params['Estimators number']\n",
    "samples_number_best = study.best_trial.params['Samples number']\n",
    "features_number_best = study.best_trial.params['Features number']\n",
    "\n",
    "model = BaggingClassifier(\n",
    "    n_estimators = estimators_number_best,\n",
    "    max_samples = samples_number_best / 20,\n",
    "    max_features = features_number_best / 12,\n",
    "    base_estimator = DecisionTreeClassifier())\n",
    "\n",
    "start = time.time()\n",
    "model.fit(X_train, y_train)\n",
    "end = time.time()\n",
    "\n",
    "sklearn_baggingClassifier_pred = model.predict(X_test)\n",
    "sklearn_baggingClassifier_accuracy = accuracy_score(y_test, sklearn_baggingClassifier_pred)\n",
    "sklearn_baggingClassifier_time = end - start\n",
    "\n",
    "print(f'Model accuracy: {sklearn_baggingClassifier_accuracy}')\n",
    "print(f'Model time: {sklearn_baggingClassifier_time}')"
   ]
  },
  {
   "cell_type": "markdown",
   "id": "a71275bc",
   "metadata": {},
   "source": [
    "### Random Forest"
   ]
  },
  {
   "cell_type": "code",
   "execution_count": 144,
   "id": "b23b3024",
   "metadata": {},
   "outputs": [
    {
     "name": "stdout",
     "output_type": "stream",
     "text": [
      "Best parameters: {'Estimators number': 19, 'Samples number': 16, 'Features number': 10}\n",
      "Best accuracy: 0.790859173126615\n",
      "Model accuracy: 0.790859173126615\n",
      "Model time: 0.29399609565734863\n"
     ]
    }
   ],
   "source": [
    "from sklearn.ensemble import RandomForestClassifier\n",
    "\n",
    "def objective(trial):\n",
    "    estimators_number = trial.suggest_int('Estimators number', 1, 100)\n",
    "    samples_number = trial.suggest_int('Samples number', 1, 20)\n",
    "    features_number = trial.suggest_int('Features number', 2, 10)\n",
    "    rf = RandomForestClassifier(\n",
    "        n_estimators = estimators_number,\n",
    "        max_samples = samples_number / 30,\n",
    "        max_features = features_number / 10,\n",
    "        max_depth = 4,\n",
    "        random_state = 40)\n",
    "    \n",
    "    rf.fit(X_train, y_train)\n",
    "    y_pred = rf.predict(X_test)\n",
    "\n",
    "    return accuracy_score(y_test, y_pred)\n",
    "\n",
    "study = optuna.create_study(direction = 'maximize')\n",
    "study.optimize(objective, n_trials = n_trials)\n",
    "\n",
    "print(f'Best parameters: {study.best_trial.params}')\n",
    "print(f'Best accuracy: {study.best_value}')\n",
    "\n",
    "estimators_number_best = study.best_trial.params['Estimators number']\n",
    "samples_number_best = study.best_trial.params['Samples number']\n",
    "features_number_best = study.best_trial.params['Features number']\n",
    "\n",
    "model = RandomForestClassifier(\n",
    "    n_estimators = estimators_number_best,\n",
    "    max_samples = samples_number_best / 30,\n",
    "    max_features = features_number_best / 10,\n",
    "    max_depth = 4,\n",
    "    random_state = 42)\n",
    "\n",
    "start = time.time()\n",
    "model.fit(X_train, y_train)\n",
    "end = time.time()\n",
    "\n",
    "sklearn_RandomForestClassifier_pred = model.predict(X_test)\n",
    "sklearn_RandomForestClassifier_accuracy = accuracy_score(y_test, sklearn_RandomForestClassifier_pred)\n",
    "sklearn_RandomForestClassifier_time = end - start\n",
    "\n",
    "print(f'Model accuracy: {sklearn_RandomForestClassifier_accuracy}')\n",
    "print(f'Model time: {sklearn_RandomForestClassifier_time}')"
   ]
  },
  {
   "cell_type": "markdown",
   "id": "925387b3",
   "metadata": {},
   "source": [
    "### Gradient Tree Boosting"
   ]
  },
  {
   "cell_type": "code",
   "execution_count": 145,
   "id": "10bbb3ea",
   "metadata": {},
   "outputs": [
    {
     "name": "stdout",
     "output_type": "stream",
     "text": [
      "Best parameters: {'Estimators number': 25, 'Depth': 10, 'Features number': 7}\n",
      "Best accuracy: 0.8488372093023255\n",
      "Model accuracy: 0.8488372093023255\n",
      "Model time: 1.884943962097168\n"
     ]
    }
   ],
   "source": [
    "from sklearn.ensemble import GradientBoostingClassifier\n",
    "\n",
    "def objective(trial):\n",
    "    estimators_number = trial.suggest_int('Estimators number', 1, 25)\n",
    "    depth = trial.suggest_int('Depth', 1, 10)\n",
    "    features_number = trial.suggest_int('Features number', 2, 10)\n",
    "    gb = GradientBoostingClassifier(\n",
    "        n_estimators = estimators_number,\n",
    "        max_depth = depth,\n",
    "        max_features = features_number / 10,\n",
    "        random_state = 40)\n",
    "    \n",
    "    gb.fit(X_train, y_train)\n",
    "    y_pred = gb.predict(X_test)\n",
    "\n",
    "    return accuracy_score(y_test, y_pred)\n",
    "\n",
    "study = optuna.create_study(direction = 'maximize')\n",
    "study.optimize(objective, n_trials = n_trials)\n",
    "\n",
    "print(f'Best parameters: {study.best_trial.params}')\n",
    "print(f'Best accuracy: {study.best_value}')\n",
    "\n",
    "estimators_number_best = study.best_trial.params['Estimators number']\n",
    "depth_best = study.best_trial.params['Depth']\n",
    "features_number_best = study.best_trial.params['Features number']\n",
    "\n",
    "model = GradientBoostingClassifier(\n",
    "    n_estimators = estimators_number_best,\n",
    "    max_depth = depth_best,\n",
    "    max_features = features_number_best / 10,\n",
    "    random_state = 42)\n",
    "\n",
    "start = time.time()\n",
    "model.fit(X_train, y_train)\n",
    "end = time.time()\n",
    "\n",
    "sklearn_GradientBoostingClassifier_pred = model.predict(X_test)\n",
    "sklearn_GradientBoostingClassifier_accuracy = accuracy_score(y_test, sklearn_GradientBoostingClassifier_pred)\n",
    "sklearn_GradientBoostingClassifier_time = end - start\n",
    "\n",
    "print(f'Model accuracy: {sklearn_GradientBoostingClassifier_accuracy}')\n",
    "print(f'Model time: {sklearn_GradientBoostingClassifier_time}')"
   ]
  },
  {
   "cell_type": "markdown",
   "id": "cce1f985",
   "metadata": {},
   "source": [
    "### Histogram-Based Gradient Boosting"
   ]
  },
  {
   "cell_type": "code",
   "execution_count": 146,
   "id": "e8d4b8a2",
   "metadata": {},
   "outputs": [
    {
     "name": "stdout",
     "output_type": "stream",
     "text": [
      "Best parameters: {'Learning rate': 6, 'Iterations number': 11, 'Leaf nodes number': 25, 'Depth': 7}\n",
      "Best accuracy: 0.8401162790697675\n",
      "Model accuracy: 0.8401162790697675\n",
      "Model time: 0.17900300025939941\n"
     ]
    }
   ],
   "source": [
    "from sklearn.experimental import enable_hist_gradient_boosting\n",
    "from sklearn.ensemble import HistGradientBoostingClassifier\n",
    "\n",
    "def objective(trial):\n",
    "    learning_rate = trial.suggest_int('Learning rate', 1, 10)\n",
    "    iterations_number = trial.suggest_int('Iterations number', 1, 15)\n",
    "    leaf_nodes_number = trial.suggest_int('Leaf nodes number', 2, 32)\n",
    "    depth = trial.suggest_int('Depth', 1, 10)\n",
    "    hgb = HistGradientBoostingClassifier(\n",
    "        learning_rate = learning_rate / 10,\n",
    "        max_iter = iterations_number,\n",
    "        max_depth = depth,\n",
    "        max_leaf_nodes = leaf_nodes_number,\n",
    "        random_state = 40)\n",
    "    \n",
    "    hgb.fit(X_train, y_train)\n",
    "    y_pred = hgb.predict(X_test)\n",
    "\n",
    "    return accuracy_score(y_test, y_pred)\n",
    "\n",
    "study = optuna.create_study(direction = 'maximize')\n",
    "study.optimize(objective, n_trials = n_trials)\n",
    "\n",
    "print(f'Best parameters: {study.best_trial.params}')\n",
    "print(f'Best accuracy: {study.best_value}')\n",
    "\n",
    "learning_rate_best = study.best_trial.params['Learning rate']\n",
    "iterations_number_best = study.best_trial.params['Iterations number']\n",
    "depth_best = study.best_trial.params['Depth']\n",
    "leaf_nodes_number_best = study.best_trial.params['Leaf nodes number']\n",
    "\n",
    "model = HistGradientBoostingClassifier(\n",
    "    learning_rate = learning_rate_best / 10,\n",
    "    max_iter = iterations_number_best,\n",
    "    max_depth = depth_best,\n",
    "    max_leaf_nodes = leaf_nodes_number_best,\n",
    "    random_state = 42)\n",
    "\n",
    "start = time.time()\n",
    "model.fit(X_train, y_train)\n",
    "end = time.time()\n",
    "\n",
    "sklearn_HistGradientBoostingClassifier_pred = model.predict(X_test)\n",
    "sklearn_HistGradientBoostingClassifier_accuracy = accuracy_score(y_test, sklearn_HistGradientBoostingClassifier_pred)\n",
    "sklearn_HistGradientBoostingClassifier_time = end - start\n",
    "\n",
    "print(f'Model accuracy: {sklearn_HistGradientBoostingClassifier_accuracy}')\n",
    "print(f'Model time: {sklearn_HistGradientBoostingClassifier_time}')"
   ]
  },
  {
   "cell_type": "markdown",
   "id": "45e9e4b9",
   "metadata": {},
   "source": [
    "## Дополнительные модели"
   ]
  },
  {
   "cell_type": "markdown",
   "id": "a4ebc8c6",
   "metadata": {},
   "source": [
    "## xgboost"
   ]
  },
  {
   "cell_type": "code",
   "execution_count": 147,
   "id": "23cf5684",
   "metadata": {},
   "outputs": [
    {
     "name": "stdout",
     "output_type": "stream",
     "text": [
      "Best parameters: {'Estimators number': 21, 'Leaves number': 3, 'Depth': 8}\n",
      "Best accuracy: 0.8460917312661499\n",
      "Model accuracy: 0.8460917312661499\n",
      "Model time: 0.33608078956604004\n"
     ]
    }
   ],
   "source": [
    "from xgboost import XGBClassifier\n",
    "\n",
    "def objective(trial):\n",
    "    estimators_number = trial.suggest_int('Estimators number', 1, 25)\n",
    "    leaves_number = trial.suggest_int('Leaves number', 1, 20)\n",
    "    depth = trial.suggest_int('Depth', 1, 10)\n",
    "    xgb = XGBClassifier(\n",
    "        n_estimators = estimators_number,\n",
    "        max_leaves = leaves_number,\n",
    "        max_depth = depth,\n",
    "        random_state = 40)\n",
    "    \n",
    "    xgb.fit(X_train, y_train)\n",
    "    y_pred = xgb.predict(X_test)\n",
    "\n",
    "    return accuracy_score(y_test, y_pred)\n",
    "\n",
    "study = optuna.create_study(direction = 'maximize')\n",
    "study.optimize(objective, n_trials = n_trials)\n",
    "\n",
    "print(f'Best parameters: {study.best_trial.params}')\n",
    "print(f'Best accuracy: {study.best_value}')\n",
    "\n",
    "estimators_number_best = study.best_trial.params['Estimators number']\n",
    "leaves_number_best = study.best_trial.params['Leaves number']\n",
    "depth_best = study.best_trial.params['Depth']\n",
    "\n",
    "model = XGBClassifier(\n",
    "    n_estimators = estimators_number_best,\n",
    "    max_leaves = leaves_number_best,\n",
    "    max_depth = depth_best,\n",
    "    random_state = 42)\n",
    "\n",
    "start = time.time()\n",
    "model.fit(X_train, y_train)\n",
    "end = time.time()\n",
    "\n",
    "xgboostClassifier_pred = model.predict(X_test)\n",
    "xgboostClassifier_accuracy = accuracy_score(y_test, xgboostClassifier_pred)\n",
    "xgboostClassifier_time = end - start\n",
    "\n",
    "print(f'Model accuracy: {xgboostClassifier_accuracy}')\n",
    "print(f'Model time: {xgboostClassifier_time}')"
   ]
  },
  {
   "cell_type": "markdown",
   "id": "3cd00c29",
   "metadata": {},
   "source": [
    "### lightgbm"
   ]
  },
  {
   "cell_type": "code",
   "execution_count": 148,
   "id": "ad72a820",
   "metadata": {},
   "outputs": [
    {
     "name": "stdout",
     "output_type": "stream",
     "text": [
      "Best parameters: {'Estimators number': 12, 'Learning rate': 4, 'Depth': 8}\n",
      "Best accuracy: 0.838016795865633\n",
      "Model accuracy: 0.838016795865633\n",
      "Model time: 0.06599926948547363\n"
     ]
    }
   ],
   "source": [
    "from lightgbm import LGBMClassifier\n",
    "\n",
    "def objective(trial):\n",
    "    estimators_number = trial.suggest_int('Estimators number', 1, 25)\n",
    "    learning_rate = trial.suggest_int('Learning rate', 1, 10)\n",
    "    depth = trial.suggest_int('Depth', 1, 10)\n",
    "    xgb = LGBMClassifier(\n",
    "        n_estimators = estimators_number,\n",
    "        learning_rate = learning_rate / 10,\n",
    "        max_depth = depth,\n",
    "        random_state = 40)\n",
    "    \n",
    "    xgb.fit(X_train, y_train)\n",
    "    y_pred = xgb.predict(X_test)\n",
    "\n",
    "    return accuracy_score(y_test, y_pred)\n",
    "\n",
    "study = optuna.create_study(direction = 'maximize')\n",
    "study.optimize(objective, n_trials = n_trials)\n",
    "\n",
    "print(f'Best parameters: {study.best_trial.params}')\n",
    "print(f'Best accuracy: {study.best_value}')\n",
    "\n",
    "estimators_number_best = study.best_trial.params['Estimators number']\n",
    "learning_rate_best = study.best_trial.params['Learning rate']\n",
    "depth_best = study.best_trial.params['Depth']\n",
    "\n",
    "model = LGBMClassifier(\n",
    "    n_estimators = estimators_number_best,\n",
    "    learning_rate = learning_rate_best / 10,\n",
    "    max_depth = depth_best,\n",
    "    random_state = 42)\n",
    "\n",
    "start = time.time()\n",
    "model.fit(X_train, y_train)\n",
    "end = time.time()\n",
    "\n",
    "lightgbmClassifier_pred = model.predict(X_test)\n",
    "lightgbmClassifier_accuracy = accuracy_score(y_test, lightgbmClassifier_pred)\n",
    "lightgbmClassifier_time = end - start\n",
    "\n",
    "print(f'Model accuracy: {lightgbmClassifier_accuracy}')\n",
    "print(f'Model time: {lightgbmClassifier_time}')"
   ]
  },
  {
   "cell_type": "markdown",
   "id": "8a8ec506",
   "metadata": {},
   "source": [
    "### catboost"
   ]
  },
  {
   "cell_type": "code",
   "execution_count": 149,
   "id": "e9960d57",
   "metadata": {},
   "outputs": [
    {
     "name": "stdout",
     "output_type": "stream",
     "text": [
      "Best parameters: {'Estimators number': 21, 'Learning rate': 9, 'Depth': 6}\n",
      "Best accuracy: 0.8439922480620154\n",
      "Model accuracy: 0.8439922480620154\n",
      "Model time: 0.19899797439575195\n"
     ]
    }
   ],
   "source": [
    "from catboost import CatBoostClassifier\n",
    "\n",
    "def objective(trial):\n",
    "    estimators_number = trial.suggest_int('Estimators number', 1, 25)\n",
    "    learning_rate = trial.suggest_int('Learning rate', 1, 10)\n",
    "    depth = trial.suggest_int('Depth', 1, 10)\n",
    "    xgb = CatBoostClassifier(\n",
    "        n_estimators = estimators_number,\n",
    "        learning_rate = learning_rate / 10,\n",
    "        max_depth = depth,\n",
    "        random_state = 40,\n",
    "        verbose = False)\n",
    "    \n",
    "    xgb.fit(X_train, y_train)\n",
    "    y_pred = xgb.predict(X_test)\n",
    "\n",
    "    return accuracy_score(y_test, y_pred)\n",
    "\n",
    "study = optuna.create_study(direction = 'maximize')\n",
    "study.optimize(objective, n_trials = n_trials)\n",
    "\n",
    "print(f'Best parameters: {study.best_trial.params}')\n",
    "print(f'Best accuracy: {study.best_value}')\n",
    "\n",
    "estimators_number_best = study.best_trial.params['Estimators number']\n",
    "learning_rate_best = study.best_trial.params['Learning rate']\n",
    "depth_best = study.best_trial.params['Depth']\n",
    "\n",
    "model = CatBoostClassifier(\n",
    "    n_estimators = estimators_number_best,\n",
    "    learning_rate = learning_rate_best / 10,\n",
    "    max_depth = depth_best,\n",
    "    random_state = 42,\n",
    "    verbose = False)\n",
    "\n",
    "start = time.time()\n",
    "model.fit(X_train, y_train)\n",
    "end = time.time()\n",
    "\n",
    "catboostClassifier_pred = model.predict(X_test)\n",
    "catboostClassifier_accuracy = accuracy_score(y_test, catboostClassifier_pred)\n",
    "catboostClassifier_time = end - start\n",
    "\n",
    "print(f'Model accuracy: {catboostClassifier_accuracy}')\n",
    "print(f'Model time: {catboostClassifier_time}')"
   ]
  },
  {
   "cell_type": "markdown",
   "id": "f32d837f",
   "metadata": {},
   "source": [
    "## Выводы\n"
   ]
  },
  {
   "cell_type": "markdown",
   "id": "9a79c14e",
   "metadata": {},
   "source": [
    "### Промежуточные выводы о точности методов и стратегий"
   ]
  },
  {
   "cell_type": "code",
   "execution_count": 153,
   "id": "64f36bdd",
   "metadata": {},
   "outputs": [
    {
     "data": {
      "text/html": [
       "<div>\n",
       "<style scoped>\n",
       "    .dataframe tbody tr th:only-of-type {\n",
       "        vertical-align: middle;\n",
       "    }\n",
       "\n",
       "    .dataframe tbody tr th {\n",
       "        vertical-align: top;\n",
       "    }\n",
       "\n",
       "    .dataframe thead th {\n",
       "        text-align: right;\n",
       "    }\n",
       "</style>\n",
       "<table border=\"1\" class=\"dataframe\">\n",
       "  <thead>\n",
       "    <tr style=\"text-align: right;\">\n",
       "      <th></th>\n",
       "      <th>methods\\Characteristics</th>\n",
       "      <th>MyAdaBoost</th>\n",
       "      <th>MyBagging</th>\n",
       "      <th>Bagging</th>\n",
       "      <th>Random Forest</th>\n",
       "      <th>AdaBoost</th>\n",
       "      <th>Gradient Tree Boosting</th>\n",
       "      <th>Histogram-Based Gradient Boosting</th>\n",
       "      <th>XGBoost</th>\n",
       "      <th>LightGBM</th>\n",
       "      <th>CatBoost</th>\n",
       "    </tr>\n",
       "  </thead>\n",
       "  <tbody>\n",
       "    <tr>\n",
       "      <th>0</th>\n",
       "      <td>Accuracy</td>\n",
       "      <td>0.746447</td>\n",
       "      <td>0.682494</td>\n",
       "      <td>0.842862</td>\n",
       "      <td>0.790859</td>\n",
       "      <td>0.786014</td>\n",
       "      <td>0.848837</td>\n",
       "      <td>0.840116</td>\n",
       "      <td>0.846092</td>\n",
       "      <td>0.838017</td>\n",
       "      <td>0.843992</td>\n",
       "    </tr>\n",
       "    <tr>\n",
       "      <th>1</th>\n",
       "      <td>Time</td>\n",
       "      <td>0.015996</td>\n",
       "      <td>0.251841</td>\n",
       "      <td>0.932002</td>\n",
       "      <td>0.293996</td>\n",
       "      <td>0.120998</td>\n",
       "      <td>1.884944</td>\n",
       "      <td>0.179003</td>\n",
       "      <td>0.336081</td>\n",
       "      <td>0.065999</td>\n",
       "      <td>0.198998</td>\n",
       "    </tr>\n",
       "  </tbody>\n",
       "</table>\n",
       "</div>"
      ],
      "text/plain": [
       "  methods\\Characteristics  MyAdaBoost  MyBagging   Bagging  Random Forest  \\\n",
       "0                Accuracy    0.746447   0.682494  0.842862       0.790859   \n",
       "1                    Time    0.015996   0.251841  0.932002       0.293996   \n",
       "\n",
       "   AdaBoost  Gradient Tree Boosting  Histogram-Based Gradient Boosting  \\\n",
       "0  0.786014                0.848837                           0.840116   \n",
       "1  0.120998                1.884944                           0.179003   \n",
       "\n",
       "    XGBoost  LightGBM   CatBoost  \n",
       "0  0.846092   0.838017  0.843992  \n",
       "1  0.336081   0.065999  0.198998  "
      ]
     },
     "execution_count": 153,
     "metadata": {},
     "output_type": "execute_result"
    }
   ],
   "source": [
    "table = {\n",
    "    'methods\\Characteristics': ['Accuracy', 'Time'],\n",
    "    'MyAdaBoost':[MyAdaboostClassifier_accuracy, MyAdaboostClassifier_time],\n",
    "    'MyBagging': [MybaggingClassifier_accuracy, MybaggingClassifier_time],\n",
    "    'Bagging': [sklearn_baggingClassifier_accuracy, sklearn_baggingClassifier_time],\n",
    "    'Random Forest': [sklearn_RandomForestClassifier_accuracy, sklearn_RandomForestClassifier_time],\n",
    "    'AdaBoost':[sklearn_adaboostClassifier_accuracy, sklearn_adaboostClassifier_time],\n",
    "    'Gradient Tree Boosting': [sklearn_GradientBoostingClassifier_accuracy, sklearn_GradientBoostingClassifier_time],\n",
    "    'Histogram-Based Gradient Boosting': [sklearn_HistGradientBoostingClassifier_accuracy, sklearn_HistGradientBoostingClassifier_time],\n",
    "    'XGBoost': [xgboostClassifier_accuracy, xgboostClassifier_time],\n",
    "    'LightGBM ':[lightgbmClassifier_accuracy, lightgbmClassifier_time],\n",
    "    'CatBoost': [catboostClassifier_accuracy, catboostClassifier_time],\n",
    "}\n",
    "\n",
    "pd.DataFrame(data=table)"
   ]
  },
  {
   "cell_type": "markdown",
   "id": "06594882",
   "metadata": {},
   "source": [
    "Можно заметить, что если рассматривать только качество алгоритма, то лучшими являются сразу несколько: XGBoost, Histogram-Based Gradient Boosting, MyAdaBoost, CatBoost. Но если рассматривать еще и время, то остается три алгоритма: Histogram-Based Gradient Boosting, LightGBM и MyAdaBoost."
   ]
  },
  {
   "cell_type": "markdown",
   "id": "35fe0e7a",
   "metadata": {},
   "source": [
    "### Построение Confusion Matrix"
   ]
  },
  {
   "cell_type": "code",
   "execution_count": 159,
   "id": "3fe93ea7",
   "metadata": {},
   "outputs": [],
   "source": [
    "from sklearn.metrics import confusion_matrix\n",
    "\n",
    "cm_MyAda = confusion_matrix(y_test, MyAdaboost_predClassifier)\n",
    "cm_MyBag = confusion_matrix(y_test, MybaggingClassifier_pred)\n",
    "cm_Bag = confusion_matrix(y_test, sklearn_baggingClassifier_pred)\n",
    "cm_RandomForest = confusion_matrix(y_test, sklearn_RandomForestClassifier_pred)\n",
    "cm_Ada = confusion_matrix(y_test, sklearn_adaboostClassifier_pred)\n",
    "cm_Gradient = confusion_matrix(y_test, sklearn_GradientBoostingClassifier_pred)\n",
    "cm_HistGradient = confusion_matrix(y_test, sklearn_HistGradientBoostingClassifier_pred)\n",
    "cm_xgboost = confusion_matrix(y_test, xgboostClassifier_pred)\n",
    "cm_lightgbm = confusion_matrix(y_test, lightgbmClassifier_pred)\n",
    "cm_catboost = confusion_matrix(y_test, catboostClassifier_pred)"
   ]
  },
  {
   "cell_type": "code",
   "execution_count": 165,
   "id": "28e2c807",
   "metadata": {},
   "outputs": [
    {
     "data": {
      "image/png": "[encoded data removed]",
      "text/plain": [
       "<Figure size 1728x864 with 10 Axes>"
      ]
     },
     "metadata": {
      "needs_background": "light"
     },
     "output_type": "display_data"
    }
   ],
   "source": [
    "plt.figure(figsize=(24, 12))\n",
    "\n",
    "plt.suptitle(\"Confusion Matrices\", fontsize=24)\n",
    "plt.subplots_adjust(wspace = 0.4, hspace= 0.4)\n",
    "\n",
    "plt.subplot(3,4,1)\n",
    "plt.title(\"My AdaBoost\")\n",
    "sns.heatmap(cm_MyAda,annot=True,cmap=\"Blues\",fmt=\"d\",cbar=False, annot_kws={\"size\": 24})\n",
    "\n",
    "plt.subplot(3,4,2)\n",
    "plt.title(\"My Bagging\")\n",
    "sns.heatmap(cm_MyBag,annot=True,cmap=\"Blues\",fmt=\"d\",cbar=False, annot_kws={\"size\": 24})\n",
    "\n",
    "plt.subplot(3,4,3)\n",
    "plt.title(\"Bagging\")\n",
    "sns.heatmap(cm_Bag,annot=True,cmap=\"Blues\",fmt=\"d\",cbar=False, annot_kws={\"size\": 24})\n",
    "\n",
    "plt.subplot(3,4,4)\n",
    "plt.title(\"Random Forest\")\n",
    "sns.heatmap(cm_RandomForest,annot=True,cmap=\"Blues\",fmt=\"d\",cbar=False, annot_kws={\"size\": 24})\n",
    "\n",
    "plt.subplot(3,4,5)\n",
    "plt.title(\"AdaBoost\")\n",
    "sns.heatmap(cm_Ada,annot=True,cmap=\"Blues\",fmt=\"d\",cbar=False, annot_kws={\"size\": 24})\n",
    "\n",
    "plt.subplot(3,4,6)\n",
    "plt.title(\"Gradient Tree Boosting\")\n",
    "sns.heatmap(cm_Gradient,annot=True,cmap=\"Blues\",fmt=\"d\",cbar=False, annot_kws={\"size\": 24})\n",
    "\n",
    "plt.subplot(3,4,7)\n",
    "plt.title(\"Histogram-Based Gradient Boosting\")\n",
    "sns.heatmap(cm_HistGradient,annot=True,cmap=\"Blues\",fmt=\"d\",cbar=False, annot_kws={\"size\": 24})\n",
    "\n",
    "plt.subplot(3,4,8)\n",
    "plt.title(\"XGBoost\")\n",
    "sns.heatmap(cm_xgboost,annot=True,cmap=\"Blues\",fmt=\"d\",cbar=False, annot_kws={\"size\": 24})\n",
    "\n",
    "plt.subplot(3,4,9)\n",
    "plt.title(\"LightGBM\")\n",
    "sns.heatmap(cm_lightgbm,annot=True,cmap=\"Blues\",fmt=\"d\",cbar=False, annot_kws={\"size\": 24})\n",
    "\n",
    "plt.subplot(3,4,10)\n",
    "plt.title(\"CatBoost\")\n",
    "sns.heatmap(cm_catboost,annot=True,cmap=\"Blues\",fmt=\"d\",cbar=False, annot_kws={\"size\": 24})\n",
    "\n",
    "plt.show()"
   ]
  },
  {
   "cell_type": "markdown",
   "id": "15386e4f",
   "metadata": {},
   "source": [
    "## Выводы"
   ]
  },
  {
   "cell_type": "markdown",
   "id": "dd50a485",
   "metadata": {},
   "source": [
    "На матрицах ошибок можно заметить, что все модели дают примерно однаковое количество ошибок первого и второго рода. В прошлым выводам можно прибавить, что наиболее худшей моделью является My Bagging."
   ]
  },
  {
   "cell_type": "code",
   "execution_count": null,
   "id": "bea1bddb",
   "metadata": {},
   "outputs": [],
   "source": []
  }
 ],
 "metadata": {
  "kernelspec": {
   "display_name": "Python 3 (ipykernel)",
   "language": "python",
   "name": "python3"
  },
  "language_info": {
   "codemirror_mode": {
    "name": "ipython",
    "version": 3
   },
   "file_extension": ".py",
   "mimetype": "text/x-python",
   "name": "python",
   "nbconvert_exporter": "python",
   "pygments_lexer": "ipython3",
   "version": "3.9.7"
  }
 },
 "nbformat": 4,
 "nbformat_minor": 5
}
