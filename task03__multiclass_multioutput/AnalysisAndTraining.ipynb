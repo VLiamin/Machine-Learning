{
 "cells": [
  {
   "cell_type": "markdown",
   "id": "0e1d8784",
   "metadata": {},
   "source": [
    "# Задача: Многоклассовая классификация и множественная классификация/регрессия. Лямин Владимир Андреевич. Группа 22.М05"
   ]
  },
  {
   "cell_type": "markdown",
   "id": "eb198bb1",
   "metadata": {},
   "source": [
    "Задача\n",
    "1. Изучите возможности sklearn для решения задач Multiclass classification, Multilabel classification и Multioutput Regression. Основные компоненты библиотеки указаны на рисунке ниже. multi_org_chart\n",
    "\n",
    "2. Найдите данные, на которых можно решить задачу Multiclass classification (классификация с более чем двумя классами). В крайнем случае преобразуйте данные, предназначенные для другой задачи.\n",
    "\n",
    "3. Выполнить разведочный анализ (EDA), использовать визуализацию, сделать выводы, которые могут быть полезны при дальнейшем решении задачи.\n",
    "\n",
    "4. При необходимости выполнить полезные преобразования данных (например, трансформировать категариальные признаки в количественные), убрать ненужные признаки, создать новые (Feature Engineering).\n",
    "\n",
    "5. Используя стратегии OneVsRest, OneVsOne и OutputCode решите задачу Multiclass classification для каждого из пройденных базового алгоритма классификации (logistic regression, svm, knn, naive bayes, decision tree). При обучении использовать подбор гиперпараметров, кросс-валидацию и при необходимости масштабирование данных, добиться наилучшего качества предсказания.\n",
    "\n",
    "6. Замерить время обучения каждой модели для каждой стратегии.\n",
    "\n",
    "7. Для оценки качества моделей используйте метрику AUC-ROC.\n",
    "\n",
    "8. Сравнить время обучения и качество всех моделей и всех стратегий. Сделать выводы."
   ]
  },
  {
   "cell_type": "markdown",
   "id": "7765c412",
   "metadata": {},
   "source": [
    "Рассмотрим датасет по стоимости жилья, затем сделаем из него подходящий датасет для задачи по многоклассовой классификации по данному руководству(https://medium.com/dataman-in-ai/a-wide-choice-for-modeling-multi-class-classifications-d97073ff4ec8)."
   ]
  },
  {
   "cell_type": "markdown",
   "id": "7526ca72",
   "metadata": {},
   "source": [
    "Описание датасета:\n",
    "1. MedInc: средний доход в квартале\n",
    "2. house: средний возраст домов в квартале\n",
    "3. AveRooms: среднее количество комнат на дом\n",
    "4. AveBedrms: среднее количество спален на дом\n",
    "5. Population: популяция квартала\n",
    "6. AveOccup: среднее количество жителей дома\n",
    "7. Latitude: широта квартала\n",
    "8. Longitude: долгота квартала"
   ]
  },
  {
   "cell_type": "markdown",
   "id": "18eeceed",
   "metadata": {},
   "source": [
    "Необходимо решить задачу классификации и научиться предсказывать целовой признак target. Среднюю стоимость дома в квартале."
   ]
  },
  {
   "cell_type": "code",
   "execution_count": 1,
   "id": "4a01972b",
   "metadata": {},
   "outputs": [],
   "source": [
    "import numpy as np \n",
    "import pandas as pd\n",
    "import matplotlib.pyplot as plt\n",
    "from sklearn.model_selection import train_test_split\n",
    "from sklearn.datasets import fetch_california_housing\n",
    "%matplotlib inline\n",
    "import seaborn as sns\n",
    "\n",
    "# устанавливаем точность чисел с плавающей точкой\n",
    "%precision %.4f\n",
    "\n",
    "import warnings\n",
    "warnings.filterwarnings('ignore')  # отключаем предупреждения"
   ]
  },
  {
   "cell_type": "code",
   "execution_count": 2,
   "id": "62f138bf",
   "metadata": {},
   "outputs": [
    {
     "name": "stdout",
     "output_type": "stream",
     "text": [
      "X features= ['MedInc', 'HouseAge', 'AveRooms', 'AveBedrms', 'Population', 'AveOccup', 'Latitude', 'Longitude']\n"
     ]
    }
   ],
   "source": [
    "cal_housing = fetch_california_housing()\n",
    "X = pd.DataFrame(cal_housing.data, columns=cal_housing.feature_names)\n",
    "y = cal_housing.target\n",
    "df = X.copy()\n",
    "df['target'] = y * 100000 # The raw value is in 100,000.\n",
    "X_features = cal_housing.feature_names\n",
    "print(\"X features=\", X_features)"
   ]
  },
  {
   "cell_type": "code",
   "execution_count": 3,
   "id": "804f0d36",
   "metadata": {},
   "outputs": [
    {
     "data": {
      "text/html": [
       "<div>\n",
       "<style scoped>\n",
       "    .dataframe tbody tr th:only-of-type {\n",
       "        vertical-align: middle;\n",
       "    }\n",
       "\n",
       "    .dataframe tbody tr th {\n",
       "        vertical-align: top;\n",
       "    }\n",
       "\n",
       "    .dataframe thead th {\n",
       "        text-align: right;\n",
       "    }\n",
       "</style>\n",
       "<table border=\"1\" class=\"dataframe\">\n",
       "  <thead>\n",
       "    <tr style=\"text-align: right;\">\n",
       "      <th></th>\n",
       "      <th>MedInc</th>\n",
       "      <th>HouseAge</th>\n",
       "      <th>AveRooms</th>\n",
       "      <th>AveBedrms</th>\n",
       "      <th>Population</th>\n",
       "      <th>AveOccup</th>\n",
       "      <th>Latitude</th>\n",
       "      <th>Longitude</th>\n",
       "      <th>target</th>\n",
       "    </tr>\n",
       "  </thead>\n",
       "  <tbody>\n",
       "    <tr>\n",
       "      <th>0</th>\n",
       "      <td>8.3252</td>\n",
       "      <td>41.0</td>\n",
       "      <td>6.984127</td>\n",
       "      <td>1.023810</td>\n",
       "      <td>322.0</td>\n",
       "      <td>2.555556</td>\n",
       "      <td>37.88</td>\n",
       "      <td>-122.23</td>\n",
       "      <td>452600.0</td>\n",
       "    </tr>\n",
       "    <tr>\n",
       "      <th>1</th>\n",
       "      <td>8.3014</td>\n",
       "      <td>21.0</td>\n",
       "      <td>6.238137</td>\n",
       "      <td>0.971880</td>\n",
       "      <td>2401.0</td>\n",
       "      <td>2.109842</td>\n",
       "      <td>37.86</td>\n",
       "      <td>-122.22</td>\n",
       "      <td>358500.0</td>\n",
       "    </tr>\n",
       "    <tr>\n",
       "      <th>2</th>\n",
       "      <td>7.2574</td>\n",
       "      <td>52.0</td>\n",
       "      <td>8.288136</td>\n",
       "      <td>1.073446</td>\n",
       "      <td>496.0</td>\n",
       "      <td>2.802260</td>\n",
       "      <td>37.85</td>\n",
       "      <td>-122.24</td>\n",
       "      <td>352100.0</td>\n",
       "    </tr>\n",
       "    <tr>\n",
       "      <th>3</th>\n",
       "      <td>5.6431</td>\n",
       "      <td>52.0</td>\n",
       "      <td>5.817352</td>\n",
       "      <td>1.073059</td>\n",
       "      <td>558.0</td>\n",
       "      <td>2.547945</td>\n",
       "      <td>37.85</td>\n",
       "      <td>-122.25</td>\n",
       "      <td>341300.0</td>\n",
       "    </tr>\n",
       "    <tr>\n",
       "      <th>4</th>\n",
       "      <td>3.8462</td>\n",
       "      <td>52.0</td>\n",
       "      <td>6.281853</td>\n",
       "      <td>1.081081</td>\n",
       "      <td>565.0</td>\n",
       "      <td>2.181467</td>\n",
       "      <td>37.85</td>\n",
       "      <td>-122.25</td>\n",
       "      <td>342200.0</td>\n",
       "    </tr>\n",
       "  </tbody>\n",
       "</table>\n",
       "</div>"
      ],
      "text/plain": [
       "   MedInc  HouseAge  AveRooms  AveBedrms  Population  AveOccup  Latitude  \\\n",
       "0  8.3252      41.0  6.984127   1.023810       322.0  2.555556     37.88   \n",
       "1  8.3014      21.0  6.238137   0.971880      2401.0  2.109842     37.86   \n",
       "2  7.2574      52.0  8.288136   1.073446       496.0  2.802260     37.85   \n",
       "3  5.6431      52.0  5.817352   1.073059       558.0  2.547945     37.85   \n",
       "4  3.8462      52.0  6.281853   1.081081       565.0  2.181467     37.85   \n",
       "\n",
       "   Longitude    target  \n",
       "0    -122.23  452600.0  \n",
       "1    -122.22  358500.0  \n",
       "2    -122.24  352100.0  \n",
       "3    -122.25  341300.0  \n",
       "4    -122.25  342200.0  "
      ]
     },
     "execution_count": 3,
     "metadata": {},
     "output_type": "execute_result"
    }
   ],
   "source": [
    "df.head()"
   ]
  },
  {
   "cell_type": "markdown",
   "id": "61f12e2f",
   "metadata": {},
   "source": [
    "Проверяем общее количество пропущенных значений.\n",
    "\n"
   ]
  },
  {
   "cell_type": "code",
   "execution_count": 4,
   "id": "35440b9b",
   "metadata": {},
   "outputs": [
    {
     "data": {
      "text/plain": [
       "MedInc        0\n",
       "HouseAge      0\n",
       "AveRooms      0\n",
       "AveBedrms     0\n",
       "Population    0\n",
       "AveOccup      0\n",
       "Latitude      0\n",
       "Longitude     0\n",
       "target        0\n",
       "dtype: int64"
      ]
     },
     "execution_count": 4,
     "metadata": {},
     "output_type": "execute_result"
    }
   ],
   "source": [
    "df.isnull().sum()"
   ]
  },
  {
   "cell_type": "markdown",
   "id": "57d6780b",
   "metadata": {},
   "source": [
    "Как видно, пропущенных значений нет"
   ]
  },
  {
   "cell_type": "markdown",
   "id": "4d538cac",
   "metadata": {},
   "source": [
    "Преобразуем данные, как показано в инструкции. (https://medium.com/dataman-in-ai/a-wide-choice-for-modeling-multi-class-classifications-d97073ff4ec8)"
   ]
  },
  {
   "cell_type": "code",
   "execution_count": 5,
   "id": "2d7d7888",
   "metadata": {},
   "outputs": [],
   "source": [
    "def val_target(y):\n",
    "    if y<=100000:\n",
    "        return 0\n",
    "    elif y<=160000:\n",
    "        return 1\n",
    "    elif y<=240000:\n",
    "        return 2\n",
    "    else:\n",
    "        return 3\n",
    "    \n",
    "df['target_class'] = df['target'].apply(val_target)"
   ]
  },
  {
   "cell_type": "code",
   "execution_count": 6,
   "id": "7b360467",
   "metadata": {},
   "outputs": [
    {
     "data": {
      "text/html": [
       "<div>\n",
       "<style scoped>\n",
       "    .dataframe tbody tr th:only-of-type {\n",
       "        vertical-align: middle;\n",
       "    }\n",
       "\n",
       "    .dataframe tbody tr th {\n",
       "        vertical-align: top;\n",
       "    }\n",
       "\n",
       "    .dataframe thead th {\n",
       "        text-align: right;\n",
       "    }\n",
       "</style>\n",
       "<table border=\"1\" class=\"dataframe\">\n",
       "  <thead>\n",
       "    <tr style=\"text-align: right;\">\n",
       "      <th></th>\n",
       "      <th>MedInc</th>\n",
       "      <th>HouseAge</th>\n",
       "      <th>AveRooms</th>\n",
       "      <th>AveBedrms</th>\n",
       "      <th>Population</th>\n",
       "      <th>AveOccup</th>\n",
       "      <th>Latitude</th>\n",
       "      <th>Longitude</th>\n",
       "      <th>target</th>\n",
       "      <th>target_class</th>\n",
       "    </tr>\n",
       "  </thead>\n",
       "  <tbody>\n",
       "    <tr>\n",
       "      <th>0</th>\n",
       "      <td>8.3252</td>\n",
       "      <td>41.0</td>\n",
       "      <td>6.984127</td>\n",
       "      <td>1.023810</td>\n",
       "      <td>322.0</td>\n",
       "      <td>2.555556</td>\n",
       "      <td>37.88</td>\n",
       "      <td>-122.23</td>\n",
       "      <td>452600.0</td>\n",
       "      <td>3</td>\n",
       "    </tr>\n",
       "    <tr>\n",
       "      <th>1</th>\n",
       "      <td>8.3014</td>\n",
       "      <td>21.0</td>\n",
       "      <td>6.238137</td>\n",
       "      <td>0.971880</td>\n",
       "      <td>2401.0</td>\n",
       "      <td>2.109842</td>\n",
       "      <td>37.86</td>\n",
       "      <td>-122.22</td>\n",
       "      <td>358500.0</td>\n",
       "      <td>3</td>\n",
       "    </tr>\n",
       "    <tr>\n",
       "      <th>2</th>\n",
       "      <td>7.2574</td>\n",
       "      <td>52.0</td>\n",
       "      <td>8.288136</td>\n",
       "      <td>1.073446</td>\n",
       "      <td>496.0</td>\n",
       "      <td>2.802260</td>\n",
       "      <td>37.85</td>\n",
       "      <td>-122.24</td>\n",
       "      <td>352100.0</td>\n",
       "      <td>3</td>\n",
       "    </tr>\n",
       "    <tr>\n",
       "      <th>3</th>\n",
       "      <td>5.6431</td>\n",
       "      <td>52.0</td>\n",
       "      <td>5.817352</td>\n",
       "      <td>1.073059</td>\n",
       "      <td>558.0</td>\n",
       "      <td>2.547945</td>\n",
       "      <td>37.85</td>\n",
       "      <td>-122.25</td>\n",
       "      <td>341300.0</td>\n",
       "      <td>3</td>\n",
       "    </tr>\n",
       "    <tr>\n",
       "      <th>4</th>\n",
       "      <td>3.8462</td>\n",
       "      <td>52.0</td>\n",
       "      <td>6.281853</td>\n",
       "      <td>1.081081</td>\n",
       "      <td>565.0</td>\n",
       "      <td>2.181467</td>\n",
       "      <td>37.85</td>\n",
       "      <td>-122.25</td>\n",
       "      <td>342200.0</td>\n",
       "      <td>3</td>\n",
       "    </tr>\n",
       "  </tbody>\n",
       "</table>\n",
       "</div>"
      ],
      "text/plain": [
       "   MedInc  HouseAge  AveRooms  AveBedrms  Population  AveOccup  Latitude  \\\n",
       "0  8.3252      41.0  6.984127   1.023810       322.0  2.555556     37.88   \n",
       "1  8.3014      21.0  6.238137   0.971880      2401.0  2.109842     37.86   \n",
       "2  7.2574      52.0  8.288136   1.073446       496.0  2.802260     37.85   \n",
       "3  5.6431      52.0  5.817352   1.073059       558.0  2.547945     37.85   \n",
       "4  3.8462      52.0  6.281853   1.081081       565.0  2.181467     37.85   \n",
       "\n",
       "   Longitude    target  target_class  \n",
       "0    -122.23  452600.0             3  \n",
       "1    -122.22  358500.0             3  \n",
       "2    -122.24  352100.0             3  \n",
       "3    -122.25  341300.0             3  \n",
       "4    -122.25  342200.0             3  "
      ]
     },
     "execution_count": 6,
     "metadata": {},
     "output_type": "execute_result"
    }
   ],
   "source": [
    "df.head()"
   ]
  },
  {
   "cell_type": "markdown",
   "id": "4cb57c0a",
   "metadata": {},
   "source": [
    "Всего у нас получилось 4 класса:\n",
    "1. ≤100k\n",
    "2. 100k~160k\n",
    "3. 160k~240k\n",
    "4. 240k+"
   ]
  },
  {
   "cell_type": "markdown",
   "id": "4a5d91cd",
   "metadata": {},
   "source": [
    "## Разведочный анализ (EDA)"
   ]
  },
  {
   "cell_type": "markdown",
   "id": "8a63972f",
   "metadata": {},
   "source": [
    "Посмортим какие значения принимает целевой признак"
   ]
  },
  {
   "cell_type": "code",
   "execution_count": 7,
   "id": "ab9e42f5",
   "metadata": {},
   "outputs": [
    {
     "data": {
      "text/plain": [
       "3    6310\n",
       "2    5791\n",
       "1    4881\n",
       "0    3658\n",
       "Name: target_class, dtype: int64"
      ]
     },
     "execution_count": 7,
     "metadata": {},
     "output_type": "execute_result"
    }
   ],
   "source": [
    "df.target_class.value_counts()"
   ]
  },
  {
   "cell_type": "code",
   "execution_count": 8,
   "id": "fa6627ca",
   "metadata": {},
   "outputs": [
    {
     "data": {
      "image/png": "[encoded data removed]",
      "text/plain": [
       "<Figure size 432x288 with 1 Axes>"
      ]
     },
     "metadata": {
      "needs_background": "light"
     },
     "output_type": "display_data"
    }
   ],
   "source": [
    "sns.countplot(x=\"target_class\", data=df)\n",
    "plt.show()\n"
   ]
  },
  {
   "cell_type": "markdown",
   "id": "3b899595",
   "metadata": {},
   "source": [
    "Можно заметить, что получившиеся классы сравнимы"
   ]
  },
  {
   "cell_type": "markdown",
   "id": "c9571da0",
   "metadata": {},
   "source": [
    "## Певичный анализ признаков"
   ]
  },
  {
   "cell_type": "markdown",
   "id": "63e5a107",
   "metadata": {},
   "source": [
    "### Количесвенный признак MedInc"
   ]
  },
  {
   "cell_type": "markdown",
   "id": "d85756c4",
   "metadata": {},
   "source": [
    "Посмотрим какие значения принмиает данный признак\n",
    "\n"
   ]
  },
  {
   "cell_type": "code",
   "execution_count": 9,
   "id": "c5c226fa",
   "metadata": {},
   "outputs": [
    {
     "data": {
      "text/plain": [
       "count    20640.000000\n",
       "mean         3.870671\n",
       "std          1.899822\n",
       "min          0.499900\n",
       "25%          2.563400\n",
       "50%          3.534800\n",
       "75%          4.743250\n",
       "max         15.000100\n",
       "Name: MedInc, dtype: float64"
      ]
     },
     "execution_count": 9,
     "metadata": {},
     "output_type": "execute_result"
    }
   ],
   "source": [
    "df['MedInc'].describe()\n"
   ]
  },
  {
   "cell_type": "code",
   "execution_count": 10,
   "id": "f2fccb10",
   "metadata": {},
   "outputs": [
    {
     "data": {
      "image/png": "[encoded data removed]",
      "text/plain": [
       "<Figure size 864x360 with 1 Axes>"
      ]
     },
     "metadata": {
      "needs_background": "light"
     },
     "output_type": "display_data"
    }
   ],
   "source": [
    "sns.violinplot(data=df,x=\"target_class\", y='MedInc', split=True)\n",
    "fig = plt.gcf()\n",
    "fig.set_size_inches(12, 5)\n",
    "plt.show()\n"
   ]
  },
  {
   "cell_type": "markdown",
   "id": "0f4f957e",
   "metadata": {},
   "source": [
    "Можно заметить, что чем выше доход житеелей квартала, тем более высокая стоимость домов"
   ]
  },
  {
   "cell_type": "markdown",
   "id": "2b35bd00",
   "metadata": {},
   "source": [
    "### Количесвенный признак HouseAge"
   ]
  },
  {
   "cell_type": "code",
   "execution_count": 11,
   "id": "a0d8c18c",
   "metadata": {},
   "outputs": [
    {
     "data": {
      "text/plain": [
       "count    20640.000000\n",
       "mean        28.639486\n",
       "std         12.585558\n",
       "min          1.000000\n",
       "25%         18.000000\n",
       "50%         29.000000\n",
       "75%         37.000000\n",
       "max         52.000000\n",
       "Name: HouseAge, dtype: float64"
      ]
     },
     "execution_count": 11,
     "metadata": {},
     "output_type": "execute_result"
    }
   ],
   "source": [
    "df['HouseAge'].describe()"
   ]
  },
  {
   "cell_type": "code",
   "execution_count": 12,
   "id": "38cfe5b3",
   "metadata": {},
   "outputs": [
    {
     "data": {
      "image/png": "[encoded data removed]",
      "text/plain": [
       "<Figure size 864x360 with 1 Axes>"
      ]
     },
     "metadata": {
      "needs_background": "light"
     },
     "output_type": "display_data"
    }
   ],
   "source": [
    "sns.violinplot(data=df,x=\"target_class\", y='HouseAge', split=True)\n",
    "fig = plt.gcf()\n",
    "fig.set_size_inches(12, 5)\n",
    "plt.show()\n"
   ]
  },
  {
   "cell_type": "markdown",
   "id": "ba03342f",
   "metadata": {},
   "source": [
    "Можно заметить, что возраст дома на стоимость влияет слабо"
   ]
  },
  {
   "cell_type": "markdown",
   "id": "50f99c74",
   "metadata": {},
   "source": [
    "### Количесвенный признак AveRooms"
   ]
  },
  {
   "cell_type": "code",
   "execution_count": 13,
   "id": "00abb0ae",
   "metadata": {},
   "outputs": [
    {
     "data": {
      "text/plain": [
       "count    20640.000000\n",
       "mean         5.429000\n",
       "std          2.474173\n",
       "min          0.846154\n",
       "25%          4.440716\n",
       "50%          5.229129\n",
       "75%          6.052381\n",
       "max        141.909091\n",
       "Name: AveRooms, dtype: float64"
      ]
     },
     "execution_count": 13,
     "metadata": {},
     "output_type": "execute_result"
    }
   ],
   "source": [
    "df['AveRooms'].describe()"
   ]
  },
  {
   "cell_type": "code",
   "execution_count": 14,
   "id": "559e433d",
   "metadata": {},
   "outputs": [
    {
     "data": {
      "image/png": "[encoded data removed]",
      "text/plain": [
       "<Figure size 864x360 with 1 Axes>"
      ]
     },
     "metadata": {
      "needs_background": "light"
     },
     "output_type": "display_data"
    }
   ],
   "source": [
    "sns.violinplot(data=df,x=\"target_class\", y='AveRooms', split=True)\n",
    "fig = plt.gcf()\n",
    "fig.set_size_inches(12, 5)\n",
    "plt.show()\n"
   ]
  },
  {
   "cell_type": "markdown",
   "id": "857086eb",
   "metadata": {},
   "source": [
    "Тут можно заметить, что при увеличении комнат стоимость дома увеличивается."
   ]
  },
  {
   "cell_type": "markdown",
   "id": "368db736",
   "metadata": {},
   "source": [
    "### Количесвенный признак Population"
   ]
  },
  {
   "cell_type": "code",
   "execution_count": 15,
   "id": "53b2191e",
   "metadata": {},
   "outputs": [
    {
     "data": {
      "text/plain": [
       "count    20640.000000\n",
       "mean      1425.476744\n",
       "std       1132.462122\n",
       "min          3.000000\n",
       "25%        787.000000\n",
       "50%       1166.000000\n",
       "75%       1725.000000\n",
       "max      35682.000000\n",
       "Name: Population, dtype: float64"
      ]
     },
     "execution_count": 15,
     "metadata": {},
     "output_type": "execute_result"
    }
   ],
   "source": [
    "df['Population'].describe()"
   ]
  },
  {
   "cell_type": "code",
   "execution_count": 16,
   "id": "402666d3",
   "metadata": {},
   "outputs": [
    {
     "data": {
      "image/png": "[encoded data removed]",
      "text/plain": [
       "<Figure size 864x360 with 1 Axes>"
      ]
     },
     "metadata": {
      "needs_background": "light"
     },
     "output_type": "display_data"
    }
   ],
   "source": [
    "sns.violinplot(data=df,x=\"target_class\", y='Population', split=True)\n",
    "fig = plt.gcf()\n",
    "fig.set_size_inches(12, 5)\n",
    "plt.show()\n"
   ]
  },
  {
   "cell_type": "markdown",
   "id": "12f30457",
   "metadata": {},
   "source": [
    "Тут можно заметить, что наиболее дорогие и дешевые дома располагаются в районах с маленькой численность населения. "
   ]
  },
  {
   "cell_type": "markdown",
   "id": "fd2ceca7",
   "metadata": {},
   "source": [
    "### Количесвенный признак AveOccup"
   ]
  },
  {
   "cell_type": "code",
   "execution_count": 17,
   "id": "1d4cf11f",
   "metadata": {},
   "outputs": [
    {
     "data": {
      "text/plain": [
       "count    20640.000000\n",
       "mean         3.070655\n",
       "std         10.386050\n",
       "min          0.692308\n",
       "25%          2.429741\n",
       "50%          2.818116\n",
       "75%          3.282261\n",
       "max       1243.333333\n",
       "Name: AveOccup, dtype: float64"
      ]
     },
     "execution_count": 17,
     "metadata": {},
     "output_type": "execute_result"
    }
   ],
   "source": [
    "df['AveOccup'].describe()"
   ]
  },
  {
   "cell_type": "code",
   "execution_count": 18,
   "id": "a6d6f5bc",
   "metadata": {},
   "outputs": [
    {
     "data": {
      "image/png": "[encoded data removed]",
      "text/plain": [
       "<Figure size 864x1080 with 1 Axes>"
      ]
     },
     "metadata": {
      "needs_background": "light"
     },
     "output_type": "display_data"
    }
   ],
   "source": [
    "sns.violinplot(data=df,x=\"target_class\", y='AveOccup', split=True)\n",
    "fig = plt.gcf()\n",
    "fig.set_size_inches(12, 15)\n",
    "plt.show()"
   ]
  },
  {
   "cell_type": "markdown",
   "id": "2b44a31d",
   "metadata": {},
   "source": [
    "Можно заметить, что чем дороже дом, тем меньше средняя численость его жителей"
   ]
  },
  {
   "cell_type": "markdown",
   "id": "7dfd4a50",
   "metadata": {},
   "source": [
    "### Количесвенный признак Latitude"
   ]
  },
  {
   "cell_type": "code",
   "execution_count": 19,
   "id": "93197bb1",
   "metadata": {},
   "outputs": [
    {
     "data": {
      "text/plain": [
       "count    20640.000000\n",
       "mean        35.631861\n",
       "std          2.135952\n",
       "min         32.540000\n",
       "25%         33.930000\n",
       "50%         34.260000\n",
       "75%         37.710000\n",
       "max         41.950000\n",
       "Name: Latitude, dtype: float64"
      ]
     },
     "execution_count": 19,
     "metadata": {},
     "output_type": "execute_result"
    }
   ],
   "source": [
    "df['Latitude'].describe()"
   ]
  },
  {
   "cell_type": "markdown",
   "id": "89907959",
   "metadata": {},
   "source": [
    "## Feature Engineering"
   ]
  },
  {
   "cell_type": "markdown",
   "id": "185b5047",
   "metadata": {},
   "source": [
    "Заменем количесвенные вещественные признаки категориальными. Будем распределять по классам с примерно одинаковой численностью"
   ]
  },
  {
   "cell_type": "code",
   "execution_count": 20,
   "id": "c6672b67",
   "metadata": {},
   "outputs": [],
   "source": [
    "def val_target(y):\n",
    "    if y<=1:\n",
    "        return 0\n",
    "    elif y<=2:\n",
    "        return 1\n",
    "    elif y<=3:\n",
    "        return 2\n",
    "    else:\n",
    "        return 3\n",
    "    \n",
    "df['MedInc_class'] = df['MedInc'].apply(val_target)"
   ]
  },
  {
   "cell_type": "code",
   "execution_count": 21,
   "id": "ac584b80",
   "metadata": {},
   "outputs": [],
   "source": [
    "def val_target(y):\n",
    "    if y<=2:\n",
    "        return 0\n",
    "    elif y<=3:\n",
    "        return 1\n",
    "    elif y<=4:\n",
    "        return 2\n",
    "    else:\n",
    "        return 3\n",
    "    \n",
    "df['AveRooms_class'] = df['AveRooms'].apply(val_target)"
   ]
  },
  {
   "cell_type": "code",
   "execution_count": 22,
   "id": "fe68c264",
   "metadata": {},
   "outputs": [],
   "source": [
    "def val_target(y):\n",
    "    if y<=1:\n",
    "        return 0\n",
    "    elif y<=2:\n",
    "        return 1\n",
    "    else:\n",
    "        return 2\n",
    "    \n",
    "df['AveBedrms_class'] = df['AveBedrms'].apply(val_target)"
   ]
  },
  {
   "cell_type": "code",
   "execution_count": 23,
   "id": "27526623",
   "metadata": {},
   "outputs": [],
   "source": [
    "def val_target(y):\n",
    "    if y<=2:\n",
    "        return 0\n",
    "    elif y<=3:\n",
    "        return 1\n",
    "    elif y<=4:\n",
    "        return 2\n",
    "    else:\n",
    "        return 3\n",
    "    \n",
    "df['AveOccup_class'] = df['AveOccup'].apply(val_target)"
   ]
  },
  {
   "cell_type": "code",
   "execution_count": 24,
   "id": "1deb8a18",
   "metadata": {},
   "outputs": [],
   "source": [
    "def val_target(y):\n",
    "    if y<=33:\n",
    "        return 0\n",
    "    elif y<=34:\n",
    "        return 1\n",
    "    elif y<=37:\n",
    "        return 2\n",
    "    else:\n",
    "        return 3\n",
    "    \n",
    "df['Latitude_class'] = df['Latitude'].apply(val_target)"
   ]
  },
  {
   "cell_type": "markdown",
   "id": "a57a6055",
   "metadata": {},
   "source": [
    "## Удаление ненужных признаков"
   ]
  },
  {
   "cell_type": "markdown",
   "id": "6202ee88",
   "metadata": {},
   "source": [
    "Так как мы ввели новый признак target_class, то можно удалить признак target"
   ]
  },
  {
   "cell_type": "code",
   "execution_count": 25,
   "id": "9c01efcb",
   "metadata": {},
   "outputs": [],
   "source": [
    "df.drop(['target'], axis=1, inplace=True)"
   ]
  },
  {
   "cell_type": "markdown",
   "id": "29b8ce4c",
   "metadata": {},
   "source": [
    "Также удаляем вещественные признаки, которые мы заменили категориальными"
   ]
  },
  {
   "cell_type": "code",
   "execution_count": 26,
   "id": "9ccbaf98",
   "metadata": {},
   "outputs": [],
   "source": [
    "# Удаляем количественные признаки, которые преобразовали в категориальные.\n",
    "df.drop(['MedInc', 'AveRooms', 'AveBedrms', 'AveOccup', 'Latitude'], axis = 1, inplace = True)"
   ]
  },
  {
   "cell_type": "markdown",
   "id": "5415a904",
   "metadata": {},
   "source": [
    "## Посмотрим корреляцию данных\n"
   ]
  },
  {
   "cell_type": "code",
   "execution_count": 27,
   "id": "fc6c8dc6",
   "metadata": {},
   "outputs": [
    {
     "data": {
      "image/png": "[encoded data removed]",
      "text/plain": [
       "<Figure size 720x360 with 2 Axes>"
      ]
     },
     "metadata": {
      "needs_background": "light"
     },
     "output_type": "display_data"
    }
   ],
   "source": [
    "sns.heatmap(df.corr(), annot=True, cmap='RdYlGn')\n",
    "fig = plt.gcf()\n",
    "fig.set_size_inches(10, 5)\n",
    "plt.show()"
   ]
  },
  {
   "cell_type": "markdown",
   "id": "72eefc43",
   "metadata": {},
   "source": [
    "Можно заметить, что Latitude и Longitude сильно коррелируют. Поэтому можно удалить одну из них."
   ]
  },
  {
   "cell_type": "code",
   "execution_count": 28,
   "id": "e3dce526",
   "metadata": {},
   "outputs": [],
   "source": [
    "df.drop(['Longitude'], axis=1, inplace=True)"
   ]
  },
  {
   "cell_type": "markdown",
   "id": "f602dba3",
   "metadata": {},
   "source": [
    "## Разбиение данных"
   ]
  },
  {
   "cell_type": "markdown",
   "id": "465b3397",
   "metadata": {},
   "source": [
    "Разобъем данные на тестовую выборку и обучающую"
   ]
  },
  {
   "cell_type": "code",
   "execution_count": 29,
   "id": "f0cb4bbf",
   "metadata": {},
   "outputs": [],
   "source": [
    "from sklearn.model_selection import train_test_split\n",
    "\n",
    "y = df[\"target_class\"]\n",
    "X = df.drop(columns=[\"target_class\"])\n",
    "\n",
    "X_train, X_test, y_train, y_test = train_test_split(X, y, test_size=0.3, random_state=42)"
   ]
  },
  {
   "cell_type": "markdown",
   "id": "5e960e29",
   "metadata": {},
   "source": [
    "Проверим, что мы получили то, что хотели"
   ]
  },
  {
   "cell_type": "code",
   "execution_count": 30,
   "id": "966916d0",
   "metadata": {},
   "outputs": [
    {
     "data": {
      "text/html": [
       "<div>\n",
       "<style scoped>\n",
       "    .dataframe tbody tr th:only-of-type {\n",
       "        vertical-align: middle;\n",
       "    }\n",
       "\n",
       "    .dataframe tbody tr th {\n",
       "        vertical-align: top;\n",
       "    }\n",
       "\n",
       "    .dataframe thead th {\n",
       "        text-align: right;\n",
       "    }\n",
       "</style>\n",
       "<table border=\"1\" class=\"dataframe\">\n",
       "  <thead>\n",
       "    <tr style=\"text-align: right;\">\n",
       "      <th></th>\n",
       "      <th>HouseAge</th>\n",
       "      <th>Population</th>\n",
       "      <th>target_class</th>\n",
       "      <th>MedInc_class</th>\n",
       "      <th>AveRooms_class</th>\n",
       "      <th>AveBedrms_class</th>\n",
       "      <th>AveOccup_class</th>\n",
       "      <th>Latitude_class</th>\n",
       "    </tr>\n",
       "  </thead>\n",
       "  <tbody>\n",
       "    <tr>\n",
       "      <th>0</th>\n",
       "      <td>41.0</td>\n",
       "      <td>322.0</td>\n",
       "      <td>3</td>\n",
       "      <td>3</td>\n",
       "      <td>3</td>\n",
       "      <td>1</td>\n",
       "      <td>1</td>\n",
       "      <td>3</td>\n",
       "    </tr>\n",
       "    <tr>\n",
       "      <th>1</th>\n",
       "      <td>21.0</td>\n",
       "      <td>2401.0</td>\n",
       "      <td>3</td>\n",
       "      <td>3</td>\n",
       "      <td>3</td>\n",
       "      <td>0</td>\n",
       "      <td>1</td>\n",
       "      <td>3</td>\n",
       "    </tr>\n",
       "    <tr>\n",
       "      <th>2</th>\n",
       "      <td>52.0</td>\n",
       "      <td>496.0</td>\n",
       "      <td>3</td>\n",
       "      <td>3</td>\n",
       "      <td>3</td>\n",
       "      <td>1</td>\n",
       "      <td>1</td>\n",
       "      <td>3</td>\n",
       "    </tr>\n",
       "    <tr>\n",
       "      <th>3</th>\n",
       "      <td>52.0</td>\n",
       "      <td>558.0</td>\n",
       "      <td>3</td>\n",
       "      <td>3</td>\n",
       "      <td>3</td>\n",
       "      <td>1</td>\n",
       "      <td>1</td>\n",
       "      <td>3</td>\n",
       "    </tr>\n",
       "    <tr>\n",
       "      <th>4</th>\n",
       "      <td>52.0</td>\n",
       "      <td>565.0</td>\n",
       "      <td>3</td>\n",
       "      <td>3</td>\n",
       "      <td>3</td>\n",
       "      <td>1</td>\n",
       "      <td>1</td>\n",
       "      <td>3</td>\n",
       "    </tr>\n",
       "  </tbody>\n",
       "</table>\n",
       "</div>"
      ],
      "text/plain": [
       "   HouseAge  Population  target_class  MedInc_class  AveRooms_class  \\\n",
       "0      41.0       322.0             3             3               3   \n",
       "1      21.0      2401.0             3             3               3   \n",
       "2      52.0       496.0             3             3               3   \n",
       "3      52.0       558.0             3             3               3   \n",
       "4      52.0       565.0             3             3               3   \n",
       "\n",
       "   AveBedrms_class  AveOccup_class  Latitude_class  \n",
       "0                1               1               3  \n",
       "1                0               1               3  \n",
       "2                1               1               3  \n",
       "3                1               1               3  \n",
       "4                1               1               3  "
      ]
     },
     "execution_count": 30,
     "metadata": {},
     "output_type": "execute_result"
    }
   ],
   "source": [
    "df.head()"
   ]
  },
  {
   "cell_type": "markdown",
   "id": "0dbee545",
   "metadata": {},
   "source": [
    "Далее будем для кадого алгоритма строить 3 стратегии: OneVsRest, OneVsOne и OutputCode"
   ]
  },
  {
   "cell_type": "markdown",
   "id": "1321b02d",
   "metadata": {},
   "source": [
    "## Logistic Regression"
   ]
  },
  {
   "cell_type": "markdown",
   "id": "cb14bedb",
   "metadata": {},
   "source": [
    "Импортируем библиотеки и подготавливаем параметры"
   ]
  },
  {
   "cell_type": "code",
   "execution_count": 31,
   "id": "1e4d317f",
   "metadata": {},
   "outputs": [],
   "source": [
    "from sklearn.preprocessing import StandardScaler\n",
    "from sklearn.pipeline import Pipeline\n",
    "from sklearn.model_selection import GridSearchCV\n",
    "from sklearn.linear_model import LogisticRegression\n",
    "from sklearn.multiclass import OneVsOneClassifier, OneVsRestClassifier, OutputCodeClassifier\n",
    "import time\n",
    "from sklearn.metrics import accuracy_score\n",
    "\n",
    "classifier_lr = LogisticRegression()\n",
    "pipeline = Pipeline([('scalar', StandardScaler()), ('model', LogisticRegression(random_state=40))])\n",
    "\n",
    "\n",
    "parameters = { 'model__C' : [1,10,100,1000,10000],\n",
    "               'model__fit_intercept' : [True],\n",
    "               'model__multi_class' : ['auto'],\n",
    "               'model__tol' : [0.0001],\n",
    "               'model__solver' : ['newton-cg', 'lbfgs', 'sag', 'saga'],\n",
    "               'model__n_jobs' : [-1],\n",
    "               'model__max_iter' : [5000]\n",
    "}\n",
    "\n",
    "fold_number = 3\n",
    "\n",
    "grid = GridSearchCV(pipeline, parameters, scoring = 'roc_auc', cv = fold_number)"
   ]
  },
  {
   "cell_type": "markdown",
   "id": "c91fe61f",
   "metadata": {},
   "source": [
    "### OneVsRest"
   ]
  },
  {
   "cell_type": "markdown",
   "id": "758b851b",
   "metadata": {},
   "source": [
    "Проведем обучение по стратегии OneVsRest"
   ]
  },
  {
   "cell_type": "code",
   "execution_count": 32,
   "id": "0d1460d2",
   "metadata": {},
   "outputs": [
    {
     "name": "stdout",
     "output_type": "stream",
     "text": [
      "Training time: 24.751904726028442\n",
      "Train Accuracy: 0.4804817275747508\n",
      "Test Accuracy: 0.4838501291989664\n"
     ]
    }
   ],
   "source": [
    "classifier = OneVsRestClassifier(grid)\n",
    "\n",
    "start_time = time.time()\n",
    "classifier.fit(X_train, y_train.ravel())\n",
    "end_time = time.time()\n",
    "\n",
    "lr_oneVsRest_time = end_time - start_time \n",
    "print(f'Training time: {lr_oneVsRest_time}')\n",
    "\n",
    "y_train_pred = classifier.predict(X_train)\n",
    "lr_oneVsRest_train_accuracy = accuracy_score(y_train, y_train_pred)\n",
    "print(f'Train Accuracy: {lr_oneVsRest_train_accuracy}')\n",
    "\n",
    "y_test_pred = classifier.predict(X_test)\n",
    "lr_oneVsRest_test_accuracy = accuracy_score(y_test, y_test_pred)\n",
    "print(f'Test Accuracy: {lr_oneVsRest_test_accuracy}')"
   ]
  },
  {
   "cell_type": "markdown",
   "id": "1a47a26f",
   "metadata": {},
   "source": [
    "### OneVsOne"
   ]
  },
  {
   "cell_type": "code",
   "execution_count": 33,
   "id": "5c79c67b",
   "metadata": {},
   "outputs": [
    {
     "name": "stdout",
     "output_type": "stream",
     "text": [
      "Training time: 10.224495649337769\n",
      "Train Accuracy: 0.4831810631229236\n",
      "Test Accuracy: 0.4904715762273902\n"
     ]
    }
   ],
   "source": [
    "classifier = OneVsOneClassifier(grid)\n",
    "\n",
    "start_time = time.time()\n",
    "classifier.fit(X_train, y_train.ravel())\n",
    "end_time = time.time()\n",
    "\n",
    "lr_oneVsOne_time = end_time - start_time \n",
    "print(f'Training time: {lr_oneVsOne_time}')\n",
    "\n",
    "y_train_pred = classifier.predict(X_train)\n",
    "lr_oneVsOne_train_accuracy = accuracy_score(y_train, y_train_pred)\n",
    "print(f'Train Accuracy: {lr_oneVsOne_train_accuracy}')\n",
    "\n",
    "y_test_pred = classifier.predict(X_test)\n",
    "lr_oneVsOne_test_accuracy = accuracy_score(y_test, y_test_pred)\n",
    "print(f'Test Accuracy: {lr_oneVsOne_test_accuracy}')"
   ]
  },
  {
   "cell_type": "markdown",
   "id": "8aad7bf0",
   "metadata": {},
   "source": [
    "### OutputCode"
   ]
  },
  {
   "cell_type": "code",
   "execution_count": 35,
   "id": "fdecabcc",
   "metadata": {},
   "outputs": [
    {
     "name": "stdout",
     "output_type": "stream",
     "text": [
      "Training time: 25.485751628875732\n",
      "Train Accuracy: 0.4668466223698782\n",
      "Test Accuracy: 0.47416020671834624\n"
     ]
    }
   ],
   "source": [
    "classifier = OutputCodeClassifier(grid)\n",
    "\n",
    "start_time = time.time()\n",
    "classifier.fit(X_train, y_train.ravel())\n",
    "end_time = time.time()\n",
    "\n",
    "lr_outputCode_time = end_time - start_time \n",
    "print(f'Training time: {lr_outputCode_time}')\n",
    "\n",
    "y_train_pred = classifier.predict(X_train)\n",
    "lr_outputCode_train_accuracy = accuracy_score(y_train, y_train_pred)\n",
    "print(f'Train Accuracy: {lr_outputCode_train_accuracy}')\n",
    "\n",
    "y_test_pred = classifier.predict(X_test)\n",
    "lr_outputCode_test_accuracy = accuracy_score(y_test, y_test_pred)\n",
    "print(f'Test Accuracy: {lr_outputCode_test_accuracy}')"
   ]
  },
  {
   "cell_type": "markdown",
   "id": "a5852d6b",
   "metadata": {},
   "source": [
    "## SVM"
   ]
  },
  {
   "cell_type": "code",
   "execution_count": 39,
   "id": "d24d5564",
   "metadata": {},
   "outputs": [],
   "source": [
    "from sklearn.svm import SVC\n",
    "\n",
    "hyper_params_dict = { \n",
    "    'model__kernel' : ['sigmoid'],\n",
    "    'model__C' : [1,10,100],\n",
    "    'model__random_state' : [40]\n",
    "}\n",
    "\n",
    "fold_number = 3\n",
    "\n",
    "pipeline = Pipeline([('scalar', StandardScaler()), ('model', SVC())])\n",
    "\n",
    "grid = GridSearchCV(pipeline, hyper_params_dict, scoring = 'roc_auc', cv = fold_number)"
   ]
  },
  {
   "cell_type": "markdown",
   "id": "e525a98b",
   "metadata": {},
   "source": [
    "### OneVsRest"
   ]
  },
  {
   "cell_type": "code",
   "execution_count": 40,
   "id": "428e4781",
   "metadata": {},
   "outputs": [
    {
     "name": "stdout",
     "output_type": "stream",
     "text": [
      "1\n",
      "Training time: 144.32786679267883\n",
      "Train Accuracy: 0.3596345514950166\n",
      "Test Accuracy: 0.36611757105943155\n"
     ]
    }
   ],
   "source": [
    "classifier = OneVsRestClassifier(grid)\n",
    "\n",
    "start_time = time.time()\n",
    "classifier.fit(X_train, y_train.ravel())\n",
    "end_time = time.time()\n",
    "print(1)\n",
    "\n",
    "svm_oneVsRest_time = end_time - start_time \n",
    "print(f'Training time: {svm_oneVsRest_time}')\n",
    "\n",
    "y_train_pred = classifier.predict(X_train)\n",
    "svm_oneVsRest_train_accuracy = accuracy_score(y_train, y_train_pred)\n",
    "print(f'Train Accuracy: {svm_oneVsRest_train_accuracy}')\n",
    "\n",
    "y_test_pred = classifier.predict(X_test)\n",
    "svm_oneVsRest_test_accuracy = accuracy_score(y_test, y_test_pred)\n",
    "print(f'Test Accuracy: {svm_oneVsRest_test_accuracy}')"
   ]
  },
  {
   "cell_type": "markdown",
   "id": "f466f928",
   "metadata": {},
   "source": [
    "### OneVsOne"
   ]
  },
  {
   "cell_type": "code",
   "execution_count": 41,
   "id": "504c1f5f",
   "metadata": {},
   "outputs": [
    {
     "name": "stdout",
     "output_type": "stream",
     "text": [
      "Training time: 50.14580535888672\n",
      "Train Accuracy: 0.36745570321151716\n",
      "Test Accuracy: 0.36983204134366926\n"
     ]
    }
   ],
   "source": [
    "classifier = OneVsOneClassifier(grid)\n",
    "\n",
    "start_time = time.time()\n",
    "classifier.fit(X_train, y_train.ravel())\n",
    "end_time = time.time()\n",
    "\n",
    "svm_oneVsOne_time = end_time - start_time \n",
    "print(f'Training time: {svm_oneVsOne_time}')\n",
    "\n",
    "y_train_pred = classifier.predict(X_train)\n",
    "svm_oneVsOne_train_accuracy = accuracy_score(y_train, y_train_pred)\n",
    "print(f'Train Accuracy: {svm_oneVsOne_train_accuracy}')\n",
    "\n",
    "y_test_pred = classifier.predict(X_test)\n",
    "svm_oneVsOne_test_accuracy = accuracy_score(y_test, y_test_pred)\n",
    "print(f'Test Accuracy: {svm_oneVsOne_test_accuracy}')"
   ]
  },
  {
   "cell_type": "markdown",
   "id": "9fde5492",
   "metadata": {},
   "source": [
    "### OutputCode"
   ]
  },
  {
   "cell_type": "code",
   "execution_count": 42,
   "id": "813f2c11",
   "metadata": {},
   "outputs": [
    {
     "name": "stdout",
     "output_type": "stream",
     "text": [
      "Training time: 242.5559582710266\n",
      "Train Accuracy: 0.3290420819490587\n",
      "Test Accuracy: 0.33527131782945735\n"
     ]
    }
   ],
   "source": [
    "classifier = OutputCodeClassifier(grid)\n",
    "\n",
    "start_time = time.time()\n",
    "classifier.fit(X_train, y_train.ravel())\n",
    "end_time = time.time()\n",
    "\n",
    "svm_outputCode_time = end_time - start_time \n",
    "print(f'Training time: {svm_outputCode_time}')\n",
    "\n",
    "y_train_pred = classifier.predict(X_train)\n",
    "svm_outputCode_train_accuracy = accuracy_score(y_train, y_train_pred)\n",
    "print(f'Train Accuracy: {svm_outputCode_train_accuracy}')\n",
    "\n",
    "y_test_pred = classifier.predict(X_test)\n",
    "svm_outputCode_test_accuracy = accuracy_score(y_test, y_test_pred)\n",
    "print(f'Test Accuracy: {svm_outputCode_test_accuracy}')"
   ]
  },
  {
   "cell_type": "markdown",
   "id": "43c2761b",
   "metadata": {},
   "source": [
    "### KNN"
   ]
  },
  {
   "cell_type": "code",
   "execution_count": 43,
   "id": "f9c1bdd8",
   "metadata": {},
   "outputs": [],
   "source": [
    "from sklearn.neighbors import KNeighborsClassifier\n",
    "\n",
    "hyper_params_dict = { \n",
    "    'model__n_neighbors': [1, 2, 3, 4, 5],\n",
    "    'model__leaf_size': [20, 40, 60, 80],\n",
    "    'model__weights': ['distance', 'uniform'],\n",
    "    'model__n_jobs': [-1]\n",
    "}\n",
    "\n",
    "fold_number = 3\n",
    "\n",
    "pipeline = Pipeline([('scalar', StandardScaler()), ('model', KNeighborsClassifier())])\n",
    "\n",
    "grid = GridSearchCV(pipeline, hyper_params_dict, scoring = 'roc_auc', cv = fold_number)"
   ]
  },
  {
   "cell_type": "markdown",
   "id": "5caa2e70",
   "metadata": {},
   "source": [
    "### OneUsRest"
   ]
  },
  {
   "cell_type": "code",
   "execution_count": 44,
   "id": "24d04cf7",
   "metadata": {},
   "outputs": [
    {
     "name": "stdout",
     "output_type": "stream",
     "text": [
      "Training time: 75.72481393814087\n",
      "Train Accuracy: 0.6319905869324474\n",
      "Test Accuracy: 0.4896640826873385\n"
     ]
    }
   ],
   "source": [
    "classifier = OneVsRestClassifier(grid)\n",
    "\n",
    "start_time = time.time()\n",
    "classifier.fit(X_train, y_train.ravel())\n",
    "end_time = time.time()\n",
    "\n",
    "knn_oneVsRest_time = end_time - start_time \n",
    "print(f'Training time: {knn_oneVsRest_time}')\n",
    "\n",
    "y_train_pred = classifier.predict(X_train)\n",
    "knn_oneVsRest_train_accuracy = accuracy_score(y_train, y_train_pred)\n",
    "print(f'Train Accuracy: {knn_oneVsRest_train_accuracy}')\n",
    "\n",
    "y_test_pred = classifier.predict(X_test)\n",
    "knn_oneVsRest_test_accuracy = accuracy_score(y_test, y_test_pred)\n",
    "print(f'Test Accuracy: {knn_oneVsRest_test_accuracy}')"
   ]
  },
  {
   "cell_type": "markdown",
   "id": "69d3aab5",
   "metadata": {},
   "source": [
    "### OneUsOne"
   ]
  },
  {
   "cell_type": "code",
   "execution_count": 45,
   "id": "3c4df392",
   "metadata": {},
   "outputs": [
    {
     "name": "stdout",
     "output_type": "stream",
     "text": [
      "Training time: 41.90096092224121\n",
      "Train Accuracy: 0.6265919158361019\n",
      "Test Accuracy: 0.49434754521963825\n"
     ]
    }
   ],
   "source": [
    "classifier = OneVsOneClassifier(grid)\n",
    "\n",
    "start_time = time.time()\n",
    "classifier.fit(X_train, y_train.ravel())\n",
    "end_time = time.time()\n",
    "\n",
    "knn_oneVsOne_time = end_time - start_time \n",
    "print(f'Training time: {knn_oneVsOne_time}')\n",
    "\n",
    "y_train_pred = classifier.predict(X_train)\n",
    "knn_oneVsOne_train_accuracy = accuracy_score(y_train, y_train_pred)\n",
    "print(f'Train Accuracy: {knn_oneVsOne_train_accuracy}')\n",
    "\n",
    "y_test_pred = classifier.predict(X_test)\n",
    "knn_oneVsOne_test_accuracy = accuracy_score(y_test, y_test_pred)\n",
    "print(f'Test Accuracy: {knn_oneVsOne_test_accuracy}')"
   ]
  },
  {
   "cell_type": "markdown",
   "id": "a577e35c",
   "metadata": {},
   "source": [
    "### OutputCode"
   ]
  },
  {
   "cell_type": "code",
   "execution_count": 46,
   "id": "53d82683",
   "metadata": {},
   "outputs": [
    {
     "name": "stdout",
     "output_type": "stream",
     "text": [
      "Training time: 102.81742358207703\n",
      "Train Accuracy: 0.6191860465116279\n",
      "Test Accuracy: 0.4672157622739018\n"
     ]
    }
   ],
   "source": [
    "classifier = OutputCodeClassifier(grid)\n",
    "\n",
    "start_time = time.time()\n",
    "classifier.fit(X_train, y_train.ravel())\n",
    "end_time = time.time()\n",
    "\n",
    "knn_outputCode_time = end_time - start_time \n",
    "print(f'Training time: {knn_outputCode_time}')\n",
    "\n",
    "y_train_pred = classifier.predict(X_train)\n",
    "knn_outputCode_train_accuracy = accuracy_score(y_train, y_train_pred)\n",
    "print(f'Train Accuracy: {knn_outputCode_train_accuracy}')\n",
    "\n",
    "y_test_pred = classifier.predict(X_test)\n",
    "knn_outputCode_test_accuracy = accuracy_score(y_test, y_test_pred)\n",
    "print(f'Test Accuracy: {knn_outputCode_test_accuracy}')"
   ]
  },
  {
   "cell_type": "markdown",
   "id": "65dc1fdd",
   "metadata": {},
   "source": [
    "## Naive Bayes\n"
   ]
  },
  {
   "cell_type": "code",
   "execution_count": 47,
   "id": "58aa743f",
   "metadata": {},
   "outputs": [],
   "source": [
    "from sklearn.naive_bayes import GaussianNB\n",
    "\n",
    "\n",
    "parameters = {'var_smoothing': np.logspace(0,-9, num=100)}\n",
    "grid = GridSearchCV(GaussianNB(), parameters, scoring='roc_auc', cv = 3).fit(X_train, y_train.ravel())"
   ]
  },
  {
   "cell_type": "markdown",
   "id": "7dc7fe4b",
   "metadata": {},
   "source": [
    "### OneUsRest"
   ]
  },
  {
   "cell_type": "code",
   "execution_count": 48,
   "id": "491851f5",
   "metadata": {},
   "outputs": [
    {
     "name": "stdout",
     "output_type": "stream",
     "text": [
      "Training time: 12.869529962539673\n",
      "Train Accuracy: 0.46677740863787376\n",
      "Test Accuracy: 0.4555878552971576\n"
     ]
    }
   ],
   "source": [
    "classifier = OneVsRestClassifier(grid)\n",
    "\n",
    "start_time = time.time()\n",
    "classifier.fit(X_train, y_train.ravel())\n",
    "end_time = time.time()\n",
    "\n",
    "nb_oneVsRest_time = end_time - start_time \n",
    "print(f'Training time: {nb_oneVsRest_time}')\n",
    "\n",
    "y_train_pred = classifier.predict(X_train)\n",
    "nb_oneVsRest_train_accuracy = accuracy_score(y_train, y_train_pred)\n",
    "print(f'Train Accuracy: {nb_oneVsRest_train_accuracy}')\n",
    "\n",
    "y_test_pred = classifier.predict(X_test)\n",
    "nb_oneVsRest_test_accuracy = accuracy_score(y_test, y_test_pred)\n",
    "print(f'Test Accuracy: {nb_oneVsRest_test_accuracy}')"
   ]
  },
  {
   "cell_type": "markdown",
   "id": "11e87ce9",
   "metadata": {},
   "source": [
    "### OneUsOne"
   ]
  },
  {
   "cell_type": "code",
   "execution_count": 51,
   "id": "aa4ea638",
   "metadata": {},
   "outputs": [
    {
     "name": "stdout",
     "output_type": "stream",
     "text": [
      "Training time: 8.337671756744385\n",
      "Train Accuracy: 0.46124031007751937\n",
      "Test Accuracy: 0.4583333333333333\n"
     ]
    }
   ],
   "source": [
    "classifier = OneVsOneClassifier(grid)\n",
    "\n",
    "start_time = time.time()\n",
    "classifier.fit(X_train, y_train.ravel())\n",
    "end_time = time.time()\n",
    "\n",
    "nb_oneVsOne_time = end_time - start_time \n",
    "print(f'Training time: {nb_oneVsOne_time}')\n",
    "\n",
    "y_train_pred = classifier.predict(X_train)\n",
    "nb_oneVsOne_train_accuracy = accuracy_score(y_train, y_train_pred)\n",
    "print(f'Train Accuracy: {nb_oneVsOne_train_accuracy}')\n",
    "\n",
    "y_test_pred = classifier.predict(X_test)\n",
    "nb_oneVsOne_test_accuracy = accuracy_score(y_test, y_test_pred)\n",
    "print(f'Test Accuracy: {nb_oneVsOne_test_accuracy}')"
   ]
  },
  {
   "cell_type": "markdown",
   "id": "a75f3937",
   "metadata": {},
   "source": [
    "### OutputCode"
   ]
  },
  {
   "cell_type": "code",
   "execution_count": 52,
   "id": "3abdac13",
   "metadata": {},
   "outputs": [
    {
     "name": "stdout",
     "output_type": "stream",
     "text": [
      "Training time: 8.540462732315063\n",
      "Train Accuracy: 0.3966638981173865\n",
      "Test Accuracy: 0.4055232558139535\n"
     ]
    }
   ],
   "source": [
    "classifier = OutputCodeClassifier(grid)\n",
    "\n",
    "start_time = time.time()\n",
    "classifier.fit(X_train, y_train.ravel())\n",
    "end_time = time.time()\n",
    "\n",
    "nb_outputCode_time = end_time - start_time \n",
    "print(f'Training time: {nb_outputCode_time}')\n",
    "\n",
    "y_train_pred = classifier.predict(X_train)\n",
    "nb_outputCode_train_accuracy = accuracy_score(y_train, y_train_pred)\n",
    "print(f'Train Accuracy: {nb_outputCode_train_accuracy}')\n",
    "\n",
    "y_test_pred = classifier.predict(X_test)\n",
    "nb_outputCode_test_accuracy = accuracy_score(y_test, y_test_pred)\n",
    "print(f'Test Accuracy: {nb_outputCode_test_accuracy}')"
   ]
  },
  {
   "cell_type": "markdown",
   "id": "7b5f86b8",
   "metadata": {},
   "source": [
    "## Decision Tree\n"
   ]
  },
  {
   "cell_type": "code",
   "execution_count": 53,
   "id": "4ac2de5b",
   "metadata": {},
   "outputs": [],
   "source": [
    "from sklearn.tree import DecisionTreeClassifier\n",
    "\n",
    "hyper_params_dict = {\n",
    "     \"model__max_depth\": np.arange(1,21),\n",
    "     \"model__criterion\": [\"gini\"],\n",
    "}\n",
    "\n",
    "fold_number = 3\n",
    "\n",
    "pipeline = Pipeline([('scalar', StandardScaler()), ('model', DecisionTreeClassifier())])\n",
    "\n",
    "grid = GridSearchCV(pipeline, hyper_params_dict, scoring = 'roc_auc', cv = fold_number)"
   ]
  },
  {
   "cell_type": "markdown",
   "id": "c6703d8d",
   "metadata": {},
   "source": [
    "### OneUsRest"
   ]
  },
  {
   "cell_type": "code",
   "execution_count": 54,
   "id": "51efcbdc",
   "metadata": {},
   "outputs": [
    {
     "name": "stdout",
     "output_type": "stream",
     "text": [
      "Training time: 6.373146295547485\n",
      "Train Accuracy: 0.5464424141749723\n",
      "Test Accuracy: 0.5179263565891473\n"
     ]
    }
   ],
   "source": [
    "classifier = OneVsRestClassifier(grid)\n",
    "\n",
    "start_time = time.time()\n",
    "classifier.fit(X_train, y_train.ravel())\n",
    "end_time = time.time()\n",
    "\n",
    "dt_oneVsRest_time = end_time - start_time \n",
    "print(f'Training time: {dt_oneVsRest_time}')\n",
    "\n",
    "y_train_pred = classifier.predict(X_train)\n",
    "dt_oneVsRest_train_accuracy = accuracy_score(y_train, y_train_pred)\n",
    "print(f'Train Accuracy: {dt_oneVsRest_train_accuracy}')\n",
    "\n",
    "y_test_pred = classifier.predict(X_test)\n",
    "dt_oneVsRest_test_accuracy = accuracy_score(y_test, y_test_pred)\n",
    "print(f'Test Accuracy: {dt_oneVsRest_test_accuracy}')"
   ]
  },
  {
   "cell_type": "markdown",
   "id": "65dcad1e",
   "metadata": {},
   "source": [
    "### OneUsOne\n"
   ]
  },
  {
   "cell_type": "code",
   "execution_count": 55,
   "id": "7f056aa3",
   "metadata": {},
   "outputs": [
    {
     "name": "stdout",
     "output_type": "stream",
     "text": [
      "Training time: 4.87842059135437\n",
      "Train Accuracy: 0.528516057585825\n",
      "Test Accuracy: 0.5142118863049095\n"
     ]
    }
   ],
   "source": [
    "classifier = OneVsOneClassifier(grid)\n",
    "\n",
    "start_time = time.time()\n",
    "classifier.fit(X_train, y_train.ravel())\n",
    "end_time = time.time()\n",
    "\n",
    "dt_oneVsOne_time = end_time - start_time \n",
    "print(f'Training time: {dt_oneVsOne_time}')\n",
    "\n",
    "y_train_pred = classifier.predict(X_train)\n",
    "dt_oneVsOne_train_accuracy = accuracy_score(y_train, y_train_pred)\n",
    "print(f'Train Accuracy: {dt_oneVsOne_train_accuracy}')\n",
    "\n",
    "y_test_pred = classifier.predict(X_test)\n",
    "dt_oneVsOne_test_accuracy = accuracy_score(y_test, y_test_pred)\n",
    "print(f'Test Accuracy: {dt_oneVsOne_test_accuracy}')"
   ]
  },
  {
   "cell_type": "markdown",
   "id": "6e685b80",
   "metadata": {},
   "source": [
    "### OutputCode"
   ]
  },
  {
   "cell_type": "code",
   "execution_count": 57,
   "id": "5ff45c43",
   "metadata": {},
   "outputs": [
    {
     "name": "stdout",
     "output_type": "stream",
     "text": [
      "Training time: 8.004969835281372\n",
      "Train Accuracy: 0.5316306755260244\n",
      "Test Accuracy: 0.5104974160206718\n"
     ]
    }
   ],
   "source": [
    "classifier = OutputCodeClassifier(grid)\n",
    "\n",
    "start_time = time.time()\n",
    "classifier.fit(X_train, y_train.ravel())\n",
    "end_time = time.time()\n",
    "\n",
    "dt_outputCode_time = end_time - start_time \n",
    "print(f'Training time: {dt_outputCode_time}')\n",
    "\n",
    "y_train_pred = classifier.predict(X_train)\n",
    "dt_outputCode_train_accuracy = accuracy_score(y_train, y_train_pred)\n",
    "print(f'Train Accuracy: {dt_outputCode_train_accuracy}')\n",
    "\n",
    "y_test_pred = classifier.predict(X_test)\n",
    "dt_outputCode_test_accuracy = accuracy_score(y_test, y_test_pred)\n",
    "print(f'Test Accuracy: {dt_outputCode_test_accuracy}')"
   ]
  },
  {
   "cell_type": "markdown",
   "id": "998ddd06",
   "metadata": {},
   "source": [
    "## Выводы"
   ]
  },
  {
   "cell_type": "markdown",
   "id": "63021ce3",
   "metadata": {},
   "source": [
    "### Промежуточные выводы о точности методов и стратегий"
   ]
  },
  {
   "cell_type": "markdown",
   "id": "31a94836",
   "metadata": {},
   "source": [
    "Сделаем таблицу с данными"
   ]
  },
  {
   "cell_type": "code",
   "execution_count": 58,
   "id": "be958cdf",
   "metadata": {},
   "outputs": [
    {
     "data": {
      "text/html": [
       "<div>\n",
       "<style scoped>\n",
       "    .dataframe tbody tr th:only-of-type {\n",
       "        vertical-align: middle;\n",
       "    }\n",
       "\n",
       "    .dataframe tbody tr th {\n",
       "        vertical-align: top;\n",
       "    }\n",
       "\n",
       "    .dataframe thead th {\n",
       "        text-align: right;\n",
       "    }\n",
       "</style>\n",
       "<table border=\"1\" class=\"dataframe\">\n",
       "  <thead>\n",
       "    <tr style=\"text-align: right;\">\n",
       "      <th></th>\n",
       "      <th>stratagies\\methods</th>\n",
       "      <th>lr train</th>\n",
       "      <th>lr test</th>\n",
       "      <th>svm train</th>\n",
       "      <th>svm test</th>\n",
       "      <th>knn train</th>\n",
       "      <th>knn test</th>\n",
       "      <th>nb train</th>\n",
       "      <th>nb test</th>\n",
       "      <th>dt train</th>\n",
       "      <th>dt test</th>\n",
       "    </tr>\n",
       "  </thead>\n",
       "  <tbody>\n",
       "    <tr>\n",
       "      <th>0</th>\n",
       "      <td>OneVsRest</td>\n",
       "      <td>0.480482</td>\n",
       "      <td>0.483850</td>\n",
       "      <td>0.359635</td>\n",
       "      <td>0.366118</td>\n",
       "      <td>0.631991</td>\n",
       "      <td>0.489664</td>\n",
       "      <td>0.466777</td>\n",
       "      <td>0.455588</td>\n",
       "      <td>0.546442</td>\n",
       "      <td>0.517926</td>\n",
       "    </tr>\n",
       "    <tr>\n",
       "      <th>1</th>\n",
       "      <td>OneVsOne</td>\n",
       "      <td>0.483181</td>\n",
       "      <td>0.490472</td>\n",
       "      <td>0.367456</td>\n",
       "      <td>0.369832</td>\n",
       "      <td>0.626592</td>\n",
       "      <td>0.494348</td>\n",
       "      <td>0.461240</td>\n",
       "      <td>0.458333</td>\n",
       "      <td>0.528516</td>\n",
       "      <td>0.514212</td>\n",
       "    </tr>\n",
       "    <tr>\n",
       "      <th>2</th>\n",
       "      <td>OutputCode</td>\n",
       "      <td>0.466847</td>\n",
       "      <td>0.474160</td>\n",
       "      <td>0.329042</td>\n",
       "      <td>0.335271</td>\n",
       "      <td>0.619186</td>\n",
       "      <td>0.467216</td>\n",
       "      <td>0.396664</td>\n",
       "      <td>0.405523</td>\n",
       "      <td>0.531631</td>\n",
       "      <td>0.510497</td>\n",
       "    </tr>\n",
       "  </tbody>\n",
       "</table>\n",
       "</div>"
      ],
      "text/plain": [
       "  stratagies\\methods  lr train   lr test  svm train  svm test  knn train  \\\n",
       "0          OneVsRest  0.480482  0.483850   0.359635  0.366118   0.631991   \n",
       "1           OneVsOne  0.483181  0.490472   0.367456  0.369832   0.626592   \n",
       "2         OutputCode  0.466847  0.474160   0.329042  0.335271   0.619186   \n",
       "\n",
       "   knn test  nb train   nb test  dt train   dt test  \n",
       "0  0.489664  0.466777  0.455588  0.546442  0.517926  \n",
       "1  0.494348  0.461240  0.458333  0.528516  0.514212  \n",
       "2  0.467216  0.396664  0.405523  0.531631  0.510497  "
      ]
     },
     "execution_count": 58,
     "metadata": {},
     "output_type": "execute_result"
    }
   ],
   "source": [
    "table = {\n",
    "    'stratagies\\methods': ['OneVsRest', 'OneVsOne', 'OutputCode'],\n",
    "    'lr train':[lr_oneVsRest_train_accuracy, lr_oneVsOne_train_accuracy, lr_outputCode_train_accuracy],\n",
    "    'lr test': [lr_oneVsRest_test_accuracy, lr_oneVsOne_test_accuracy, lr_outputCode_test_accuracy],\n",
    "    'svm train': [svm_oneVsRest_train_accuracy, svm_oneVsOne_train_accuracy, svm_outputCode_train_accuracy],\n",
    "    'svm test': [svm_oneVsRest_test_accuracy, svm_oneVsOne_test_accuracy, svm_outputCode_test_accuracy],\n",
    "    'knn train':[knn_oneVsRest_train_accuracy, knn_oneVsOne_train_accuracy, knn_outputCode_train_accuracy],\n",
    "    'knn test': [knn_oneVsRest_test_accuracy,knn_oneVsOne_test_accuracy, knn_outputCode_test_accuracy],\n",
    "    'nb train': [nb_oneVsRest_train_accuracy, nb_oneVsOne_train_accuracy, nb_outputCode_train_accuracy],\n",
    "    'nb test': [nb_oneVsRest_test_accuracy, nb_oneVsOne_test_accuracy, nb_outputCode_test_accuracy],\n",
    "    'dt train':[dt_oneVsRest_train_accuracy, dt_oneVsOne_train_accuracy, dt_outputCode_train_accuracy],\n",
    "    'dt test': [dt_oneVsRest_test_accuracy, dt_oneVsOne_test_accuracy, dt_outputCode_test_accuracy],\n",
    "}\n",
    "\n",
    "pd.DataFrame(data=table)"
   ]
  },
  {
   "cell_type": "markdown",
   "id": "b4e9cca6",
   "metadata": {},
   "source": [
    "Как видно по точности почти везде выигрывает стратегия OneVsOne, хотя на некоторых измерениях ее опережает OneVsRest. Худшая стратегия оказалась OutputCode. Из методов можно выделить decision tree, который дал лучший результат на тестовой выборке. SVM же оказалася наиболее худший метод по точности."
   ]
  },
  {
   "cell_type": "markdown",
   "id": "e7c0e02c",
   "metadata": {},
   "source": [
    "### Промежуточные выводы о продолжительности обучения методов и стратегий"
   ]
  },
  {
   "cell_type": "code",
   "execution_count": 60,
   "id": "3ed004d1",
   "metadata": {},
   "outputs": [
    {
     "data": {
      "text/html": [
       "<div>\n",
       "<style scoped>\n",
       "    .dataframe tbody tr th:only-of-type {\n",
       "        vertical-align: middle;\n",
       "    }\n",
       "\n",
       "    .dataframe tbody tr th {\n",
       "        vertical-align: top;\n",
       "    }\n",
       "\n",
       "    .dataframe thead th {\n",
       "        text-align: right;\n",
       "    }\n",
       "</style>\n",
       "<table border=\"1\" class=\"dataframe\">\n",
       "  <thead>\n",
       "    <tr style=\"text-align: right;\">\n",
       "      <th></th>\n",
       "      <th>stratagies\\methods</th>\n",
       "      <th>lr train</th>\n",
       "      <th>svm train</th>\n",
       "      <th>knn train</th>\n",
       "      <th>nb train</th>\n",
       "      <th>dt train</th>\n",
       "    </tr>\n",
       "  </thead>\n",
       "  <tbody>\n",
       "    <tr>\n",
       "      <th>0</th>\n",
       "      <td>OneVsRest</td>\n",
       "      <td>24.751905</td>\n",
       "      <td>144.327867</td>\n",
       "      <td>75.724814</td>\n",
       "      <td>12.869530</td>\n",
       "      <td>6.373146</td>\n",
       "    </tr>\n",
       "    <tr>\n",
       "      <th>1</th>\n",
       "      <td>OneVsOne</td>\n",
       "      <td>10.224496</td>\n",
       "      <td>50.145805</td>\n",
       "      <td>41.900961</td>\n",
       "      <td>8.337672</td>\n",
       "      <td>4.878421</td>\n",
       "    </tr>\n",
       "    <tr>\n",
       "      <th>2</th>\n",
       "      <td>OutputCode</td>\n",
       "      <td>25.485752</td>\n",
       "      <td>242.555958</td>\n",
       "      <td>102.817424</td>\n",
       "      <td>8.540463</td>\n",
       "      <td>8.004970</td>\n",
       "    </tr>\n",
       "  </tbody>\n",
       "</table>\n",
       "</div>"
      ],
      "text/plain": [
       "  stratagies\\methods   lr train   svm train   knn train   nb train  dt train\n",
       "0          OneVsRest  24.751905  144.327867   75.724814  12.869530  6.373146\n",
       "1           OneVsOne  10.224496   50.145805   41.900961   8.337672  4.878421\n",
       "2         OutputCode  25.485752  242.555958  102.817424   8.540463  8.004970"
      ]
     },
     "execution_count": 60,
     "metadata": {},
     "output_type": "execute_result"
    }
   ],
   "source": [
    "table = {\n",
    "    'stratagies\\methods': ['OneVsRest', 'OneVsOne', 'OutputCode'],\n",
    "    'lr train':[lr_oneVsRest_time, lr_oneVsOne_time, lr_outputCode_time],\n",
    "    'svm train': [svm_oneVsRest_time, svm_oneVsOne_time, svm_outputCode_time],\n",
    "    'knn train':[knn_oneVsRest_time, knn_oneVsOne_time, knn_outputCode_time],\n",
    "    'nb train': [nb_oneVsRest_time, nb_oneVsOne_time, nb_outputCode_time],\n",
    "    'dt train':[dt_oneVsRest_time, dt_oneVsOne_time, dt_outputCode_time],\n",
    "}\n",
    "\n",
    "pd.DataFrame(data=table)"
   ]
  },
  {
   "cell_type": "markdown",
   "id": "588c6e9c",
   "metadata": {},
   "source": [
    "Здесь напрашивается вывод, что метод SVM дает плохой результат по продолжительности обучения. А вот метод решающих деревьев дает очень положительный результат. Также наиболее быстрое обучение происходило при стратегии OneVsOne"
   ]
  },
  {
   "cell_type": "markdown",
   "id": "3470482e",
   "metadata": {},
   "source": [
    "### Общие выводы"
   ]
  },
  {
   "cell_type": "markdown",
   "id": "6ef9e50f",
   "metadata": {},
   "source": [
    "Если суммировать оба параметра, то напрашивается вывод, что наиболее лучшая стратегия -- это  OneVsOne. Она дает наиболее лучший результат в наиболее сжатые сроки. Также лучше использовать метод решающих деревьев или KNN"
   ]
  },
  {
   "cell_type": "code",
   "execution_count": null,
   "id": "68169d76",
   "metadata": {},
   "outputs": [],
   "source": []
  }
 ],
 "metadata": {
  "kernelspec": {
   "display_name": "Python 3 (ipykernel)",
   "language": "python",
   "name": "python3"
  },
  "language_info": {
   "codemirror_mode": {
    "name": "ipython",
    "version": 3
   },
   "file_extension": ".py",
   "mimetype": "text/x-python",
   "name": "python",
   "nbconvert_exporter": "python",
   "pygments_lexer": "ipython3",
   "version": "3.9.7"
  }
 },
 "nbformat": 4,
 "nbformat_minor": 5
}
